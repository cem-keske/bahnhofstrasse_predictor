{
 "cells": [
  {
   "cell_type": "code",
   "execution_count": 1,
   "metadata": {
    "ExecuteTime": {
     "end_time": "2024-03-05T21:54:04.820587900Z",
     "start_time": "2024-03-05T21:54:02.770073600Z"
    }
   },
   "outputs": [],
   "source": [
    "import numpy as np\n",
    "import pandas as pd\n",
    "\n",
    "from datetime import datetime\n",
    "from sklearn.model_selection import train_test_split\n",
    "from sklearn.linear_model import LinearRegression\n",
    "\n",
    "from is_holiday import check_holiday\n",
    "from utilites import hour_features, day_features, dayofyear_features\n",
    "\n",
    "from datetime import datetime\n",
    "import matplotlib.pyplot as plt\n",
    "import matplotlib"
   ]
  },
  {
   "cell_type": "code",
   "execution_count": 2,
   "metadata": {
    "ExecuteTime": {
     "end_time": "2024-03-05T21:54:04.828100700Z",
     "start_time": "2024-03-05T21:54:04.824587Z"
    }
   },
   "outputs": [],
   "source": [
    "def encode(original_dataframe: pd.DataFrame, \n",
    "    feature_to_encode: str) -> pd.DataFrame:\n",
    "    \n",
    "    dummies = pd.get_dummies(original_dataframe[[feature_to_encode]], dtype=int)\n",
    "    res = pd.concat([original_dataframe, dummies], axis=1)\n",
    "    return res.drop(columns=feature_to_encode)\n",
    "\n",
    "def load_and_preprocess(path: str) -> pd.DataFrame:\n",
    "    df = pd.read_csv(path)\n",
    "    # Drop unnecessary columns\n",
    "    df = df[['timestamp', 'location_id', 'weather_condition', 'temperature', 'pedestrians_count']]\n",
    "    \n",
    "    # Rearrange date\n",
    "    df['date'] = df.apply(lambda row: str(datetime.strptime(row['timestamp'], '%Y-%m-%dT%H:%M:%SZ')), axis = 1)\n",
    "    df = df.drop(columns='timestamp')\n",
    "\n",
    "    # One-hot encoding for weather\n",
    "    df = encode(df, 'weather_condition')\n",
    "    return df\n"
   ]
  },
  {
   "cell_type": "code",
   "execution_count": 3,
   "metadata": {
    "ExecuteTime": {
     "end_time": "2024-03-05T21:54:06.042663700Z",
     "start_time": "2024-03-05T21:54:04.829103Z"
    }
   },
   "outputs": [
    {
     "data": {
      "text/plain": "       location_id  temperature  pedestrians_count                 date  \\\n0              329        13.51                151  2021-09-28 22:00:00   \n1              331        13.51                118  2021-09-28 22:00:00   \n2              330        13.51                203  2021-09-28 22:00:00   \n3              329        13.46                 19  2021-09-28 23:00:00   \n4              331        13.46                  7  2021-09-28 23:00:00   \n...            ...          ...                ...                  ...   \n63979          331         6.80               2053  2024-03-05 12:00:00   \n63980          330         6.80               1394  2024-03-05 12:00:00   \n63981          329         6.90                644  2024-03-05 13:00:00   \n63982          331         6.90                477  2024-03-05 13:00:00   \n63983          330         6.90                433  2024-03-05 13:00:00   \n\n       weather_condition_clear-day  weather_condition_clear-night  \\\n0                                0                              0   \n1                                0                              0   \n2                                0                              0   \n3                                0                              0   \n4                                0                              0   \n...                            ...                            ...   \n63979                            0                              0   \n63980                            0                              0   \n63981                            0                              0   \n63982                            0                              0   \n63983                            0                              0   \n\n       weather_condition_cloudy  weather_condition_fog  \\\n0                             1                      0   \n1                             1                      0   \n2                             1                      0   \n3                             1                      0   \n4                             1                      0   \n...                         ...                    ...   \n63979                         0                      0   \n63980                         0                      0   \n63981                         0                      0   \n63982                         0                      0   \n63983                         0                      0   \n\n       weather_condition_partly-cloudy-day  \\\n0                                        0   \n1                                        0   \n2                                        0   \n3                                        0   \n4                                        0   \n...                                    ...   \n63979                                    0   \n63980                                    0   \n63981                                    0   \n63982                                    0   \n63983                                    0   \n\n       weather_condition_partly-cloudy-night  weather_condition_rain  \\\n0                                          0                       0   \n1                                          0                       0   \n2                                          0                       0   \n3                                          0                       0   \n4                                          0                       0   \n...                                      ...                     ...   \n63979                                      0                       1   \n63980                                      0                       1   \n63981                                      0                       1   \n63982                                      0                       1   \n63983                                      0                       1   \n\n       weather_condition_snow  weather_condition_wind  \n0                           0                       0  \n1                           0                       0  \n2                           0                       0  \n3                           0                       0  \n4                           0                       0  \n...                       ...                     ...  \n63979                       0                       0  \n63980                       0                       0  \n63981                       0                       0  \n63982                       0                       0  \n63983                       0                       0  \n\n[63984 rows x 13 columns]",
      "text/html": "<div>\n<style scoped>\n    .dataframe tbody tr th:only-of-type {\n        vertical-align: middle;\n    }\n\n    .dataframe tbody tr th {\n        vertical-align: top;\n    }\n\n    .dataframe thead th {\n        text-align: right;\n    }\n</style>\n<table border=\"1\" class=\"dataframe\">\n  <thead>\n    <tr style=\"text-align: right;\">\n      <th></th>\n      <th>location_id</th>\n      <th>temperature</th>\n      <th>pedestrians_count</th>\n      <th>date</th>\n      <th>weather_condition_clear-day</th>\n      <th>weather_condition_clear-night</th>\n      <th>weather_condition_cloudy</th>\n      <th>weather_condition_fog</th>\n      <th>weather_condition_partly-cloudy-day</th>\n      <th>weather_condition_partly-cloudy-night</th>\n      <th>weather_condition_rain</th>\n      <th>weather_condition_snow</th>\n      <th>weather_condition_wind</th>\n    </tr>\n  </thead>\n  <tbody>\n    <tr>\n      <th>0</th>\n      <td>329</td>\n      <td>13.51</td>\n      <td>151</td>\n      <td>2021-09-28 22:00:00</td>\n      <td>0</td>\n      <td>0</td>\n      <td>1</td>\n      <td>0</td>\n      <td>0</td>\n      <td>0</td>\n      <td>0</td>\n      <td>0</td>\n      <td>0</td>\n    </tr>\n    <tr>\n      <th>1</th>\n      <td>331</td>\n      <td>13.51</td>\n      <td>118</td>\n      <td>2021-09-28 22:00:00</td>\n      <td>0</td>\n      <td>0</td>\n      <td>1</td>\n      <td>0</td>\n      <td>0</td>\n      <td>0</td>\n      <td>0</td>\n      <td>0</td>\n      <td>0</td>\n    </tr>\n    <tr>\n      <th>2</th>\n      <td>330</td>\n      <td>13.51</td>\n      <td>203</td>\n      <td>2021-09-28 22:00:00</td>\n      <td>0</td>\n      <td>0</td>\n      <td>1</td>\n      <td>0</td>\n      <td>0</td>\n      <td>0</td>\n      <td>0</td>\n      <td>0</td>\n      <td>0</td>\n    </tr>\n    <tr>\n      <th>3</th>\n      <td>329</td>\n      <td>13.46</td>\n      <td>19</td>\n      <td>2021-09-28 23:00:00</td>\n      <td>0</td>\n      <td>0</td>\n      <td>1</td>\n      <td>0</td>\n      <td>0</td>\n      <td>0</td>\n      <td>0</td>\n      <td>0</td>\n      <td>0</td>\n    </tr>\n    <tr>\n      <th>4</th>\n      <td>331</td>\n      <td>13.46</td>\n      <td>7</td>\n      <td>2021-09-28 23:00:00</td>\n      <td>0</td>\n      <td>0</td>\n      <td>1</td>\n      <td>0</td>\n      <td>0</td>\n      <td>0</td>\n      <td>0</td>\n      <td>0</td>\n      <td>0</td>\n    </tr>\n    <tr>\n      <th>...</th>\n      <td>...</td>\n      <td>...</td>\n      <td>...</td>\n      <td>...</td>\n      <td>...</td>\n      <td>...</td>\n      <td>...</td>\n      <td>...</td>\n      <td>...</td>\n      <td>...</td>\n      <td>...</td>\n      <td>...</td>\n      <td>...</td>\n    </tr>\n    <tr>\n      <th>63979</th>\n      <td>331</td>\n      <td>6.80</td>\n      <td>2053</td>\n      <td>2024-03-05 12:00:00</td>\n      <td>0</td>\n      <td>0</td>\n      <td>0</td>\n      <td>0</td>\n      <td>0</td>\n      <td>0</td>\n      <td>1</td>\n      <td>0</td>\n      <td>0</td>\n    </tr>\n    <tr>\n      <th>63980</th>\n      <td>330</td>\n      <td>6.80</td>\n      <td>1394</td>\n      <td>2024-03-05 12:00:00</td>\n      <td>0</td>\n      <td>0</td>\n      <td>0</td>\n      <td>0</td>\n      <td>0</td>\n      <td>0</td>\n      <td>1</td>\n      <td>0</td>\n      <td>0</td>\n    </tr>\n    <tr>\n      <th>63981</th>\n      <td>329</td>\n      <td>6.90</td>\n      <td>644</td>\n      <td>2024-03-05 13:00:00</td>\n      <td>0</td>\n      <td>0</td>\n      <td>0</td>\n      <td>0</td>\n      <td>0</td>\n      <td>0</td>\n      <td>1</td>\n      <td>0</td>\n      <td>0</td>\n    </tr>\n    <tr>\n      <th>63982</th>\n      <td>331</td>\n      <td>6.90</td>\n      <td>477</td>\n      <td>2024-03-05 13:00:00</td>\n      <td>0</td>\n      <td>0</td>\n      <td>0</td>\n      <td>0</td>\n      <td>0</td>\n      <td>0</td>\n      <td>1</td>\n      <td>0</td>\n      <td>0</td>\n    </tr>\n    <tr>\n      <th>63983</th>\n      <td>330</td>\n      <td>6.90</td>\n      <td>433</td>\n      <td>2024-03-05 13:00:00</td>\n      <td>0</td>\n      <td>0</td>\n      <td>0</td>\n      <td>0</td>\n      <td>0</td>\n      <td>0</td>\n      <td>1</td>\n      <td>0</td>\n      <td>0</td>\n    </tr>\n  </tbody>\n</table>\n<p>63984 rows × 13 columns</p>\n</div>"
     },
     "execution_count": 3,
     "metadata": {},
     "output_type": "execute_result"
    }
   ],
   "source": [
    "path = 'data/hystreet_fussgaengerfrequenzen_seit2021.csv'\n",
    "df = load_and_preprocess(path)\n",
    "df"
   ]
  },
  {
   "cell_type": "code",
   "execution_count": 4,
   "metadata": {
    "ExecuteTime": {
     "end_time": "2024-03-05T21:54:07.606378500Z",
     "start_time": "2024-03-05T21:54:06.040666100Z"
    }
   },
   "outputs": [
    {
     "name": "stdout",
     "output_type": "stream",
     "text": [
      "       location_id  temperature  pedestrians_count                 date  \\\n",
      "0              329        13.51                151  2021-09-28 22:00:00   \n",
      "3              329        13.46                 19  2021-09-28 23:00:00   \n",
      "6              329        13.26                 10  2021-09-29 00:00:00   \n",
      "9              329        13.51                  6  2021-09-29 01:00:00   \n",
      "12             329        13.44                 22  2021-09-29 02:00:00   \n",
      "...            ...          ...                ...                  ...   \n",
      "63969          329         6.00               1507  2024-03-05 09:00:00   \n",
      "63972          329         6.00               2280  2024-03-05 10:00:00   \n",
      "63975          329         7.00               3216  2024-03-05 11:00:00   \n",
      "63978          329         6.80               2858  2024-03-05 12:00:00   \n",
      "63981          329         6.90                644  2024-03-05 13:00:00   \n",
      "\n",
      "       weather_condition_clear-day  weather_condition_clear-night  \\\n",
      "0                                0                              0   \n",
      "3                                0                              0   \n",
      "6                                0                              0   \n",
      "9                                0                              0   \n",
      "12                               0                              0   \n",
      "...                            ...                            ...   \n",
      "63969                            0                              0   \n",
      "63972                            0                              0   \n",
      "63975                            0                              0   \n",
      "63978                            0                              0   \n",
      "63981                            0                              0   \n",
      "\n",
      "       weather_condition_cloudy  weather_condition_fog  \\\n",
      "0                             1                      0   \n",
      "3                             1                      0   \n",
      "6                             0                      0   \n",
      "9                             0                      0   \n",
      "12                            0                      0   \n",
      "...                         ...                    ...   \n",
      "63969                         0                      0   \n",
      "63972                         0                      0   \n",
      "63975                         0                      0   \n",
      "63978                         0                      0   \n",
      "63981                         0                      0   \n",
      "\n",
      "       weather_condition_partly-cloudy-day  \\\n",
      "0                                        0   \n",
      "3                                        0   \n",
      "6                                        0   \n",
      "9                                        0   \n",
      "12                                       0   \n",
      "...                                    ...   \n",
      "63969                                    0   \n",
      "63972                                    0   \n",
      "63975                                    0   \n",
      "63978                                    0   \n",
      "63981                                    0   \n",
      "\n",
      "       weather_condition_partly-cloudy-night  weather_condition_rain  \\\n",
      "0                                          0                       0   \n",
      "3                                          0                       0   \n",
      "6                                          0                       1   \n",
      "9                                          0                       1   \n",
      "12                                         0                       1   \n",
      "...                                      ...                     ...   \n",
      "63969                                      0                       1   \n",
      "63972                                      0                       1   \n",
      "63975                                      0                       1   \n",
      "63978                                      0                       1   \n",
      "63981                                      0                       1   \n",
      "\n",
      "       weather_condition_snow  weather_condition_wind  \n",
      "0                           0                       0  \n",
      "3                           0                       0  \n",
      "6                           0                       0  \n",
      "9                           0                       0  \n",
      "12                          0                       0  \n",
      "...                       ...                     ...  \n",
      "63969                       0                       0  \n",
      "63972                       0                       0  \n",
      "63975                       0                       0  \n",
      "63978                       0                       0  \n",
      "63981                       0                       0  \n",
      "\n",
      "[21328 rows x 13 columns]\n"
     ]
    },
    {
     "data": {
      "text/plain": "       temperature  pedestrians_count  weather_condition_clear-day  \\\n0            13.51                151                            0   \n3            13.46                 19                            0   \n6            13.26                 10                            0   \n9            13.51                  6                            0   \n12           13.44                 22                            0   \n...            ...                ...                          ...   \n63969         6.00               1507                            0   \n63972         6.00               2280                            0   \n63975         7.00               3216                            0   \n63978         6.80               2858                            0   \n63981         6.90                644                            0   \n\n       weather_condition_clear-night  weather_condition_cloudy  \\\n0                                  0                         1   \n3                                  0                         1   \n6                                  0                         0   \n9                                  0                         0   \n12                                 0                         0   \n...                              ...                       ...   \n63969                              0                         0   \n63972                              0                         0   \n63975                              0                         0   \n63978                              0                         0   \n63981                              0                         0   \n\n       weather_condition_fog  weather_condition_partly-cloudy-day  \\\n0                          0                                    0   \n3                          0                                    0   \n6                          0                                    0   \n9                          0                                    0   \n12                         0                                    0   \n...                      ...                                  ...   \n63969                      0                                    0   \n63972                      0                                    0   \n63975                      0                                    0   \n63978                      0                                    0   \n63981                      0                                    0   \n\n       weather_condition_partly-cloudy-night  weather_condition_rain  \\\n0                                          0                       0   \n3                                          0                       0   \n6                                          0                       1   \n9                                          0                       1   \n12                                         0                       1   \n...                                      ...                     ...   \n63969                                      0                       1   \n63972                                      0                       1   \n63975                                      0                       1   \n63978                                      0                       1   \n63981                                      0                       1   \n\n       weather_condition_snow  weather_condition_wind  holiday  time_cos  \\\n0                           0                       0        0  0.866025   \n3                           0                       0        0  0.965926   \n6                           0                       0        0  1.000000   \n9                           0                       0        0  0.965926   \n12                          0                       0        0  0.866025   \n...                       ...                     ...      ...       ...   \n63969                       0                       0        0 -0.707107   \n63972                       0                       0        0 -0.866025   \n63975                       0                       0        0 -0.965926   \n63978                       0                       0        0 -1.000000   \n63981                       0                       0        0 -0.965926   \n\n           time_sin   day_cos   day_sin  dayofyear_cos  dayofyear_sin  \n0     -5.000000e-01  0.623490  0.781831      -0.047321      -0.998880  \n3     -2.588190e-01  0.623490  0.781831      -0.047321      -0.998880  \n6      0.000000e+00 -0.222521  0.974928      -0.030120      -0.999546  \n9      2.588190e-01 -0.222521  0.974928      -0.030120      -0.999546  \n12     5.000000e-01 -0.222521  0.974928      -0.030120      -0.999546  \n...             ...       ...       ...            ...            ...  \n63969  7.071068e-01  0.623490  0.781831       0.436651       0.899631  \n63972  5.000000e-01  0.623490  0.781831       0.436651       0.899631  \n63975  2.588190e-01  0.623490  0.781831       0.436651       0.899631  \n63978  1.224647e-16  0.623490  0.781831       0.436651       0.899631  \n63981 -2.588190e-01  0.623490  0.781831       0.436651       0.899631  \n\n[21328 rows x 18 columns]",
      "text/html": "<div>\n<style scoped>\n    .dataframe tbody tr th:only-of-type {\n        vertical-align: middle;\n    }\n\n    .dataframe tbody tr th {\n        vertical-align: top;\n    }\n\n    .dataframe thead th {\n        text-align: right;\n    }\n</style>\n<table border=\"1\" class=\"dataframe\">\n  <thead>\n    <tr style=\"text-align: right;\">\n      <th></th>\n      <th>temperature</th>\n      <th>pedestrians_count</th>\n      <th>weather_condition_clear-day</th>\n      <th>weather_condition_clear-night</th>\n      <th>weather_condition_cloudy</th>\n      <th>weather_condition_fog</th>\n      <th>weather_condition_partly-cloudy-day</th>\n      <th>weather_condition_partly-cloudy-night</th>\n      <th>weather_condition_rain</th>\n      <th>weather_condition_snow</th>\n      <th>weather_condition_wind</th>\n      <th>holiday</th>\n      <th>time_cos</th>\n      <th>time_sin</th>\n      <th>day_cos</th>\n      <th>day_sin</th>\n      <th>dayofyear_cos</th>\n      <th>dayofyear_sin</th>\n    </tr>\n  </thead>\n  <tbody>\n    <tr>\n      <th>0</th>\n      <td>13.51</td>\n      <td>151</td>\n      <td>0</td>\n      <td>0</td>\n      <td>1</td>\n      <td>0</td>\n      <td>0</td>\n      <td>0</td>\n      <td>0</td>\n      <td>0</td>\n      <td>0</td>\n      <td>0</td>\n      <td>0.866025</td>\n      <td>-5.000000e-01</td>\n      <td>0.623490</td>\n      <td>0.781831</td>\n      <td>-0.047321</td>\n      <td>-0.998880</td>\n    </tr>\n    <tr>\n      <th>3</th>\n      <td>13.46</td>\n      <td>19</td>\n      <td>0</td>\n      <td>0</td>\n      <td>1</td>\n      <td>0</td>\n      <td>0</td>\n      <td>0</td>\n      <td>0</td>\n      <td>0</td>\n      <td>0</td>\n      <td>0</td>\n      <td>0.965926</td>\n      <td>-2.588190e-01</td>\n      <td>0.623490</td>\n      <td>0.781831</td>\n      <td>-0.047321</td>\n      <td>-0.998880</td>\n    </tr>\n    <tr>\n      <th>6</th>\n      <td>13.26</td>\n      <td>10</td>\n      <td>0</td>\n      <td>0</td>\n      <td>0</td>\n      <td>0</td>\n      <td>0</td>\n      <td>0</td>\n      <td>1</td>\n      <td>0</td>\n      <td>0</td>\n      <td>0</td>\n      <td>1.000000</td>\n      <td>0.000000e+00</td>\n      <td>-0.222521</td>\n      <td>0.974928</td>\n      <td>-0.030120</td>\n      <td>-0.999546</td>\n    </tr>\n    <tr>\n      <th>9</th>\n      <td>13.51</td>\n      <td>6</td>\n      <td>0</td>\n      <td>0</td>\n      <td>0</td>\n      <td>0</td>\n      <td>0</td>\n      <td>0</td>\n      <td>1</td>\n      <td>0</td>\n      <td>0</td>\n      <td>0</td>\n      <td>0.965926</td>\n      <td>2.588190e-01</td>\n      <td>-0.222521</td>\n      <td>0.974928</td>\n      <td>-0.030120</td>\n      <td>-0.999546</td>\n    </tr>\n    <tr>\n      <th>12</th>\n      <td>13.44</td>\n      <td>22</td>\n      <td>0</td>\n      <td>0</td>\n      <td>0</td>\n      <td>0</td>\n      <td>0</td>\n      <td>0</td>\n      <td>1</td>\n      <td>0</td>\n      <td>0</td>\n      <td>0</td>\n      <td>0.866025</td>\n      <td>5.000000e-01</td>\n      <td>-0.222521</td>\n      <td>0.974928</td>\n      <td>-0.030120</td>\n      <td>-0.999546</td>\n    </tr>\n    <tr>\n      <th>...</th>\n      <td>...</td>\n      <td>...</td>\n      <td>...</td>\n      <td>...</td>\n      <td>...</td>\n      <td>...</td>\n      <td>...</td>\n      <td>...</td>\n      <td>...</td>\n      <td>...</td>\n      <td>...</td>\n      <td>...</td>\n      <td>...</td>\n      <td>...</td>\n      <td>...</td>\n      <td>...</td>\n      <td>...</td>\n      <td>...</td>\n    </tr>\n    <tr>\n      <th>63969</th>\n      <td>6.00</td>\n      <td>1507</td>\n      <td>0</td>\n      <td>0</td>\n      <td>0</td>\n      <td>0</td>\n      <td>0</td>\n      <td>0</td>\n      <td>1</td>\n      <td>0</td>\n      <td>0</td>\n      <td>0</td>\n      <td>-0.707107</td>\n      <td>7.071068e-01</td>\n      <td>0.623490</td>\n      <td>0.781831</td>\n      <td>0.436651</td>\n      <td>0.899631</td>\n    </tr>\n    <tr>\n      <th>63972</th>\n      <td>6.00</td>\n      <td>2280</td>\n      <td>0</td>\n      <td>0</td>\n      <td>0</td>\n      <td>0</td>\n      <td>0</td>\n      <td>0</td>\n      <td>1</td>\n      <td>0</td>\n      <td>0</td>\n      <td>0</td>\n      <td>-0.866025</td>\n      <td>5.000000e-01</td>\n      <td>0.623490</td>\n      <td>0.781831</td>\n      <td>0.436651</td>\n      <td>0.899631</td>\n    </tr>\n    <tr>\n      <th>63975</th>\n      <td>7.00</td>\n      <td>3216</td>\n      <td>0</td>\n      <td>0</td>\n      <td>0</td>\n      <td>0</td>\n      <td>0</td>\n      <td>0</td>\n      <td>1</td>\n      <td>0</td>\n      <td>0</td>\n      <td>0</td>\n      <td>-0.965926</td>\n      <td>2.588190e-01</td>\n      <td>0.623490</td>\n      <td>0.781831</td>\n      <td>0.436651</td>\n      <td>0.899631</td>\n    </tr>\n    <tr>\n      <th>63978</th>\n      <td>6.80</td>\n      <td>2858</td>\n      <td>0</td>\n      <td>0</td>\n      <td>0</td>\n      <td>0</td>\n      <td>0</td>\n      <td>0</td>\n      <td>1</td>\n      <td>0</td>\n      <td>0</td>\n      <td>0</td>\n      <td>-1.000000</td>\n      <td>1.224647e-16</td>\n      <td>0.623490</td>\n      <td>0.781831</td>\n      <td>0.436651</td>\n      <td>0.899631</td>\n    </tr>\n    <tr>\n      <th>63981</th>\n      <td>6.90</td>\n      <td>644</td>\n      <td>0</td>\n      <td>0</td>\n      <td>0</td>\n      <td>0</td>\n      <td>0</td>\n      <td>0</td>\n      <td>1</td>\n      <td>0</td>\n      <td>0</td>\n      <td>0</td>\n      <td>-0.965926</td>\n      <td>-2.588190e-01</td>\n      <td>0.623490</td>\n      <td>0.781831</td>\n      <td>0.436651</td>\n      <td>0.899631</td>\n    </tr>\n  </tbody>\n</table>\n<p>21328 rows × 18 columns</p>\n</div>"
     },
     "execution_count": 4,
     "metadata": {},
     "output_type": "execute_result"
    }
   ],
   "source": [
    "df_mid = df.loc[df['location_id'] == 329]\n",
    "print(df_mid)\n",
    "df_mid = df_mid.drop(columns='location_id')\n",
    "\n",
    "# Temporary drop date\n",
    "df_mid['holiday'] = df_mid.apply(lambda row: check_holiday(row['date']), axis = 1)\n",
    "\n",
    "df_mid['time_cos'] = df_mid.apply(lambda row: hour_features(row['date'])[0], axis = 1)\n",
    "df_mid['time_sin'] = df_mid.apply(lambda row: hour_features(row['date'])[1], axis = 1)\n",
    "\n",
    "df_mid['day_cos'] = df_mid.apply(lambda row: day_features(row['date'])[0], axis = 1)\n",
    "df_mid['day_sin'] = df_mid.apply(lambda row: day_features(row['date'])[1], axis = 1)\n",
    "\n",
    "df_mid['dayofyear_cos'] = df_mid.apply(lambda row: dayofyear_features(row['date'])[0], axis = 1)\n",
    "df_mid['dayofyear_sin'] = df_mid.apply(lambda row: dayofyear_features(row['date'])[1], axis = 1)\n",
    "\n",
    "df_mid_old = df_mid.copy()\n",
    "\n",
    "df_mid = df_mid.drop(columns='date')\n",
    "# df_mid['date'][0].split()\n",
    "# \n",
    "df_mid"
   ]
  },
  {
   "cell_type": "code",
   "execution_count": 5,
   "metadata": {
    "ExecuteTime": {
     "end_time": "2024-03-05T21:54:07.613930900Z",
     "start_time": "2024-03-05T21:54:07.600371400Z"
    }
   },
   "outputs": [],
   "source": [
    "train, test = train_test_split(df_mid, test_size=0.2)"
   ]
  },
  {
   "cell_type": "code",
   "execution_count": 11,
   "metadata": {
    "ExecuteTime": {
     "end_time": "2024-03-05T22:00:01.956170Z",
     "start_time": "2024-03-05T22:00:01.929658700Z"
    }
   },
   "outputs": [
    {
     "data": {
      "text/plain": "LinearRegression(positive=True)",
      "text/html": "<style>#sk-container-id-2 {color: black;}#sk-container-id-2 pre{padding: 0;}#sk-container-id-2 div.sk-toggleable {background-color: white;}#sk-container-id-2 label.sk-toggleable__label {cursor: pointer;display: block;width: 100%;margin-bottom: 0;padding: 0.3em;box-sizing: border-box;text-align: center;}#sk-container-id-2 label.sk-toggleable__label-arrow:before {content: \"▸\";float: left;margin-right: 0.25em;color: #696969;}#sk-container-id-2 label.sk-toggleable__label-arrow:hover:before {color: black;}#sk-container-id-2 div.sk-estimator:hover label.sk-toggleable__label-arrow:before {color: black;}#sk-container-id-2 div.sk-toggleable__content {max-height: 0;max-width: 0;overflow: hidden;text-align: left;background-color: #f0f8ff;}#sk-container-id-2 div.sk-toggleable__content pre {margin: 0.2em;color: black;border-radius: 0.25em;background-color: #f0f8ff;}#sk-container-id-2 input.sk-toggleable__control:checked~div.sk-toggleable__content {max-height: 200px;max-width: 100%;overflow: auto;}#sk-container-id-2 input.sk-toggleable__control:checked~label.sk-toggleable__label-arrow:before {content: \"▾\";}#sk-container-id-2 div.sk-estimator input.sk-toggleable__control:checked~label.sk-toggleable__label {background-color: #d4ebff;}#sk-container-id-2 div.sk-label input.sk-toggleable__control:checked~label.sk-toggleable__label {background-color: #d4ebff;}#sk-container-id-2 input.sk-hidden--visually {border: 0;clip: rect(1px 1px 1px 1px);clip: rect(1px, 1px, 1px, 1px);height: 1px;margin: -1px;overflow: hidden;padding: 0;position: absolute;width: 1px;}#sk-container-id-2 div.sk-estimator {font-family: monospace;background-color: #f0f8ff;border: 1px dotted black;border-radius: 0.25em;box-sizing: border-box;margin-bottom: 0.5em;}#sk-container-id-2 div.sk-estimator:hover {background-color: #d4ebff;}#sk-container-id-2 div.sk-parallel-item::after {content: \"\";width: 100%;border-bottom: 1px solid gray;flex-grow: 1;}#sk-container-id-2 div.sk-label:hover label.sk-toggleable__label {background-color: #d4ebff;}#sk-container-id-2 div.sk-serial::before {content: \"\";position: absolute;border-left: 1px solid gray;box-sizing: border-box;top: 0;bottom: 0;left: 50%;z-index: 0;}#sk-container-id-2 div.sk-serial {display: flex;flex-direction: column;align-items: center;background-color: white;padding-right: 0.2em;padding-left: 0.2em;position: relative;}#sk-container-id-2 div.sk-item {position: relative;z-index: 1;}#sk-container-id-2 div.sk-parallel {display: flex;align-items: stretch;justify-content: center;background-color: white;position: relative;}#sk-container-id-2 div.sk-item::before, #sk-container-id-2 div.sk-parallel-item::before {content: \"\";position: absolute;border-left: 1px solid gray;box-sizing: border-box;top: 0;bottom: 0;left: 50%;z-index: -1;}#sk-container-id-2 div.sk-parallel-item {display: flex;flex-direction: column;z-index: 1;position: relative;background-color: white;}#sk-container-id-2 div.sk-parallel-item:first-child::after {align-self: flex-end;width: 50%;}#sk-container-id-2 div.sk-parallel-item:last-child::after {align-self: flex-start;width: 50%;}#sk-container-id-2 div.sk-parallel-item:only-child::after {width: 0;}#sk-container-id-2 div.sk-dashed-wrapped {border: 1px dashed gray;margin: 0 0.4em 0.5em 0.4em;box-sizing: border-box;padding-bottom: 0.4em;background-color: white;}#sk-container-id-2 div.sk-label label {font-family: monospace;font-weight: bold;display: inline-block;line-height: 1.2em;}#sk-container-id-2 div.sk-label-container {text-align: center;}#sk-container-id-2 div.sk-container {/* jupyter's `normalize.less` sets `[hidden] { display: none; }` but bootstrap.min.css set `[hidden] { display: none !important; }` so we also need the `!important` here to be able to override the default hidden behavior on the sphinx rendered scikit-learn.org. See: https://github.com/scikit-learn/scikit-learn/issues/21755 */display: inline-block !important;position: relative;}#sk-container-id-2 div.sk-text-repr-fallback {display: none;}</style><div id=\"sk-container-id-2\" class=\"sk-top-container\"><div class=\"sk-text-repr-fallback\"><pre>LinearRegression(positive=True)</pre><b>In a Jupyter environment, please rerun this cell to show the HTML representation or trust the notebook. <br />On GitHub, the HTML representation is unable to render, please try loading this page with nbviewer.org.</b></div><div class=\"sk-container\" hidden><div class=\"sk-item\"><div class=\"sk-estimator sk-toggleable\"><input class=\"sk-toggleable__control sk-hidden--visually\" id=\"sk-estimator-id-2\" type=\"checkbox\" checked><label for=\"sk-estimator-id-2\" class=\"sk-toggleable__label sk-toggleable__label-arrow\">LinearRegression</label><div class=\"sk-toggleable__content\"><pre>LinearRegression(positive=True)</pre></div></div></div></div></div>"
     },
     "execution_count": 11,
     "metadata": {},
     "output_type": "execute_result"
    }
   ],
   "source": [
    "forest = LinearRegression(positive=True)\n",
    "forest.fit(train.drop(columns='pedestrians_count'), train['pedestrians_count'])"
   ]
  },
  {
   "cell_type": "code",
   "execution_count": 12,
   "metadata": {
    "ExecuteTime": {
     "end_time": "2024-03-05T22:00:03.277530800Z",
     "start_time": "2024-03-05T22:00:03.267296200Z"
    }
   },
   "outputs": [
    {
     "data": {
      "text/plain": "0.3056961247118155"
     },
     "execution_count": 12,
     "metadata": {},
     "output_type": "execute_result"
    }
   ],
   "source": [
    "forest.score(test.drop(columns='pedestrians_count'), test['pedestrians_count'])"
   ]
  },
  {
   "cell_type": "code",
   "execution_count": 9,
   "metadata": {
    "ExecuteTime": {
     "end_time": "2024-03-05T21:54:21.187061300Z",
     "start_time": "2024-03-05T21:54:20.976527300Z"
    }
   },
   "outputs": [],
   "source": [
    "reals = np.array(df_mid_old['pedestrians_count'])\n",
    "preds = np.array(forest.predict(df_mid_old.drop(columns=['pedestrians_count', 'date'])))\n",
    "dates = np.array([datetime.strptime(d, \"%Y-%m-%d %H:%M:%S\") for d in df_mid_old['date']])"
   ]
  },
  {
   "cell_type": "code",
   "execution_count": 10,
   "metadata": {
    "ExecuteTime": {
     "end_time": "2024-03-05T21:54:23.128097700Z",
     "start_time": "2024-03-05T21:54:22.871899700Z"
    }
   },
   "outputs": [],
   "source": [
    "%matplotlib tk\n",
    "matplotlib.use(\"TkAgg\")\n",
    "plt.figure()\n",
    "plt.plot(dates, reals)\n",
    "plt.plot(dates, preds)\n",
    "plt.show()"
   ]
  },
  {
   "cell_type": "code",
   "execution_count": 49,
   "metadata": {
    "ExecuteTime": {
     "end_time": "2024-03-05T21:38:57.724896400Z",
     "start_time": "2024-03-05T21:38:57.706986100Z"
    }
   },
   "outputs": [
    {
     "data": {
      "text/plain": "      temperature  pedestrians_count                 date  \\\n4971        -1.15                 77  2021-12-06 23:00:00   \n4974        -0.09                 11  2021-12-07 00:00:00   \n4977        -0.14                 11  2021-12-07 01:00:00   \n4980         0.13                 12  2021-12-07 02:00:00   \n4983         0.51                 12  2021-12-07 03:00:00   \n4986         0.80                127  2021-12-07 04:00:00   \n4989         1.12                313  2021-12-07 05:00:00   \n4992         1.31                786  2021-12-07 06:00:00   \n4995         1.16                931  2021-12-07 07:00:00   \n4998         1.33               1187  2021-12-07 08:00:00   \n5001         2.25               1587  2021-12-07 09:00:00   \n5004         3.14               2480  2021-12-07 10:00:00   \n5007         4.16               3071  2021-12-07 11:00:00   \n5010         4.95               3117  2021-12-07 12:00:00   \n5013         5.33               3135  2021-12-07 13:00:00   \n5016         4.97               2911  2021-12-07 14:00:00   \n5019         3.76               3124  2021-12-07 15:00:00   \n\n      weather_condition_clear-day  weather_condition_clear-night  \\\n4971                            0                              0   \n4974                            0                              0   \n4977                            0                              0   \n4980                            0                              0   \n4983                            0                              0   \n4986                            0                              0   \n4989                            0                              0   \n4992                            0                              0   \n4995                            0                              0   \n4998                            0                              0   \n5001                            0                              0   \n5004                            0                              0   \n5007                            0                              0   \n5010                            0                              0   \n5013                            0                              0   \n5016                            0                              0   \n5019                            0                              0   \n\n      weather_condition_cloudy  weather_condition_fog  \\\n4971                         1                      0   \n4974                         1                      0   \n4977                         1                      0   \n4980                         1                      0   \n4983                         1                      0   \n4986                         1                      0   \n4989                         0                      0   \n4992                         0                      0   \n4995                         0                      0   \n4998                         0                      0   \n5001                         0                      0   \n5004                         0                      0   \n5007                         0                      0   \n5010                         0                      0   \n5013                         0                      0   \n5016                         0                      0   \n5019                         0                      0   \n\n      weather_condition_partly-cloudy-day  \\\n4971                                    0   \n4974                                    0   \n4977                                    0   \n4980                                    0   \n4983                                    0   \n4986                                    0   \n4989                                    0   \n4992                                    0   \n4995                                    0   \n4998                                    1   \n5001                                    1   \n5004                                    1   \n5007                                    1   \n5010                                    1   \n5013                                    1   \n5016                                    1   \n5019                                    1   \n\n      weather_condition_partly-cloudy-night  weather_condition_rain  \\\n4971                                      0                       0   \n4974                                      0                       0   \n4977                                      0                       0   \n4980                                      0                       0   \n4983                                      0                       0   \n4986                                      0                       0   \n4989                                      1                       0   \n4992                                      1                       0   \n4995                                      1                       0   \n4998                                      0                       0   \n5001                                      0                       0   \n5004                                      0                       0   \n5007                                      0                       0   \n5010                                      0                       0   \n5013                                      0                       0   \n5016                                      0                       0   \n5019                                      0                       0   \n\n      weather_condition_snow  weather_condition_wind  holiday      time_cos  \\\n4971                       0                       0        0  9.659258e-01   \n4974                       0                       0        0  1.000000e+00   \n4977                       0                       0        0  9.659258e-01   \n4980                       0                       0        0  8.660254e-01   \n4983                       0                       0        0  7.071068e-01   \n4986                       0                       0        0  5.000000e-01   \n4989                       0                       0        0  2.588190e-01   \n4992                       0                       0        0  6.123234e-17   \n4995                       0                       0        0 -2.588190e-01   \n4998                       0                       0        0 -5.000000e-01   \n5001                       0                       0        0 -7.071068e-01   \n5004                       0                       0        0 -8.660254e-01   \n5007                       0                       0        0 -9.659258e-01   \n5010                       0                       0        0 -1.000000e+00   \n5013                       0                       0        0 -9.659258e-01   \n5016                       0                       0        0 -8.660254e-01   \n5019                       0                       0        0 -7.071068e-01   \n\n          time_sin  day_cos   day_sin  dayofyear_cos  dayofyear_sin  \n4971 -2.588190e-01  1.00000  0.000000       0.908818      -0.417194  \n4974  0.000000e+00  0.62349  0.781831       0.915864      -0.401488  \n4977  2.588190e-01  0.62349  0.781831       0.915864      -0.401488  \n4980  5.000000e-01  0.62349  0.781831       0.915864      -0.401488  \n4983  7.071068e-01  0.62349  0.781831       0.915864      -0.401488  \n4986  8.660254e-01  0.62349  0.781831       0.915864      -0.401488  \n4989  9.659258e-01  0.62349  0.781831       0.915864      -0.401488  \n4992  1.000000e+00  0.62349  0.781831       0.915864      -0.401488  \n4995  9.659258e-01  0.62349  0.781831       0.915864      -0.401488  \n4998  8.660254e-01  0.62349  0.781831       0.915864      -0.401488  \n5001  7.071068e-01  0.62349  0.781831       0.915864      -0.401488  \n5004  5.000000e-01  0.62349  0.781831       0.915864      -0.401488  \n5007  2.588190e-01  0.62349  0.781831       0.915864      -0.401488  \n5010  1.224647e-16  0.62349  0.781831       0.915864      -0.401488  \n5013 -2.588190e-01  0.62349  0.781831       0.915864      -0.401488  \n5016 -5.000000e-01  0.62349  0.781831       0.915864      -0.401488  \n5019 -7.071068e-01  0.62349  0.781831       0.915864      -0.401488  ",
      "text/html": "<div>\n<style scoped>\n    .dataframe tbody tr th:only-of-type {\n        vertical-align: middle;\n    }\n\n    .dataframe tbody tr th {\n        vertical-align: top;\n    }\n\n    .dataframe thead th {\n        text-align: right;\n    }\n</style>\n<table border=\"1\" class=\"dataframe\">\n  <thead>\n    <tr style=\"text-align: right;\">\n      <th></th>\n      <th>temperature</th>\n      <th>pedestrians_count</th>\n      <th>date</th>\n      <th>weather_condition_clear-day</th>\n      <th>weather_condition_clear-night</th>\n      <th>weather_condition_cloudy</th>\n      <th>weather_condition_fog</th>\n      <th>weather_condition_partly-cloudy-day</th>\n      <th>weather_condition_partly-cloudy-night</th>\n      <th>weather_condition_rain</th>\n      <th>weather_condition_snow</th>\n      <th>weather_condition_wind</th>\n      <th>holiday</th>\n      <th>time_cos</th>\n      <th>time_sin</th>\n      <th>day_cos</th>\n      <th>day_sin</th>\n      <th>dayofyear_cos</th>\n      <th>dayofyear_sin</th>\n    </tr>\n  </thead>\n  <tbody>\n    <tr>\n      <th>4971</th>\n      <td>-1.15</td>\n      <td>77</td>\n      <td>2021-12-06 23:00:00</td>\n      <td>0</td>\n      <td>0</td>\n      <td>1</td>\n      <td>0</td>\n      <td>0</td>\n      <td>0</td>\n      <td>0</td>\n      <td>0</td>\n      <td>0</td>\n      <td>0</td>\n      <td>9.659258e-01</td>\n      <td>-2.588190e-01</td>\n      <td>1.00000</td>\n      <td>0.000000</td>\n      <td>0.908818</td>\n      <td>-0.417194</td>\n    </tr>\n    <tr>\n      <th>4974</th>\n      <td>-0.09</td>\n      <td>11</td>\n      <td>2021-12-07 00:00:00</td>\n      <td>0</td>\n      <td>0</td>\n      <td>1</td>\n      <td>0</td>\n      <td>0</td>\n      <td>0</td>\n      <td>0</td>\n      <td>0</td>\n      <td>0</td>\n      <td>0</td>\n      <td>1.000000e+00</td>\n      <td>0.000000e+00</td>\n      <td>0.62349</td>\n      <td>0.781831</td>\n      <td>0.915864</td>\n      <td>-0.401488</td>\n    </tr>\n    <tr>\n      <th>4977</th>\n      <td>-0.14</td>\n      <td>11</td>\n      <td>2021-12-07 01:00:00</td>\n      <td>0</td>\n      <td>0</td>\n      <td>1</td>\n      <td>0</td>\n      <td>0</td>\n      <td>0</td>\n      <td>0</td>\n      <td>0</td>\n      <td>0</td>\n      <td>0</td>\n      <td>9.659258e-01</td>\n      <td>2.588190e-01</td>\n      <td>0.62349</td>\n      <td>0.781831</td>\n      <td>0.915864</td>\n      <td>-0.401488</td>\n    </tr>\n    <tr>\n      <th>4980</th>\n      <td>0.13</td>\n      <td>12</td>\n      <td>2021-12-07 02:00:00</td>\n      <td>0</td>\n      <td>0</td>\n      <td>1</td>\n      <td>0</td>\n      <td>0</td>\n      <td>0</td>\n      <td>0</td>\n      <td>0</td>\n      <td>0</td>\n      <td>0</td>\n      <td>8.660254e-01</td>\n      <td>5.000000e-01</td>\n      <td>0.62349</td>\n      <td>0.781831</td>\n      <td>0.915864</td>\n      <td>-0.401488</td>\n    </tr>\n    <tr>\n      <th>4983</th>\n      <td>0.51</td>\n      <td>12</td>\n      <td>2021-12-07 03:00:00</td>\n      <td>0</td>\n      <td>0</td>\n      <td>1</td>\n      <td>0</td>\n      <td>0</td>\n      <td>0</td>\n      <td>0</td>\n      <td>0</td>\n      <td>0</td>\n      <td>0</td>\n      <td>7.071068e-01</td>\n      <td>7.071068e-01</td>\n      <td>0.62349</td>\n      <td>0.781831</td>\n      <td>0.915864</td>\n      <td>-0.401488</td>\n    </tr>\n    <tr>\n      <th>4986</th>\n      <td>0.80</td>\n      <td>127</td>\n      <td>2021-12-07 04:00:00</td>\n      <td>0</td>\n      <td>0</td>\n      <td>1</td>\n      <td>0</td>\n      <td>0</td>\n      <td>0</td>\n      <td>0</td>\n      <td>0</td>\n      <td>0</td>\n      <td>0</td>\n      <td>5.000000e-01</td>\n      <td>8.660254e-01</td>\n      <td>0.62349</td>\n      <td>0.781831</td>\n      <td>0.915864</td>\n      <td>-0.401488</td>\n    </tr>\n    <tr>\n      <th>4989</th>\n      <td>1.12</td>\n      <td>313</td>\n      <td>2021-12-07 05:00:00</td>\n      <td>0</td>\n      <td>0</td>\n      <td>0</td>\n      <td>0</td>\n      <td>0</td>\n      <td>1</td>\n      <td>0</td>\n      <td>0</td>\n      <td>0</td>\n      <td>0</td>\n      <td>2.588190e-01</td>\n      <td>9.659258e-01</td>\n      <td>0.62349</td>\n      <td>0.781831</td>\n      <td>0.915864</td>\n      <td>-0.401488</td>\n    </tr>\n    <tr>\n      <th>4992</th>\n      <td>1.31</td>\n      <td>786</td>\n      <td>2021-12-07 06:00:00</td>\n      <td>0</td>\n      <td>0</td>\n      <td>0</td>\n      <td>0</td>\n      <td>0</td>\n      <td>1</td>\n      <td>0</td>\n      <td>0</td>\n      <td>0</td>\n      <td>0</td>\n      <td>6.123234e-17</td>\n      <td>1.000000e+00</td>\n      <td>0.62349</td>\n      <td>0.781831</td>\n      <td>0.915864</td>\n      <td>-0.401488</td>\n    </tr>\n    <tr>\n      <th>4995</th>\n      <td>1.16</td>\n      <td>931</td>\n      <td>2021-12-07 07:00:00</td>\n      <td>0</td>\n      <td>0</td>\n      <td>0</td>\n      <td>0</td>\n      <td>0</td>\n      <td>1</td>\n      <td>0</td>\n      <td>0</td>\n      <td>0</td>\n      <td>0</td>\n      <td>-2.588190e-01</td>\n      <td>9.659258e-01</td>\n      <td>0.62349</td>\n      <td>0.781831</td>\n      <td>0.915864</td>\n      <td>-0.401488</td>\n    </tr>\n    <tr>\n      <th>4998</th>\n      <td>1.33</td>\n      <td>1187</td>\n      <td>2021-12-07 08:00:00</td>\n      <td>0</td>\n      <td>0</td>\n      <td>0</td>\n      <td>0</td>\n      <td>1</td>\n      <td>0</td>\n      <td>0</td>\n      <td>0</td>\n      <td>0</td>\n      <td>0</td>\n      <td>-5.000000e-01</td>\n      <td>8.660254e-01</td>\n      <td>0.62349</td>\n      <td>0.781831</td>\n      <td>0.915864</td>\n      <td>-0.401488</td>\n    </tr>\n    <tr>\n      <th>5001</th>\n      <td>2.25</td>\n      <td>1587</td>\n      <td>2021-12-07 09:00:00</td>\n      <td>0</td>\n      <td>0</td>\n      <td>0</td>\n      <td>0</td>\n      <td>1</td>\n      <td>0</td>\n      <td>0</td>\n      <td>0</td>\n      <td>0</td>\n      <td>0</td>\n      <td>-7.071068e-01</td>\n      <td>7.071068e-01</td>\n      <td>0.62349</td>\n      <td>0.781831</td>\n      <td>0.915864</td>\n      <td>-0.401488</td>\n    </tr>\n    <tr>\n      <th>5004</th>\n      <td>3.14</td>\n      <td>2480</td>\n      <td>2021-12-07 10:00:00</td>\n      <td>0</td>\n      <td>0</td>\n      <td>0</td>\n      <td>0</td>\n      <td>1</td>\n      <td>0</td>\n      <td>0</td>\n      <td>0</td>\n      <td>0</td>\n      <td>0</td>\n      <td>-8.660254e-01</td>\n      <td>5.000000e-01</td>\n      <td>0.62349</td>\n      <td>0.781831</td>\n      <td>0.915864</td>\n      <td>-0.401488</td>\n    </tr>\n    <tr>\n      <th>5007</th>\n      <td>4.16</td>\n      <td>3071</td>\n      <td>2021-12-07 11:00:00</td>\n      <td>0</td>\n      <td>0</td>\n      <td>0</td>\n      <td>0</td>\n      <td>1</td>\n      <td>0</td>\n      <td>0</td>\n      <td>0</td>\n      <td>0</td>\n      <td>0</td>\n      <td>-9.659258e-01</td>\n      <td>2.588190e-01</td>\n      <td>0.62349</td>\n      <td>0.781831</td>\n      <td>0.915864</td>\n      <td>-0.401488</td>\n    </tr>\n    <tr>\n      <th>5010</th>\n      <td>4.95</td>\n      <td>3117</td>\n      <td>2021-12-07 12:00:00</td>\n      <td>0</td>\n      <td>0</td>\n      <td>0</td>\n      <td>0</td>\n      <td>1</td>\n      <td>0</td>\n      <td>0</td>\n      <td>0</td>\n      <td>0</td>\n      <td>0</td>\n      <td>-1.000000e+00</td>\n      <td>1.224647e-16</td>\n      <td>0.62349</td>\n      <td>0.781831</td>\n      <td>0.915864</td>\n      <td>-0.401488</td>\n    </tr>\n    <tr>\n      <th>5013</th>\n      <td>5.33</td>\n      <td>3135</td>\n      <td>2021-12-07 13:00:00</td>\n      <td>0</td>\n      <td>0</td>\n      <td>0</td>\n      <td>0</td>\n      <td>1</td>\n      <td>0</td>\n      <td>0</td>\n      <td>0</td>\n      <td>0</td>\n      <td>0</td>\n      <td>-9.659258e-01</td>\n      <td>-2.588190e-01</td>\n      <td>0.62349</td>\n      <td>0.781831</td>\n      <td>0.915864</td>\n      <td>-0.401488</td>\n    </tr>\n    <tr>\n      <th>5016</th>\n      <td>4.97</td>\n      <td>2911</td>\n      <td>2021-12-07 14:00:00</td>\n      <td>0</td>\n      <td>0</td>\n      <td>0</td>\n      <td>0</td>\n      <td>1</td>\n      <td>0</td>\n      <td>0</td>\n      <td>0</td>\n      <td>0</td>\n      <td>0</td>\n      <td>-8.660254e-01</td>\n      <td>-5.000000e-01</td>\n      <td>0.62349</td>\n      <td>0.781831</td>\n      <td>0.915864</td>\n      <td>-0.401488</td>\n    </tr>\n    <tr>\n      <th>5019</th>\n      <td>3.76</td>\n      <td>3124</td>\n      <td>2021-12-07 15:00:00</td>\n      <td>0</td>\n      <td>0</td>\n      <td>0</td>\n      <td>0</td>\n      <td>1</td>\n      <td>0</td>\n      <td>0</td>\n      <td>0</td>\n      <td>0</td>\n      <td>0</td>\n      <td>-7.071068e-01</td>\n      <td>-7.071068e-01</td>\n      <td>0.62349</td>\n      <td>0.781831</td>\n      <td>0.915864</td>\n      <td>-0.401488</td>\n    </tr>\n  </tbody>\n</table>\n</div>"
     },
     "execution_count": 49,
     "metadata": {},
     "output_type": "execute_result"
    }
   ],
   "source": [
    "df_mid_old.loc[4970:5020]"
   ]
  },
  {
   "cell_type": "code",
   "execution_count": null,
   "metadata": {},
   "outputs": [],
   "source": []
  }
 ],
 "metadata": {
  "kernelspec": {
   "display_name": "default_env",
   "language": "python",
   "name": "python3"
  },
  "language_info": {
   "codemirror_mode": {
    "name": "ipython",
    "version": 3
   },
   "file_extension": ".py",
   "mimetype": "text/x-python",
   "name": "python",
   "nbconvert_exporter": "python",
   "pygments_lexer": "ipython3",
   "version": "3.11.8"
  }
 },
 "nbformat": 4,
 "nbformat_minor": 2
}
