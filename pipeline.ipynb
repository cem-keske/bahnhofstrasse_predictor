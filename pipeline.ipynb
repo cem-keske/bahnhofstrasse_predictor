{
 "cells": [
  {
   "cell_type": "code",
   "execution_count": 1,
   "metadata": {
    "ExecuteTime": {
     "end_time": "2024-03-05T17:52:54.603648300Z",
     "start_time": "2024-03-05T17:52:53.036973600Z"
    }
   },
   "outputs": [],
   "source": [
    "import numpy as np\n",
    "import pandas as pd\n",
    "\n",
    "from datetime import datetime\n",
    "from sklearn.model_selection import train_test_split\n",
    "from sklearn.ensemble import RandomForestRegressor\n",
    "\n",
    "from is_holiday import check_holiday\n",
    "from utilites import hour_features, day_features, dayofyear_features"
   ]
  },
  {
   "cell_type": "code",
   "execution_count": 2,
   "metadata": {
    "ExecuteTime": {
     "end_time": "2024-03-05T17:52:54.610973600Z",
     "start_time": "2024-03-05T17:52:54.607645900Z"
    }
   },
   "outputs": [],
   "source": [
    "def encode(original_dataframe: pd.DataFrame, \n",
    "    feature_to_encode: str) -> pd.DataFrame:\n",
    "    \n",
    "    dummies = pd.get_dummies(original_dataframe[[feature_to_encode]], dtype=int)\n",
    "    res = pd.concat([original_dataframe, dummies], axis=1)\n",
    "    return res.drop(columns=feature_to_encode)\n",
    "\n",
    "def load_and_preprocess(path: str) -> pd.DataFrame:\n",
    "    df = pd.read_csv(path)\n",
    "    # Drop unnecessary columns\n",
    "    df = df[['timestamp', 'location_id', 'weather_condition', 'temperature', 'pedestrians_count']]\n",
    "    \n",
    "    # Rearrange date\n",
    "    df['date'] = df.apply(lambda row: str(datetime.strptime(row['timestamp'], '%Y-%m-%dT%H:%M:%SZ')), axis = 1)\n",
    "    df = df.drop(columns='timestamp')\n",
    "\n",
    "    # One-hot encoding for weather\n",
    "    df = encode(df, 'weather_condition')\n",
    "    return df\n"
   ]
  },
  {
   "cell_type": "code",
   "execution_count": 3,
   "metadata": {
    "ExecuteTime": {
     "end_time": "2024-03-05T17:52:55.768608800Z",
     "start_time": "2024-03-05T17:52:54.611972600Z"
    }
   },
   "outputs": [
    {
     "data": {
      "text/plain": "       location_id  temperature  pedestrians_count                 date  \\\n0              329        13.51                151  2021-09-28 22:00:00   \n1              331        13.51                118  2021-09-28 22:00:00   \n2              330        13.51                203  2021-09-28 22:00:00   \n3              329        13.46                 19  2021-09-28 23:00:00   \n4              331        13.46                  7  2021-09-28 23:00:00   \n...            ...          ...                ...                  ...   \n63979          331         6.80               2053  2024-03-05 12:00:00   \n63980          330         6.80               1394  2024-03-05 12:00:00   \n63981          329         6.90                644  2024-03-05 13:00:00   \n63982          331         6.90                477  2024-03-05 13:00:00   \n63983          330         6.90                433  2024-03-05 13:00:00   \n\n       weather_condition_clear-day  weather_condition_clear-night  \\\n0                                0                              0   \n1                                0                              0   \n2                                0                              0   \n3                                0                              0   \n4                                0                              0   \n...                            ...                            ...   \n63979                            0                              0   \n63980                            0                              0   \n63981                            0                              0   \n63982                            0                              0   \n63983                            0                              0   \n\n       weather_condition_cloudy  weather_condition_fog  \\\n0                             1                      0   \n1                             1                      0   \n2                             1                      0   \n3                             1                      0   \n4                             1                      0   \n...                         ...                    ...   \n63979                         0                      0   \n63980                         0                      0   \n63981                         0                      0   \n63982                         0                      0   \n63983                         0                      0   \n\n       weather_condition_partly-cloudy-day  \\\n0                                        0   \n1                                        0   \n2                                        0   \n3                                        0   \n4                                        0   \n...                                    ...   \n63979                                    0   \n63980                                    0   \n63981                                    0   \n63982                                    0   \n63983                                    0   \n\n       weather_condition_partly-cloudy-night  weather_condition_rain  \\\n0                                          0                       0   \n1                                          0                       0   \n2                                          0                       0   \n3                                          0                       0   \n4                                          0                       0   \n...                                      ...                     ...   \n63979                                      0                       1   \n63980                                      0                       1   \n63981                                      0                       1   \n63982                                      0                       1   \n63983                                      0                       1   \n\n       weather_condition_snow  weather_condition_wind  \n0                           0                       0  \n1                           0                       0  \n2                           0                       0  \n3                           0                       0  \n4                           0                       0  \n...                       ...                     ...  \n63979                       0                       0  \n63980                       0                       0  \n63981                       0                       0  \n63982                       0                       0  \n63983                       0                       0  \n\n[63984 rows x 13 columns]",
      "text/html": "<div>\n<style scoped>\n    .dataframe tbody tr th:only-of-type {\n        vertical-align: middle;\n    }\n\n    .dataframe tbody tr th {\n        vertical-align: top;\n    }\n\n    .dataframe thead th {\n        text-align: right;\n    }\n</style>\n<table border=\"1\" class=\"dataframe\">\n  <thead>\n    <tr style=\"text-align: right;\">\n      <th></th>\n      <th>location_id</th>\n      <th>temperature</th>\n      <th>pedestrians_count</th>\n      <th>date</th>\n      <th>weather_condition_clear-day</th>\n      <th>weather_condition_clear-night</th>\n      <th>weather_condition_cloudy</th>\n      <th>weather_condition_fog</th>\n      <th>weather_condition_partly-cloudy-day</th>\n      <th>weather_condition_partly-cloudy-night</th>\n      <th>weather_condition_rain</th>\n      <th>weather_condition_snow</th>\n      <th>weather_condition_wind</th>\n    </tr>\n  </thead>\n  <tbody>\n    <tr>\n      <th>0</th>\n      <td>329</td>\n      <td>13.51</td>\n      <td>151</td>\n      <td>2021-09-28 22:00:00</td>\n      <td>0</td>\n      <td>0</td>\n      <td>1</td>\n      <td>0</td>\n      <td>0</td>\n      <td>0</td>\n      <td>0</td>\n      <td>0</td>\n      <td>0</td>\n    </tr>\n    <tr>\n      <th>1</th>\n      <td>331</td>\n      <td>13.51</td>\n      <td>118</td>\n      <td>2021-09-28 22:00:00</td>\n      <td>0</td>\n      <td>0</td>\n      <td>1</td>\n      <td>0</td>\n      <td>0</td>\n      <td>0</td>\n      <td>0</td>\n      <td>0</td>\n      <td>0</td>\n    </tr>\n    <tr>\n      <th>2</th>\n      <td>330</td>\n      <td>13.51</td>\n      <td>203</td>\n      <td>2021-09-28 22:00:00</td>\n      <td>0</td>\n      <td>0</td>\n      <td>1</td>\n      <td>0</td>\n      <td>0</td>\n      <td>0</td>\n      <td>0</td>\n      <td>0</td>\n      <td>0</td>\n    </tr>\n    <tr>\n      <th>3</th>\n      <td>329</td>\n      <td>13.46</td>\n      <td>19</td>\n      <td>2021-09-28 23:00:00</td>\n      <td>0</td>\n      <td>0</td>\n      <td>1</td>\n      <td>0</td>\n      <td>0</td>\n      <td>0</td>\n      <td>0</td>\n      <td>0</td>\n      <td>0</td>\n    </tr>\n    <tr>\n      <th>4</th>\n      <td>331</td>\n      <td>13.46</td>\n      <td>7</td>\n      <td>2021-09-28 23:00:00</td>\n      <td>0</td>\n      <td>0</td>\n      <td>1</td>\n      <td>0</td>\n      <td>0</td>\n      <td>0</td>\n      <td>0</td>\n      <td>0</td>\n      <td>0</td>\n    </tr>\n    <tr>\n      <th>...</th>\n      <td>...</td>\n      <td>...</td>\n      <td>...</td>\n      <td>...</td>\n      <td>...</td>\n      <td>...</td>\n      <td>...</td>\n      <td>...</td>\n      <td>...</td>\n      <td>...</td>\n      <td>...</td>\n      <td>...</td>\n      <td>...</td>\n    </tr>\n    <tr>\n      <th>63979</th>\n      <td>331</td>\n      <td>6.80</td>\n      <td>2053</td>\n      <td>2024-03-05 12:00:00</td>\n      <td>0</td>\n      <td>0</td>\n      <td>0</td>\n      <td>0</td>\n      <td>0</td>\n      <td>0</td>\n      <td>1</td>\n      <td>0</td>\n      <td>0</td>\n    </tr>\n    <tr>\n      <th>63980</th>\n      <td>330</td>\n      <td>6.80</td>\n      <td>1394</td>\n      <td>2024-03-05 12:00:00</td>\n      <td>0</td>\n      <td>0</td>\n      <td>0</td>\n      <td>0</td>\n      <td>0</td>\n      <td>0</td>\n      <td>1</td>\n      <td>0</td>\n      <td>0</td>\n    </tr>\n    <tr>\n      <th>63981</th>\n      <td>329</td>\n      <td>6.90</td>\n      <td>644</td>\n      <td>2024-03-05 13:00:00</td>\n      <td>0</td>\n      <td>0</td>\n      <td>0</td>\n      <td>0</td>\n      <td>0</td>\n      <td>0</td>\n      <td>1</td>\n      <td>0</td>\n      <td>0</td>\n    </tr>\n    <tr>\n      <th>63982</th>\n      <td>331</td>\n      <td>6.90</td>\n      <td>477</td>\n      <td>2024-03-05 13:00:00</td>\n      <td>0</td>\n      <td>0</td>\n      <td>0</td>\n      <td>0</td>\n      <td>0</td>\n      <td>0</td>\n      <td>1</td>\n      <td>0</td>\n      <td>0</td>\n    </tr>\n    <tr>\n      <th>63983</th>\n      <td>330</td>\n      <td>6.90</td>\n      <td>433</td>\n      <td>2024-03-05 13:00:00</td>\n      <td>0</td>\n      <td>0</td>\n      <td>0</td>\n      <td>0</td>\n      <td>0</td>\n      <td>0</td>\n      <td>1</td>\n      <td>0</td>\n      <td>0</td>\n    </tr>\n  </tbody>\n</table>\n<p>63984 rows × 13 columns</p>\n</div>"
     },
     "execution_count": 3,
     "metadata": {},
     "output_type": "execute_result"
    }
   ],
   "source": [
    "path = 'data/hystreet_fussgaengerfrequenzen_seit2021.csv'\n",
    "df = load_and_preprocess(path)\n",
    "df"
   ]
  },
  {
   "cell_type": "code",
   "execution_count": 4,
   "metadata": {
    "ExecuteTime": {
     "end_time": "2024-03-05T17:52:57.346237300Z",
     "start_time": "2024-03-05T17:52:55.773610500Z"
    }
   },
   "outputs": [
    {
     "name": "stdout",
     "output_type": "stream",
     "text": [
      "       location_id  temperature  pedestrians_count                 date  \\\n",
      "2              330        13.51                203  2021-09-28 22:00:00   \n",
      "5              330        13.46                 25  2021-09-28 23:00:00   \n",
      "8              330        13.26                 17  2021-09-29 00:00:00   \n",
      "11             330        13.51                 15  2021-09-29 01:00:00   \n",
      "14             330        13.44                 18  2021-09-29 02:00:00   \n",
      "...            ...          ...                ...                  ...   \n",
      "63971          330         6.00                995  2024-03-05 09:00:00   \n",
      "63974          330         6.00               1257  2024-03-05 10:00:00   \n",
      "63977          330         7.00               1561  2024-03-05 11:00:00   \n",
      "63980          330         6.80               1394  2024-03-05 12:00:00   \n",
      "63983          330         6.90                433  2024-03-05 13:00:00   \n",
      "\n",
      "       weather_condition_clear-day  weather_condition_clear-night  \\\n",
      "2                                0                              0   \n",
      "5                                0                              0   \n",
      "8                                0                              0   \n",
      "11                               0                              0   \n",
      "14                               0                              0   \n",
      "...                            ...                            ...   \n",
      "63971                            0                              0   \n",
      "63974                            0                              0   \n",
      "63977                            0                              0   \n",
      "63980                            0                              0   \n",
      "63983                            0                              0   \n",
      "\n",
      "       weather_condition_cloudy  weather_condition_fog  \\\n",
      "2                             1                      0   \n",
      "5                             1                      0   \n",
      "8                             0                      0   \n",
      "11                            0                      0   \n",
      "14                            0                      0   \n",
      "...                         ...                    ...   \n",
      "63971                         0                      0   \n",
      "63974                         0                      0   \n",
      "63977                         0                      0   \n",
      "63980                         0                      0   \n",
      "63983                         0                      0   \n",
      "\n",
      "       weather_condition_partly-cloudy-day  \\\n",
      "2                                        0   \n",
      "5                                        0   \n",
      "8                                        0   \n",
      "11                                       0   \n",
      "14                                       0   \n",
      "...                                    ...   \n",
      "63971                                    0   \n",
      "63974                                    0   \n",
      "63977                                    0   \n",
      "63980                                    0   \n",
      "63983                                    0   \n",
      "\n",
      "       weather_condition_partly-cloudy-night  weather_condition_rain  \\\n",
      "2                                          0                       0   \n",
      "5                                          0                       0   \n",
      "8                                          0                       1   \n",
      "11                                         0                       1   \n",
      "14                                         0                       1   \n",
      "...                                      ...                     ...   \n",
      "63971                                      0                       1   \n",
      "63974                                      0                       1   \n",
      "63977                                      0                       1   \n",
      "63980                                      0                       1   \n",
      "63983                                      0                       1   \n",
      "\n",
      "       weather_condition_snow  weather_condition_wind  \n",
      "2                           0                       0  \n",
      "5                           0                       0  \n",
      "8                           0                       0  \n",
      "11                          0                       0  \n",
      "14                          0                       0  \n",
      "...                       ...                     ...  \n",
      "63971                       0                       0  \n",
      "63974                       0                       0  \n",
      "63977                       0                       0  \n",
      "63980                       0                       0  \n",
      "63983                       0                       0  \n",
      "\n",
      "[21328 rows x 13 columns]\n"
     ]
    },
    {
     "data": {
      "text/plain": "       temperature  pedestrians_count  weather_condition_clear-day  \\\n2            13.51                203                            0   \n5            13.46                 25                            0   \n8            13.26                 17                            0   \n11           13.51                 15                            0   \n14           13.44                 18                            0   \n...            ...                ...                          ...   \n63971         6.00                995                            0   \n63974         6.00               1257                            0   \n63977         7.00               1561                            0   \n63980         6.80               1394                            0   \n63983         6.90                433                            0   \n\n       weather_condition_clear-night  weather_condition_cloudy  \\\n2                                  0                         1   \n5                                  0                         1   \n8                                  0                         0   \n11                                 0                         0   \n14                                 0                         0   \n...                              ...                       ...   \n63971                              0                         0   \n63974                              0                         0   \n63977                              0                         0   \n63980                              0                         0   \n63983                              0                         0   \n\n       weather_condition_fog  weather_condition_partly-cloudy-day  \\\n2                          0                                    0   \n5                          0                                    0   \n8                          0                                    0   \n11                         0                                    0   \n14                         0                                    0   \n...                      ...                                  ...   \n63971                      0                                    0   \n63974                      0                                    0   \n63977                      0                                    0   \n63980                      0                                    0   \n63983                      0                                    0   \n\n       weather_condition_partly-cloudy-night  weather_condition_rain  \\\n2                                          0                       0   \n5                                          0                       0   \n8                                          0                       1   \n11                                         0                       1   \n14                                         0                       1   \n...                                      ...                     ...   \n63971                                      0                       1   \n63974                                      0                       1   \n63977                                      0                       1   \n63980                                      0                       1   \n63983                                      0                       1   \n\n       weather_condition_snow  weather_condition_wind  holiday  time_cos  \\\n2                           0                       0        0  0.866025   \n5                           0                       0        0  0.965926   \n8                           0                       0        0  1.000000   \n11                          0                       0        0  0.965926   \n14                          0                       0        0  0.866025   \n...                       ...                     ...      ...       ...   \n63971                       0                       0        0 -0.707107   \n63974                       0                       0        0 -0.866025   \n63977                       0                       0        0 -0.965926   \n63980                       0                       0        0 -1.000000   \n63983                       0                       0        0 -0.965926   \n\n           time_sin   day_cos   day_sin  dayofyear_cos  dayofyear_sin  \n2     -5.000000e-01  0.623490  0.781831      -0.047321      -0.998880  \n5     -2.588190e-01  0.623490  0.781831      -0.047321      -0.998880  \n8      0.000000e+00 -0.222521  0.974928      -0.030120      -0.999546  \n11     2.588190e-01 -0.222521  0.974928      -0.030120      -0.999546  \n14     5.000000e-01 -0.222521  0.974928      -0.030120      -0.999546  \n...             ...       ...       ...            ...            ...  \n63971  7.071068e-01  0.623490  0.781831       0.436651       0.899631  \n63974  5.000000e-01  0.623490  0.781831       0.436651       0.899631  \n63977  2.588190e-01  0.623490  0.781831       0.436651       0.899631  \n63980  1.224647e-16  0.623490  0.781831       0.436651       0.899631  \n63983 -2.588190e-01  0.623490  0.781831       0.436651       0.899631  \n\n[21328 rows x 18 columns]",
      "text/html": "<div>\n<style scoped>\n    .dataframe tbody tr th:only-of-type {\n        vertical-align: middle;\n    }\n\n    .dataframe tbody tr th {\n        vertical-align: top;\n    }\n\n    .dataframe thead th {\n        text-align: right;\n    }\n</style>\n<table border=\"1\" class=\"dataframe\">\n  <thead>\n    <tr style=\"text-align: right;\">\n      <th></th>\n      <th>temperature</th>\n      <th>pedestrians_count</th>\n      <th>weather_condition_clear-day</th>\n      <th>weather_condition_clear-night</th>\n      <th>weather_condition_cloudy</th>\n      <th>weather_condition_fog</th>\n      <th>weather_condition_partly-cloudy-day</th>\n      <th>weather_condition_partly-cloudy-night</th>\n      <th>weather_condition_rain</th>\n      <th>weather_condition_snow</th>\n      <th>weather_condition_wind</th>\n      <th>holiday</th>\n      <th>time_cos</th>\n      <th>time_sin</th>\n      <th>day_cos</th>\n      <th>day_sin</th>\n      <th>dayofyear_cos</th>\n      <th>dayofyear_sin</th>\n    </tr>\n  </thead>\n  <tbody>\n    <tr>\n      <th>2</th>\n      <td>13.51</td>\n      <td>203</td>\n      <td>0</td>\n      <td>0</td>\n      <td>1</td>\n      <td>0</td>\n      <td>0</td>\n      <td>0</td>\n      <td>0</td>\n      <td>0</td>\n      <td>0</td>\n      <td>0</td>\n      <td>0.866025</td>\n      <td>-5.000000e-01</td>\n      <td>0.623490</td>\n      <td>0.781831</td>\n      <td>-0.047321</td>\n      <td>-0.998880</td>\n    </tr>\n    <tr>\n      <th>5</th>\n      <td>13.46</td>\n      <td>25</td>\n      <td>0</td>\n      <td>0</td>\n      <td>1</td>\n      <td>0</td>\n      <td>0</td>\n      <td>0</td>\n      <td>0</td>\n      <td>0</td>\n      <td>0</td>\n      <td>0</td>\n      <td>0.965926</td>\n      <td>-2.588190e-01</td>\n      <td>0.623490</td>\n      <td>0.781831</td>\n      <td>-0.047321</td>\n      <td>-0.998880</td>\n    </tr>\n    <tr>\n      <th>8</th>\n      <td>13.26</td>\n      <td>17</td>\n      <td>0</td>\n      <td>0</td>\n      <td>0</td>\n      <td>0</td>\n      <td>0</td>\n      <td>0</td>\n      <td>1</td>\n      <td>0</td>\n      <td>0</td>\n      <td>0</td>\n      <td>1.000000</td>\n      <td>0.000000e+00</td>\n      <td>-0.222521</td>\n      <td>0.974928</td>\n      <td>-0.030120</td>\n      <td>-0.999546</td>\n    </tr>\n    <tr>\n      <th>11</th>\n      <td>13.51</td>\n      <td>15</td>\n      <td>0</td>\n      <td>0</td>\n      <td>0</td>\n      <td>0</td>\n      <td>0</td>\n      <td>0</td>\n      <td>1</td>\n      <td>0</td>\n      <td>0</td>\n      <td>0</td>\n      <td>0.965926</td>\n      <td>2.588190e-01</td>\n      <td>-0.222521</td>\n      <td>0.974928</td>\n      <td>-0.030120</td>\n      <td>-0.999546</td>\n    </tr>\n    <tr>\n      <th>14</th>\n      <td>13.44</td>\n      <td>18</td>\n      <td>0</td>\n      <td>0</td>\n      <td>0</td>\n      <td>0</td>\n      <td>0</td>\n      <td>0</td>\n      <td>1</td>\n      <td>0</td>\n      <td>0</td>\n      <td>0</td>\n      <td>0.866025</td>\n      <td>5.000000e-01</td>\n      <td>-0.222521</td>\n      <td>0.974928</td>\n      <td>-0.030120</td>\n      <td>-0.999546</td>\n    </tr>\n    <tr>\n      <th>...</th>\n      <td>...</td>\n      <td>...</td>\n      <td>...</td>\n      <td>...</td>\n      <td>...</td>\n      <td>...</td>\n      <td>...</td>\n      <td>...</td>\n      <td>...</td>\n      <td>...</td>\n      <td>...</td>\n      <td>...</td>\n      <td>...</td>\n      <td>...</td>\n      <td>...</td>\n      <td>...</td>\n      <td>...</td>\n      <td>...</td>\n    </tr>\n    <tr>\n      <th>63971</th>\n      <td>6.00</td>\n      <td>995</td>\n      <td>0</td>\n      <td>0</td>\n      <td>0</td>\n      <td>0</td>\n      <td>0</td>\n      <td>0</td>\n      <td>1</td>\n      <td>0</td>\n      <td>0</td>\n      <td>0</td>\n      <td>-0.707107</td>\n      <td>7.071068e-01</td>\n      <td>0.623490</td>\n      <td>0.781831</td>\n      <td>0.436651</td>\n      <td>0.899631</td>\n    </tr>\n    <tr>\n      <th>63974</th>\n      <td>6.00</td>\n      <td>1257</td>\n      <td>0</td>\n      <td>0</td>\n      <td>0</td>\n      <td>0</td>\n      <td>0</td>\n      <td>0</td>\n      <td>1</td>\n      <td>0</td>\n      <td>0</td>\n      <td>0</td>\n      <td>-0.866025</td>\n      <td>5.000000e-01</td>\n      <td>0.623490</td>\n      <td>0.781831</td>\n      <td>0.436651</td>\n      <td>0.899631</td>\n    </tr>\n    <tr>\n      <th>63977</th>\n      <td>7.00</td>\n      <td>1561</td>\n      <td>0</td>\n      <td>0</td>\n      <td>0</td>\n      <td>0</td>\n      <td>0</td>\n      <td>0</td>\n      <td>1</td>\n      <td>0</td>\n      <td>0</td>\n      <td>0</td>\n      <td>-0.965926</td>\n      <td>2.588190e-01</td>\n      <td>0.623490</td>\n      <td>0.781831</td>\n      <td>0.436651</td>\n      <td>0.899631</td>\n    </tr>\n    <tr>\n      <th>63980</th>\n      <td>6.80</td>\n      <td>1394</td>\n      <td>0</td>\n      <td>0</td>\n      <td>0</td>\n      <td>0</td>\n      <td>0</td>\n      <td>0</td>\n      <td>1</td>\n      <td>0</td>\n      <td>0</td>\n      <td>0</td>\n      <td>-1.000000</td>\n      <td>1.224647e-16</td>\n      <td>0.623490</td>\n      <td>0.781831</td>\n      <td>0.436651</td>\n      <td>0.899631</td>\n    </tr>\n    <tr>\n      <th>63983</th>\n      <td>6.90</td>\n      <td>433</td>\n      <td>0</td>\n      <td>0</td>\n      <td>0</td>\n      <td>0</td>\n      <td>0</td>\n      <td>0</td>\n      <td>1</td>\n      <td>0</td>\n      <td>0</td>\n      <td>0</td>\n      <td>-0.965926</td>\n      <td>-2.588190e-01</td>\n      <td>0.623490</td>\n      <td>0.781831</td>\n      <td>0.436651</td>\n      <td>0.899631</td>\n    </tr>\n  </tbody>\n</table>\n<p>21328 rows × 18 columns</p>\n</div>"
     },
     "execution_count": 4,
     "metadata": {},
     "output_type": "execute_result"
    }
   ],
   "source": [
    "df_mid = df.loc[df['location_id'] == 330]\n",
    "print(df_mid)\n",
    "df_mid = df_mid.drop(columns='location_id')\n",
    "\n",
    "# Temporary drop date\n",
    "df_mid['holiday'] = df_mid.apply(lambda row: check_holiday(row['date']), axis = 1)\n",
    "\n",
    "df_mid['time_cos'] = df_mid.apply(lambda row: hour_features(row['date'])[0], axis = 1)\n",
    "df_mid['time_sin'] = df_mid.apply(lambda row: hour_features(row['date'])[1], axis = 1)\n",
    "\n",
    "df_mid['day_cos'] = df_mid.apply(lambda row: day_features(row['date'])[0], axis = 1)\n",
    "df_mid['day_sin'] = df_mid.apply(lambda row: day_features(row['date'])[1], axis = 1)\n",
    "\n",
    "df_mid['dayofyear_cos'] = df_mid.apply(lambda row: dayofyear_features(row['date'])[0], axis = 1)\n",
    "df_mid['dayofyear_sin'] = df_mid.apply(lambda row: dayofyear_features(row['date'])[1], axis = 1)\n",
    "\n",
    "\n",
    "df_mid = df_mid.drop(columns='date')\n",
    "# df_mid['date'][0].split()\n",
    "# \n",
    "df_mid"
   ]
  },
  {
   "cell_type": "code",
   "execution_count": 5,
   "metadata": {
    "ExecuteTime": {
     "end_time": "2024-03-05T17:52:57.409689300Z",
     "start_time": "2024-03-05T17:52:57.373334500Z"
    }
   },
   "outputs": [],
   "source": [
    "train, test = train_test_split(df_mid, test_size=0.2)"
   ]
  },
  {
   "cell_type": "code",
   "execution_count": 6,
   "metadata": {
    "ExecuteTime": {
     "end_time": "2024-03-05T17:53:09.612751900Z",
     "start_time": "2024-03-05T17:52:57.684635700Z"
    }
   },
   "outputs": [
    {
     "data": {
      "text/plain": "RandomForestRegressor()",
      "text/html": "<style>#sk-container-id-1 {color: black;}#sk-container-id-1 pre{padding: 0;}#sk-container-id-1 div.sk-toggleable {background-color: white;}#sk-container-id-1 label.sk-toggleable__label {cursor: pointer;display: block;width: 100%;margin-bottom: 0;padding: 0.3em;box-sizing: border-box;text-align: center;}#sk-container-id-1 label.sk-toggleable__label-arrow:before {content: \"▸\";float: left;margin-right: 0.25em;color: #696969;}#sk-container-id-1 label.sk-toggleable__label-arrow:hover:before {color: black;}#sk-container-id-1 div.sk-estimator:hover label.sk-toggleable__label-arrow:before {color: black;}#sk-container-id-1 div.sk-toggleable__content {max-height: 0;max-width: 0;overflow: hidden;text-align: left;background-color: #f0f8ff;}#sk-container-id-1 div.sk-toggleable__content pre {margin: 0.2em;color: black;border-radius: 0.25em;background-color: #f0f8ff;}#sk-container-id-1 input.sk-toggleable__control:checked~div.sk-toggleable__content {max-height: 200px;max-width: 100%;overflow: auto;}#sk-container-id-1 input.sk-toggleable__control:checked~label.sk-toggleable__label-arrow:before {content: \"▾\";}#sk-container-id-1 div.sk-estimator input.sk-toggleable__control:checked~label.sk-toggleable__label {background-color: #d4ebff;}#sk-container-id-1 div.sk-label input.sk-toggleable__control:checked~label.sk-toggleable__label {background-color: #d4ebff;}#sk-container-id-1 input.sk-hidden--visually {border: 0;clip: rect(1px 1px 1px 1px);clip: rect(1px, 1px, 1px, 1px);height: 1px;margin: -1px;overflow: hidden;padding: 0;position: absolute;width: 1px;}#sk-container-id-1 div.sk-estimator {font-family: monospace;background-color: #f0f8ff;border: 1px dotted black;border-radius: 0.25em;box-sizing: border-box;margin-bottom: 0.5em;}#sk-container-id-1 div.sk-estimator:hover {background-color: #d4ebff;}#sk-container-id-1 div.sk-parallel-item::after {content: \"\";width: 100%;border-bottom: 1px solid gray;flex-grow: 1;}#sk-container-id-1 div.sk-label:hover label.sk-toggleable__label {background-color: #d4ebff;}#sk-container-id-1 div.sk-serial::before {content: \"\";position: absolute;border-left: 1px solid gray;box-sizing: border-box;top: 0;bottom: 0;left: 50%;z-index: 0;}#sk-container-id-1 div.sk-serial {display: flex;flex-direction: column;align-items: center;background-color: white;padding-right: 0.2em;padding-left: 0.2em;position: relative;}#sk-container-id-1 div.sk-item {position: relative;z-index: 1;}#sk-container-id-1 div.sk-parallel {display: flex;align-items: stretch;justify-content: center;background-color: white;position: relative;}#sk-container-id-1 div.sk-item::before, #sk-container-id-1 div.sk-parallel-item::before {content: \"\";position: absolute;border-left: 1px solid gray;box-sizing: border-box;top: 0;bottom: 0;left: 50%;z-index: -1;}#sk-container-id-1 div.sk-parallel-item {display: flex;flex-direction: column;z-index: 1;position: relative;background-color: white;}#sk-container-id-1 div.sk-parallel-item:first-child::after {align-self: flex-end;width: 50%;}#sk-container-id-1 div.sk-parallel-item:last-child::after {align-self: flex-start;width: 50%;}#sk-container-id-1 div.sk-parallel-item:only-child::after {width: 0;}#sk-container-id-1 div.sk-dashed-wrapped {border: 1px dashed gray;margin: 0 0.4em 0.5em 0.4em;box-sizing: border-box;padding-bottom: 0.4em;background-color: white;}#sk-container-id-1 div.sk-label label {font-family: monospace;font-weight: bold;display: inline-block;line-height: 1.2em;}#sk-container-id-1 div.sk-label-container {text-align: center;}#sk-container-id-1 div.sk-container {/* jupyter's `normalize.less` sets `[hidden] { display: none; }` but bootstrap.min.css set `[hidden] { display: none !important; }` so we also need the `!important` here to be able to override the default hidden behavior on the sphinx rendered scikit-learn.org. See: https://github.com/scikit-learn/scikit-learn/issues/21755 */display: inline-block !important;position: relative;}#sk-container-id-1 div.sk-text-repr-fallback {display: none;}</style><div id=\"sk-container-id-1\" class=\"sk-top-container\"><div class=\"sk-text-repr-fallback\"><pre>RandomForestRegressor()</pre><b>In a Jupyter environment, please rerun this cell to show the HTML representation or trust the notebook. <br />On GitHub, the HTML representation is unable to render, please try loading this page with nbviewer.org.</b></div><div class=\"sk-container\" hidden><div class=\"sk-item\"><div class=\"sk-estimator sk-toggleable\"><input class=\"sk-toggleable__control sk-hidden--visually\" id=\"sk-estimator-id-1\" type=\"checkbox\" checked><label for=\"sk-estimator-id-1\" class=\"sk-toggleable__label sk-toggleable__label-arrow\">RandomForestRegressor</label><div class=\"sk-toggleable__content\"><pre>RandomForestRegressor()</pre></div></div></div></div></div>"
     },
     "execution_count": 6,
     "metadata": {},
     "output_type": "execute_result"
    }
   ],
   "source": [
    "forest = RandomForestRegressor()\n",
    "forest.fit(train.drop(columns='pedestrians_count'), train['pedestrians_count'])"
   ]
  },
  {
   "cell_type": "code",
   "execution_count": 7,
   "metadata": {
    "ExecuteTime": {
     "end_time": "2024-03-05T17:53:09.847728300Z",
     "start_time": "2024-03-05T17:53:09.712883100Z"
    }
   },
   "outputs": [
    {
     "data": {
      "text/plain": "0.8941539101450569"
     },
     "execution_count": 7,
     "metadata": {},
     "output_type": "execute_result"
    }
   ],
   "source": [
    "forest.score(test.drop(columns='pedestrians_count'), test['pedestrians_count'])"
   ]
  },
  {
   "cell_type": "code",
   "execution_count": null,
   "metadata": {},
   "outputs": [],
   "source": []
  },
  {
   "cell_type": "code",
   "execution_count": null,
   "metadata": {},
   "outputs": [],
   "source": []
  },
  {
   "cell_type": "code",
   "execution_count": null,
   "metadata": {},
   "outputs": [],
   "source": []
  },
  {
   "cell_type": "code",
   "execution_count": null,
   "metadata": {},
   "outputs": [],
   "source": []
  }
 ],
 "metadata": {
  "kernelspec": {
   "display_name": "default_env",
   "language": "python",
   "name": "python3"
  },
  "language_info": {
   "codemirror_mode": {
    "name": "ipython",
    "version": 3
   },
   "file_extension": ".py",
   "mimetype": "text/x-python",
   "name": "python",
   "nbconvert_exporter": "python",
   "pygments_lexer": "ipython3",
   "version": "3.11.8"
  }
 },
 "nbformat": 4,
 "nbformat_minor": 2
}
