{
 "cells": [
  {
   "cell_type": "code",
   "execution_count": 3,
   "metadata": {
    "ExecuteTime": {
     "end_time": "2024-03-26T00:50:21.176662800Z",
     "start_time": "2024-03-26T00:50:17.013094700Z"
    }
   },
   "outputs": [],
   "source": [
    "import numpy as np\n",
    "import pandas as pd\n",
    "\n",
    "from datetime import datetime\n",
    "from sklearn.model_selection import train_test_split\n",
    "from xgboost import XGBRegressor\n",
    "import xgboost as xgb\n",
    "from sklearn.metrics import *\n",
    "import torch\n",
    "\n",
    "from utils import load_and_preprocess\n",
    "\n",
    "from datetime import datetime\n",
    "import matplotlib.pyplot as plt\n",
    "import matplotlib"
   ]
  },
  {
   "cell_type": "code",
   "outputs": [],
   "source": [],
   "metadata": {
    "collapsed": false,
    "ExecuteTime": {
     "end_time": "2024-03-26T00:50:27.427130100Z",
     "start_time": "2024-03-26T00:50:27.418617300Z"
    }
   },
   "execution_count": 4
  },
  {
   "cell_type": "code",
   "execution_count": 4,
   "metadata": {
    "ExecuteTime": {
     "end_time": "2024-03-26T00:50:27.415551200Z",
     "start_time": "2024-03-26T00:50:21.178670Z"
    }
   },
   "outputs": [],
   "source": [
    "%matplotlib tk\n",
    "location_id = 329 # 330, 331\n",
    "path = 'data/hystreet_fussgaengerfrequenzen_seit2021.csv'\n",
    "df = load_and_preprocess(path, location_id)\n",
    "\n",
    "df = df.loc[df['is_special_day'] == 0]\n"
   ]
  },
  {
   "cell_type": "code",
   "outputs": [],
   "source": [
    "df"
   ],
   "metadata": {
    "collapsed": false,
    "ExecuteTime": {
     "end_time": "2024-03-26T00:50:12.171433800Z",
     "start_time": "2024-03-26T00:50:12.161922Z"
    }
   },
   "execution_count": null
  },
  {
   "cell_type": "code",
   "outputs": [
    {
     "data": {
      "text/plain": "[<matplotlib.lines.Line2D at 0x20561274690>]"
     },
     "execution_count": 65,
     "metadata": {},
     "output_type": "execute_result"
    }
   ],
   "source": [
    "plt.plot(pd.to_datetime(df['date']), df['pedestrians_count'])\n",
    "df2 = df.loc[df['is_special_day'] == 1]\n",
    "plt.plot(pd.to_datetime(df2['date']), df2['pedestrians_count'])"
   ],
   "metadata": {
    "collapsed": false,
    "ExecuteTime": {
     "end_time": "2024-03-25T23:59:01.644721900Z",
     "start_time": "2024-03-25T23:59:01.483154400Z"
    }
   },
   "execution_count": 65
  },
  {
   "cell_type": "code",
   "outputs": [
    {
     "data": {
      "text/plain": "Empty DataFrame\nColumns: [temperature, pedestrians_count, is_holiday, is_special_day, date, weather_condition_clear-day, weather_condition_clear-night, weather_condition_cloudy, weather_condition_fog, weather_condition_partly-cloudy-day, weather_condition_partly-cloudy-night, weather_condition_rain, weather_condition_snow, weather_condition_wind, time_cos, time_sin, day_cos, day_sin, dayofyear_cos, dayofyear_sin]\nIndex: []",
      "text/html": "<div>\n<style scoped>\n    .dataframe tbody tr th:only-of-type {\n        vertical-align: middle;\n    }\n\n    .dataframe tbody tr th {\n        vertical-align: top;\n    }\n\n    .dataframe thead th {\n        text-align: right;\n    }\n</style>\n<table border=\"1\" class=\"dataframe\">\n  <thead>\n    <tr style=\"text-align: right;\">\n      <th></th>\n      <th>temperature</th>\n      <th>pedestrians_count</th>\n      <th>is_holiday</th>\n      <th>is_special_day</th>\n      <th>date</th>\n      <th>weather_condition_clear-day</th>\n      <th>weather_condition_clear-night</th>\n      <th>weather_condition_cloudy</th>\n      <th>weather_condition_fog</th>\n      <th>weather_condition_partly-cloudy-day</th>\n      <th>weather_condition_partly-cloudy-night</th>\n      <th>weather_condition_rain</th>\n      <th>weather_condition_snow</th>\n      <th>weather_condition_wind</th>\n      <th>time_cos</th>\n      <th>time_sin</th>\n      <th>day_cos</th>\n      <th>day_sin</th>\n      <th>dayofyear_cos</th>\n      <th>dayofyear_sin</th>\n    </tr>\n  </thead>\n  <tbody>\n  </tbody>\n</table>\n</div>"
     },
     "execution_count": 67,
     "metadata": {},
     "output_type": "execute_result"
    }
   ],
   "source": [
    "\n",
    "np.sum(df['is_special_day'])\n",
    "\n",
    "df[df['is_special_day']==1]"
   ],
   "metadata": {
    "collapsed": false,
    "ExecuteTime": {
     "end_time": "2024-03-25T23:59:01.856464500Z",
     "start_time": "2024-03-25T23:59:01.832936400Z"
    }
   },
   "execution_count": 67
  },
  {
   "cell_type": "code",
   "outputs": [
    {
     "data": {
      "text/plain": "[<matplotlib.lines.Line2D at 0x2764fec3b10>]"
     },
     "execution_count": 6,
     "metadata": {},
     "output_type": "execute_result"
    }
   ],
   "source": [
    "plt.plot(pd.to_datetime(df.date), df.pedestrians_count)"
   ],
   "metadata": {
    "collapsed": false,
    "ExecuteTime": {
     "end_time": "2024-03-25T18:49:36.008493300Z",
     "start_time": "2024-03-25T18:49:35.763428100Z"
    }
   },
   "execution_count": 6
  },
  {
   "cell_type": "code",
   "execution_count": 3,
   "metadata": {
    "ExecuteTime": {
     "end_time": "2024-03-25T19:01:14.212317300Z",
     "start_time": "2024-03-25T19:01:13.077238Z"
    }
   },
   "outputs": [],
   "source": [
    "matplotlib.use(\"TkAgg\")\n",
    "plt.figure()\n",
    "plt.plot([datetime.strptime(d, \"%Y-%m-%d %H:%M:%S\") for d in df['date']], df['pedestrians_count'])\n",
    "plt.show()\n",
    "\n",
    "plt.figure()\n",
    "plt.hist(df['pedestrians_count'], bins=50)\n",
    "plt.show()\n",
    "\n",
    "window_size = 24*365  # You can adjust this as needed\n",
    "m_avg = df['pedestrians_count'].rolling(window=window_size, center=True).mean()\n",
    "\n",
    "# Plot original data and centered moving average\n",
    "plt.figure()\n",
    "plt.plot([datetime.strptime(d, \"%Y-%m-%d %H:%M:%S\") for d in df['date']], df['pedestrians_count'], label='Pedestrians Count')\n",
    "plt.plot([datetime.strptime(d, \"%Y-%m-%d %H:%M:%S\") for d in df['date']], m_avg, label='Moving Average', linestyle='--')\n",
    "plt.xlabel('Date')\n",
    "plt.ylabel('Pedestrians Count')\n",
    "plt.title('Pedestrians Count with Centered Moving Average')\n",
    "plt.legend()\n",
    "plt.show()"
   ]
  },
  {
   "cell_type": "code",
   "outputs": [],
   "source": [
    "#split train-test manually\n",
    "df_unseen = df[[datetime.strptime(d, '%Y-%m-%d %H:%M:%S') > datetime(2023, 5, 5) for d in df['date']]]\n",
    "df_seen = df[[datetime.strptime(d, '%Y-%m-%d %H:%M:%S') <= datetime(2023, 5, 5) for d in df['date']]]\n",
    "\n",
    "\n",
    "X_train = df_seen.drop(columns=[\"date\", 'pedestrians_count', 'is_special_day'])\n",
    "y_train = df_seen['pedestrians_count']\n",
    "\n",
    "X_test = df_unseen.drop(columns=[\"date\", 'pedestrians_count', 'is_special_day'])\n",
    "y_test = df_unseen['pedestrians_count']"
   ],
   "metadata": {
    "collapsed": false,
    "ExecuteTime": {
     "end_time": "2024-03-26T00:50:31.755046300Z",
     "start_time": "2024-03-26T00:50:31.254884500Z"
    }
   },
   "execution_count": 6
  },
  {
   "cell_type": "code",
   "execution_count": 7,
   "metadata": {
    "ExecuteTime": {
     "end_time": "2024-03-26T00:50:35.152187Z",
     "start_time": "2024-03-26T00:50:33.565520100Z"
    }
   },
   "outputs": [
    {
     "data": {
      "text/plain": "XGBRegressor(base_score=None, booster=None, callbacks=None,\n             colsample_bylevel=None, colsample_bynode=None,\n             colsample_bytree=None, device='cuda', early_stopping_rounds=None,\n             enable_categorical=False, eta=0.2, eval_metric=None,\n             feature_types=None, gamma=None, grow_policy=None,\n             importance_type=None, interaction_constraints=None,\n             learning_rate=None, max_bin=None, max_cat_threshold=None,\n             max_cat_to_onehot=None, max_delta_step=None, max_depth=10,\n             max_leaves=None, min_child_weight=None, missing=nan,\n             monotone_constraints=None, multi_strategy=None, n_estimators=None,\n             n_jobs=None, num_parallel_tree=None, ...)",
      "text/html": "<style>#sk-container-id-1 {color: black;}#sk-container-id-1 pre{padding: 0;}#sk-container-id-1 div.sk-toggleable {background-color: white;}#sk-container-id-1 label.sk-toggleable__label {cursor: pointer;display: block;width: 100%;margin-bottom: 0;padding: 0.3em;box-sizing: border-box;text-align: center;}#sk-container-id-1 label.sk-toggleable__label-arrow:before {content: \"▸\";float: left;margin-right: 0.25em;color: #696969;}#sk-container-id-1 label.sk-toggleable__label-arrow:hover:before {color: black;}#sk-container-id-1 div.sk-estimator:hover label.sk-toggleable__label-arrow:before {color: black;}#sk-container-id-1 div.sk-toggleable__content {max-height: 0;max-width: 0;overflow: hidden;text-align: left;background-color: #f0f8ff;}#sk-container-id-1 div.sk-toggleable__content pre {margin: 0.2em;color: black;border-radius: 0.25em;background-color: #f0f8ff;}#sk-container-id-1 input.sk-toggleable__control:checked~div.sk-toggleable__content {max-height: 200px;max-width: 100%;overflow: auto;}#sk-container-id-1 input.sk-toggleable__control:checked~label.sk-toggleable__label-arrow:before {content: \"▾\";}#sk-container-id-1 div.sk-estimator input.sk-toggleable__control:checked~label.sk-toggleable__label {background-color: #d4ebff;}#sk-container-id-1 div.sk-label input.sk-toggleable__control:checked~label.sk-toggleable__label {background-color: #d4ebff;}#sk-container-id-1 input.sk-hidden--visually {border: 0;clip: rect(1px 1px 1px 1px);clip: rect(1px, 1px, 1px, 1px);height: 1px;margin: -1px;overflow: hidden;padding: 0;position: absolute;width: 1px;}#sk-container-id-1 div.sk-estimator {font-family: monospace;background-color: #f0f8ff;border: 1px dotted black;border-radius: 0.25em;box-sizing: border-box;margin-bottom: 0.5em;}#sk-container-id-1 div.sk-estimator:hover {background-color: #d4ebff;}#sk-container-id-1 div.sk-parallel-item::after {content: \"\";width: 100%;border-bottom: 1px solid gray;flex-grow: 1;}#sk-container-id-1 div.sk-label:hover label.sk-toggleable__label {background-color: #d4ebff;}#sk-container-id-1 div.sk-serial::before {content: \"\";position: absolute;border-left: 1px solid gray;box-sizing: border-box;top: 0;bottom: 0;left: 50%;z-index: 0;}#sk-container-id-1 div.sk-serial {display: flex;flex-direction: column;align-items: center;background-color: white;padding-right: 0.2em;padding-left: 0.2em;position: relative;}#sk-container-id-1 div.sk-item {position: relative;z-index: 1;}#sk-container-id-1 div.sk-parallel {display: flex;align-items: stretch;justify-content: center;background-color: white;position: relative;}#sk-container-id-1 div.sk-item::before, #sk-container-id-1 div.sk-parallel-item::before {content: \"\";position: absolute;border-left: 1px solid gray;box-sizing: border-box;top: 0;bottom: 0;left: 50%;z-index: -1;}#sk-container-id-1 div.sk-parallel-item {display: flex;flex-direction: column;z-index: 1;position: relative;background-color: white;}#sk-container-id-1 div.sk-parallel-item:first-child::after {align-self: flex-end;width: 50%;}#sk-container-id-1 div.sk-parallel-item:last-child::after {align-self: flex-start;width: 50%;}#sk-container-id-1 div.sk-parallel-item:only-child::after {width: 0;}#sk-container-id-1 div.sk-dashed-wrapped {border: 1px dashed gray;margin: 0 0.4em 0.5em 0.4em;box-sizing: border-box;padding-bottom: 0.4em;background-color: white;}#sk-container-id-1 div.sk-label label {font-family: monospace;font-weight: bold;display: inline-block;line-height: 1.2em;}#sk-container-id-1 div.sk-label-container {text-align: center;}#sk-container-id-1 div.sk-container {/* jupyter's `normalize.less` sets `[hidden] { display: none; }` but bootstrap.min.css set `[hidden] { display: none !important; }` so we also need the `!important` here to be able to override the default hidden behavior on the sphinx rendered scikit-learn.org. See: https://github.com/scikit-learn/scikit-learn/issues/21755 */display: inline-block !important;position: relative;}#sk-container-id-1 div.sk-text-repr-fallback {display: none;}</style><div id=\"sk-container-id-1\" class=\"sk-top-container\"><div class=\"sk-text-repr-fallback\"><pre>XGBRegressor(base_score=None, booster=None, callbacks=None,\n             colsample_bylevel=None, colsample_bynode=None,\n             colsample_bytree=None, device=&#x27;cuda&#x27;, early_stopping_rounds=None,\n             enable_categorical=False, eta=0.2, eval_metric=None,\n             feature_types=None, gamma=None, grow_policy=None,\n             importance_type=None, interaction_constraints=None,\n             learning_rate=None, max_bin=None, max_cat_threshold=None,\n             max_cat_to_onehot=None, max_delta_step=None, max_depth=10,\n             max_leaves=None, min_child_weight=None, missing=nan,\n             monotone_constraints=None, multi_strategy=None, n_estimators=None,\n             n_jobs=None, num_parallel_tree=None, ...)</pre><b>In a Jupyter environment, please rerun this cell to show the HTML representation or trust the notebook. <br />On GitHub, the HTML representation is unable to render, please try loading this page with nbviewer.org.</b></div><div class=\"sk-container\" hidden><div class=\"sk-item\"><div class=\"sk-estimator sk-toggleable\"><input class=\"sk-toggleable__control sk-hidden--visually\" id=\"sk-estimator-id-1\" type=\"checkbox\" checked><label for=\"sk-estimator-id-1\" class=\"sk-toggleable__label sk-toggleable__label-arrow\">XGBRegressor</label><div class=\"sk-toggleable__content\"><pre>XGBRegressor(base_score=None, booster=None, callbacks=None,\n             colsample_bylevel=None, colsample_bynode=None,\n             colsample_bytree=None, device=&#x27;cuda&#x27;, early_stopping_rounds=None,\n             enable_categorical=False, eta=0.2, eval_metric=None,\n             feature_types=None, gamma=None, grow_policy=None,\n             importance_type=None, interaction_constraints=None,\n             learning_rate=None, max_bin=None, max_cat_threshold=None,\n             max_cat_to_onehot=None, max_delta_step=None, max_depth=10,\n             max_leaves=None, min_child_weight=None, missing=nan,\n             monotone_constraints=None, multi_strategy=None, n_estimators=None,\n             n_jobs=None, num_parallel_tree=None, ...)</pre></div></div></div></div></div>"
     },
     "execution_count": 7,
     "metadata": {},
     "output_type": "execute_result"
    }
   ],
   "source": [
    "model = XGBRegressor()\n",
    "\n",
    "params = dict()\n",
    "params[\"device\"] = \"cuda\" if torch.cuda.is_available() else \"cpu\"\n",
    "params['eta'] = 0.1\n",
    "params['verbosity'] = 2\n",
    "params['objective'] = 'reg:squarederror'    \n",
    "params['max_depth'] = 10\n",
    "model.set_params(**params)\n",
    "\n",
    "model.fit(X_train, y_train)"
   ]
  },
  {
   "cell_type": "code",
   "execution_count": 8,
   "metadata": {
    "ExecuteTime": {
     "end_time": "2024-03-26T00:50:37.501242400Z",
     "start_time": "2024-03-26T00:50:37.435017800Z"
    }
   },
   "outputs": [
    {
     "name": "stdout",
     "output_type": "stream",
     "text": [
      "Score in the training set: 0.998673605525999\n",
      "Score in the test set: 0.9421187535257407\n"
     ]
    },
    {
     "name": "stderr",
     "output_type": "stream",
     "text": [
      "C:\\Users\\cemke\\anaconda3\\Lib\\site-packages\\xgboost\\core.py:160: UserWarning: [01:50:37] WARNING: C:\\buildkite-agent\\builds\\buildkite-windows-cpu-autoscaling-group-i-0b3782d1791676daf-1\\xgboost\\xgboost-ci-windows\\src\\common\\error_msg.cc:58: Falling back to prediction using DMatrix due to mismatched devices. This might lead to higher memory usage and slower performance. XGBoost is running on: cuda:0, while the input data is on: cpu.\n",
      "Potential solutions:\n",
      "- Use a data structure that matches the device ordinal in the booster.\n",
      "- Set the device for booster before call to inplace_predict.\n",
      "\n",
      "This warning will only be shown once.\n",
      "\n",
      "  warnings.warn(smsg, UserWarning)\n"
     ]
    }
   ],
   "source": [
    "print(\"Score in the training set:\" , model.score(X_train, y_train))\n",
    "print(\"Score in the test set:\" , model.score(X_test, y_test))"
   ]
  },
  {
   "cell_type": "code",
   "outputs": [
    {
     "name": "stdout",
     "output_type": "stream",
     "text": [
      "356.6683315793036\n",
      "207.43187075249512\n"
     ]
    }
   ],
   "source": [
    "print(mean_squared_error(y_test, model.predict(X_test), squared=False))\n",
    "print(mean_absolute_error(y_test, model.predict(X_test)))"
   ],
   "metadata": {
    "collapsed": false,
    "ExecuteTime": {
     "end_time": "2024-03-26T00:50:40.655245200Z",
     "start_time": "2024-03-26T00:50:40.604399600Z"
    }
   },
   "execution_count": 9
  },
  {
   "cell_type": "code",
   "outputs": [
    {
     "name": "stdout",
     "output_type": "stream",
     "text": [
      "52.39612866973692\n",
      "33.11129101548343\n"
     ]
    }
   ],
   "source": [
    "print(mean_squared_error(y_train, model.predict(X_train), squared=False))\n",
    "print(mean_absolute_error(y_train, model.predict(X_train)))"
   ],
   "metadata": {
    "collapsed": false,
    "ExecuteTime": {
     "end_time": "2024-03-26T00:50:41.787295Z",
     "start_time": "2024-03-26T00:50:41.671200300Z"
    }
   },
   "execution_count": 10
  },
  {
   "cell_type": "code",
   "execution_count": 11,
   "metadata": {
    "ExecuteTime": {
     "end_time": "2024-03-26T00:50:43.572306500Z",
     "start_time": "2024-03-26T00:50:43.430532500Z"
    }
   },
   "outputs": [],
   "source": [
    "reals = np.array(df_unseen['pedestrians_count'])\n",
    "preds = np.array(model.predict(df_unseen.drop(columns=['pedestrians_count', 'date', 'is_special_day'])))\n",
    "dates = np.array([datetime.strptime(d, \"%Y-%m-%d %H:%M:%S\") for d in df_unseen['date']])"
   ]
  },
  {
   "cell_type": "code",
   "execution_count": 12,
   "metadata": {
    "ExecuteTime": {
     "end_time": "2024-03-26T00:50:44.438250700Z",
     "start_time": "2024-03-26T00:50:44.283399300Z"
    }
   },
   "outputs": [],
   "source": [
    "%matplotlib tk\n",
    "matplotlib.use(\"TkAgg\")\n",
    "plt.figure()\n",
    "plt.plot(dates, reals)\n",
    "plt.plot(dates, preds)\n",
    "plt.show()"
   ]
  },
  {
   "cell_type": "code",
   "execution_count": 14,
   "metadata": {
    "ExecuteTime": {
     "end_time": "2024-03-26T00:50:54.266458Z",
     "start_time": "2024-03-26T00:50:54.008844200Z"
    }
   },
   "outputs": [
    {
     "data": {
      "text/plain": "(array([1.000e+00, 0.000e+00, 0.000e+00, 0.000e+00, 0.000e+00, 0.000e+00,\n        0.000e+00, 0.000e+00, 0.000e+00, 0.000e+00, 0.000e+00, 0.000e+00,\n        0.000e+00, 0.000e+00, 1.000e+00, 1.000e+00, 0.000e+00, 0.000e+00,\n        1.000e+00, 1.000e+00, 0.000e+00, 1.000e+00, 1.000e+00, 0.000e+00,\n        0.000e+00, 0.000e+00, 0.000e+00, 1.000e+00, 1.000e+00, 0.000e+00,\n        1.000e+00, 1.000e+00, 2.000e+00, 0.000e+00, 3.000e+00, 2.000e+00,\n        2.000e+00, 4.000e+00, 1.000e+00, 1.000e+00, 1.000e+00, 2.000e+00,\n        1.000e+00, 1.000e+00, 3.000e+00, 2.000e+00, 0.000e+00, 4.000e+00,\n        3.000e+00, 4.000e+00, 2.000e+00, 1.000e+00, 1.000e+00, 4.000e+00,\n        0.000e+00, 5.000e+00, 3.000e+00, 6.000e+00, 4.000e+00, 3.000e+00,\n        6.000e+00, 4.000e+00, 2.000e+00, 2.000e+00, 5.000e+00, 8.000e+00,\n        6.000e+00, 3.000e+00, 1.000e+01, 7.000e+00, 1.900e+01, 1.000e+01,\n        2.000e+01, 1.600e+01, 1.300e+01, 2.100e+01, 1.400e+01, 2.300e+01,\n        1.900e+01, 3.400e+01, 3.600e+01, 3.300e+01, 3.500e+01, 5.500e+01,\n        5.100e+01, 7.100e+01, 8.700e+01, 9.900e+01, 1.610e+02, 2.110e+02,\n        3.750e+02, 7.220e+02, 1.002e+03, 6.220e+02, 3.960e+02, 3.440e+02,\n        2.780e+02, 2.420e+02, 2.180e+02, 2.200e+02, 1.610e+02, 1.620e+02,\n        1.450e+02, 1.150e+02, 1.070e+02, 1.000e+02, 7.700e+01, 6.800e+01,\n        7.000e+01, 7.100e+01, 5.000e+01, 5.000e+01, 4.400e+01, 3.900e+01,\n        2.500e+01, 2.400e+01, 2.100e+01, 1.800e+01, 1.400e+01, 1.500e+01,\n        1.600e+01, 1.500e+01, 1.100e+01, 9.000e+00, 8.000e+00, 1.000e+01,\n        5.000e+00, 7.000e+00, 6.000e+00, 7.000e+00, 4.000e+00, 5.000e+00,\n        7.000e+00, 3.000e+00, 2.000e+00, 2.000e+00, 4.000e+00, 0.000e+00,\n        5.000e+00, 5.000e+00, 1.000e+00, 0.000e+00, 1.000e+00, 3.000e+00,\n        0.000e+00, 5.000e+00, 1.000e+00, 3.000e+00, 0.000e+00, 1.000e+00,\n        3.000e+00, 0.000e+00, 0.000e+00, 1.000e+00, 1.000e+00, 1.000e+00,\n        2.000e+00, 2.000e+00, 2.000e+00, 0.000e+00, 1.000e+00, 0.000e+00,\n        0.000e+00, 1.000e+00, 1.000e+00, 0.000e+00, 0.000e+00, 0.000e+00,\n        1.000e+00, 0.000e+00, 0.000e+00, 0.000e+00, 0.000e+00, 0.000e+00,\n        0.000e+00, 0.000e+00, 0.000e+00, 0.000e+00, 0.000e+00, 0.000e+00,\n        0.000e+00, 0.000e+00, 0.000e+00, 0.000e+00, 0.000e+00, 0.000e+00,\n        0.000e+00, 0.000e+00, 0.000e+00, 0.000e+00, 0.000e+00, 0.000e+00,\n        1.000e+00, 0.000e+00, 0.000e+00, 0.000e+00, 0.000e+00, 1.000e+00,\n        0.000e+00, 1.000e+00]),\n array([-2867.11767578, -2836.15790649, -2805.19813721, -2774.23836792,\n        -2743.27859863, -2712.31882935, -2681.35906006, -2650.39929077,\n        -2619.43952148, -2588.4797522 , -2557.51998291, -2526.56021362,\n        -2495.60044434, -2464.64067505, -2433.68090576, -2402.72113647,\n        -2371.76136719, -2340.8015979 , -2309.84182861, -2278.88205933,\n        -2247.92229004, -2216.96252075, -2186.00275146, -2155.04298218,\n        -2124.08321289, -2093.1234436 , -2062.16367432, -2031.20390503,\n        -2000.24413574, -1969.28436646, -1938.32459717, -1907.36482788,\n        -1876.40505859, -1845.44528931, -1814.48552002, -1783.52575073,\n        -1752.56598145, -1721.60621216, -1690.64644287, -1659.68667358,\n        -1628.7269043 , -1597.76713501, -1566.80736572, -1535.84759644,\n        -1504.88782715, -1473.92805786, -1442.96828857, -1412.00851929,\n        -1381.04875   , -1350.08898071, -1319.12921143, -1288.16944214,\n        -1257.20967285, -1226.24990356, -1195.29013428, -1164.33036499,\n        -1133.3705957 , -1102.41082642, -1071.45105713, -1040.49128784,\n        -1009.53151855,  -978.57174927,  -947.61197998,  -916.65221069,\n         -885.69244141,  -854.73267212,  -823.77290283,  -792.81313354,\n         -761.85336426,  -730.89359497,  -699.93382568,  -668.9740564 ,\n         -638.01428711,  -607.05451782,  -576.09474854,  -545.13497925,\n         -514.17520996,  -483.21544067,  -452.25567139,  -421.2959021 ,\n         -390.33613281,  -359.37636353,  -328.41659424,  -297.45682495,\n         -266.49705566,  -235.53728638,  -204.57751709,  -173.6177478 ,\n         -142.65797852,  -111.69820923,   -80.73843994,   -49.77867065,\n          -18.81890137,    12.14086792,    43.10063721,    74.06040649,\n          105.02017578,   135.97994507,   166.93971436,   197.89948364,\n          228.85925293,   259.81902222,   290.7787915 ,   321.73856079,\n          352.69833008,   383.65809937,   414.61786865,   445.57763794,\n          476.53740723,   507.49717651,   538.4569458 ,   569.41671509,\n          600.37648438,   631.33625366,   662.29602295,   693.25579224,\n          724.21556152,   755.17533081,   786.1351001 ,   817.09486938,\n          848.05463867,   879.01440796,   909.97417725,   940.93394653,\n          971.89371582,  1002.85348511,  1033.81325439,  1064.77302368,\n         1095.73279297,  1126.69256226,  1157.65233154,  1188.61210083,\n         1219.57187012,  1250.5316394 ,  1281.49140869,  1312.45117798,\n         1343.41094727,  1374.37071655,  1405.33048584,  1436.29025513,\n         1467.25002441,  1498.2097937 ,  1529.16956299,  1560.12933228,\n         1591.08910156,  1622.04887085,  1653.00864014,  1683.96840942,\n         1714.92817871,  1745.887948  ,  1776.84771729,  1807.80748657,\n         1838.76725586,  1869.72702515,  1900.68679443,  1931.64656372,\n         1962.60633301,  1993.56610229,  2024.52587158,  2055.48564087,\n         2086.44541016,  2117.40517944,  2148.36494873,  2179.32471802,\n         2210.2844873 ,  2241.24425659,  2272.20402588,  2303.16379517,\n         2334.12356445,  2365.08333374,  2396.04310303,  2427.00287231,\n         2457.9626416 ,  2488.92241089,  2519.88218018,  2550.84194946,\n         2581.80171875,  2612.76148804,  2643.72125732,  2674.68102661,\n         2705.6407959 ,  2736.60056519,  2767.56033447,  2798.52010376,\n         2829.47987305,  2860.43964233,  2891.39941162,  2922.35918091,\n         2953.3189502 ,  2984.27871948,  3015.23848877,  3046.19825806,\n         3077.15802734,  3108.11779663,  3139.07756592,  3170.03733521,\n         3200.99710449,  3231.95687378,  3262.91664307,  3293.87641235,\n         3324.83618164]),\n <BarContainer object of 200 artists>)"
     },
     "execution_count": 14,
     "metadata": {},
     "output_type": "execute_result"
    }
   ],
   "source": [
    "errors = (reals-preds)\n",
    "plt.hist(errors, bins=200)"
   ]
  },
  {
   "cell_type": "code",
   "outputs": [
    {
     "data": {
      "text/plain": "605.4662109374999"
     },
     "execution_count": 15,
     "metadata": {},
     "output_type": "execute_result"
    }
   ],
   "source": [
    "np.percentile(errors, 95)"
   ],
   "metadata": {
    "collapsed": false,
    "ExecuteTime": {
     "end_time": "2024-03-26T00:50:57.036181400Z",
     "start_time": "2024-03-26T00:50:57.027475900Z"
    }
   },
   "execution_count": 15
  },
  {
   "cell_type": "code",
   "outputs": [
    {
     "data": {
      "text/plain": "-358.349658203125"
     },
     "execution_count": 16,
     "metadata": {},
     "output_type": "execute_result"
    }
   ],
   "source": [
    "np.percentile(errors, 5)"
   ],
   "metadata": {
    "collapsed": false,
    "ExecuteTime": {
     "end_time": "2024-03-26T00:50:58.399687Z",
     "start_time": "2024-03-26T00:50:58.395110300Z"
    }
   },
   "execution_count": 16
  },
  {
   "cell_type": "code",
   "outputs": [
    {
     "data": {
      "text/plain": "<Axes: title={'center': 'Feature importance by gain'}, xlabel='F score', ylabel='Features'>"
     },
     "execution_count": 17,
     "metadata": {},
     "output_type": "execute_result"
    }
   ],
   "source": [
    "xgb.plot_importance(model, importance_type='weight', title='Feature importance by weight')\n",
    "xgb.plot_importance(model, importance_type='gain', title='Feature importance by gain')\n",
    "# xgb.plot_importance(model, importance_type='cover', title='Feature importance by cover')"
   ],
   "metadata": {
    "collapsed": false,
    "ExecuteTime": {
     "end_time": "2024-03-26T00:51:00.139439100Z",
     "start_time": "2024-03-26T00:50:59.827428900Z"
    }
   },
   "execution_count": 17
  },
  {
   "cell_type": "code",
   "outputs": [],
   "source": [
    "import shap\n",
    "\n",
    "explainer = shap.Explainer(model)\n",
    "shap_values = explainer(X_train, check_additivity=False)\n",
    "shap.plots.beeswarm(shap_values, max_display=20)"
   ],
   "metadata": {
    "collapsed": false,
    "ExecuteTime": {
     "end_time": "2024-03-26T00:53:21.083438100Z",
     "start_time": "2024-03-26T00:53:19.069075300Z"
    }
   },
   "execution_count": 20
  },
  {
   "cell_type": "code",
   "outputs": [],
   "source": [],
   "metadata": {
    "collapsed": false
   }
  }
 ],
 "metadata": {
  "kernelspec": {
   "display_name": "default_env",
   "language": "python",
   "name": "python3"
  },
  "language_info": {
   "codemirror_mode": {
    "name": "ipython",
    "version": 3
   },
   "file_extension": ".py",
   "mimetype": "text/x-python",
   "name": "python",
   "nbconvert_exporter": "python",
   "pygments_lexer": "ipython3",
   "version": "3.11.8"
  }
 },
 "nbformat": 4,
 "nbformat_minor": 2
}
