{
 "cells": [
  {
   "cell_type": "code",
   "execution_count": 1,
   "metadata": {
    "ExecuteTime": {
     "end_time": "2024-03-22T09:51:09.606481Z",
     "start_time": "2024-03-22T09:51:06.750494900Z"
    }
   },
   "outputs": [],
   "source": [
    "import numpy as np\n",
    "import pandas as pd\n",
    "\n",
    "from datetime import datetime\n",
    "from sklearn.model_selection import train_test_split\n",
    "from sklearn.ensemble import RandomForestRegressor\n",
    "\n",
    "from is_holiday import check_holiday\n",
    "from utilites import hour_features, day_features, dayofyear_features\n",
    "\n",
    "from datetime import datetime\n",
    "import matplotlib.pyplot as plt\n",
    "import matplotlib"
   ]
  },
  {
   "cell_type": "code",
   "execution_count": 2,
   "metadata": {
    "ExecuteTime": {
     "end_time": "2024-03-22T09:51:09.631325500Z",
     "start_time": "2024-03-22T09:51:09.609309400Z"
    }
   },
   "outputs": [],
   "source": [
    "def encode(original_dataframe: pd.DataFrame, \n",
    "    feature_to_encode: str) -> pd.DataFrame:\n",
    "    \n",
    "    dummies = pd.get_dummies(original_dataframe[[feature_to_encode]], dtype=int)\n",
    "    res = pd.concat([original_dataframe, dummies], axis=1)\n",
    "    return res.drop(columns=feature_to_encode)\n",
    "\n",
    "def load_and_preprocess(path: str) -> pd.DataFrame:\n",
    "    df = pd.read_csv(path)\n",
    "    # Drop unnecessary columns\n",
    "    df = df[['timestamp', 'location_id', 'weather_condition', 'temperature', 'pedestrians_count']]\n",
    "    \n",
    "    # Rearrange date\n",
    "    df['date'] = df.apply(lambda row: str(datetime.strptime(row['timestamp'], '%Y-%m-%dT%H:%M:%SZ')), axis = 1)\n",
    "    df = df.drop(columns='timestamp')\n",
    "\n",
    "    # One-hot encoding for weather\n",
    "    df = encode(df, 'weather_condition')\n",
    "    return df\n"
   ]
  },
  {
   "cell_type": "code",
   "execution_count": 3,
   "metadata": {
    "ExecuteTime": {
     "end_time": "2024-03-22T09:51:10.858916500Z",
     "start_time": "2024-03-22T09:51:09.613323400Z"
    }
   },
   "outputs": [
    {
     "data": {
      "text/plain": "       location_id  temperature  pedestrians_count                 date  \\\n0              329        13.51                151  2021-09-28 22:00:00   \n1              331        13.51                118  2021-09-28 22:00:00   \n2              330        13.51                203  2021-09-28 22:00:00   \n3              329        13.46                 19  2021-09-28 23:00:00   \n4              331        13.46                  7  2021-09-28 23:00:00   \n...            ...          ...                ...                  ...   \n63979          331         6.80               2053  2024-03-05 12:00:00   \n63980          330         6.80               1394  2024-03-05 12:00:00   \n63981          329         6.90                644  2024-03-05 13:00:00   \n63982          331         6.90                477  2024-03-05 13:00:00   \n63983          330         6.90                433  2024-03-05 13:00:00   \n\n       weather_condition_clear-day  weather_condition_clear-night  \\\n0                                0                              0   \n1                                0                              0   \n2                                0                              0   \n3                                0                              0   \n4                                0                              0   \n...                            ...                            ...   \n63979                            0                              0   \n63980                            0                              0   \n63981                            0                              0   \n63982                            0                              0   \n63983                            0                              0   \n\n       weather_condition_cloudy  weather_condition_fog  \\\n0                             1                      0   \n1                             1                      0   \n2                             1                      0   \n3                             1                      0   \n4                             1                      0   \n...                         ...                    ...   \n63979                         0                      0   \n63980                         0                      0   \n63981                         0                      0   \n63982                         0                      0   \n63983                         0                      0   \n\n       weather_condition_partly-cloudy-day  \\\n0                                        0   \n1                                        0   \n2                                        0   \n3                                        0   \n4                                        0   \n...                                    ...   \n63979                                    0   \n63980                                    0   \n63981                                    0   \n63982                                    0   \n63983                                    0   \n\n       weather_condition_partly-cloudy-night  weather_condition_rain  \\\n0                                          0                       0   \n1                                          0                       0   \n2                                          0                       0   \n3                                          0                       0   \n4                                          0                       0   \n...                                      ...                     ...   \n63979                                      0                       1   \n63980                                      0                       1   \n63981                                      0                       1   \n63982                                      0                       1   \n63983                                      0                       1   \n\n       weather_condition_snow  weather_condition_wind  \n0                           0                       0  \n1                           0                       0  \n2                           0                       0  \n3                           0                       0  \n4                           0                       0  \n...                       ...                     ...  \n63979                       0                       0  \n63980                       0                       0  \n63981                       0                       0  \n63982                       0                       0  \n63983                       0                       0  \n\n[63984 rows x 13 columns]",
      "text/html": "<div>\n<style scoped>\n    .dataframe tbody tr th:only-of-type {\n        vertical-align: middle;\n    }\n\n    .dataframe tbody tr th {\n        vertical-align: top;\n    }\n\n    .dataframe thead th {\n        text-align: right;\n    }\n</style>\n<table border=\"1\" class=\"dataframe\">\n  <thead>\n    <tr style=\"text-align: right;\">\n      <th></th>\n      <th>location_id</th>\n      <th>temperature</th>\n      <th>pedestrians_count</th>\n      <th>date</th>\n      <th>weather_condition_clear-day</th>\n      <th>weather_condition_clear-night</th>\n      <th>weather_condition_cloudy</th>\n      <th>weather_condition_fog</th>\n      <th>weather_condition_partly-cloudy-day</th>\n      <th>weather_condition_partly-cloudy-night</th>\n      <th>weather_condition_rain</th>\n      <th>weather_condition_snow</th>\n      <th>weather_condition_wind</th>\n    </tr>\n  </thead>\n  <tbody>\n    <tr>\n      <th>0</th>\n      <td>329</td>\n      <td>13.51</td>\n      <td>151</td>\n      <td>2021-09-28 22:00:00</td>\n      <td>0</td>\n      <td>0</td>\n      <td>1</td>\n      <td>0</td>\n      <td>0</td>\n      <td>0</td>\n      <td>0</td>\n      <td>0</td>\n      <td>0</td>\n    </tr>\n    <tr>\n      <th>1</th>\n      <td>331</td>\n      <td>13.51</td>\n      <td>118</td>\n      <td>2021-09-28 22:00:00</td>\n      <td>0</td>\n      <td>0</td>\n      <td>1</td>\n      <td>0</td>\n      <td>0</td>\n      <td>0</td>\n      <td>0</td>\n      <td>0</td>\n      <td>0</td>\n    </tr>\n    <tr>\n      <th>2</th>\n      <td>330</td>\n      <td>13.51</td>\n      <td>203</td>\n      <td>2021-09-28 22:00:00</td>\n      <td>0</td>\n      <td>0</td>\n      <td>1</td>\n      <td>0</td>\n      <td>0</td>\n      <td>0</td>\n      <td>0</td>\n      <td>0</td>\n      <td>0</td>\n    </tr>\n    <tr>\n      <th>3</th>\n      <td>329</td>\n      <td>13.46</td>\n      <td>19</td>\n      <td>2021-09-28 23:00:00</td>\n      <td>0</td>\n      <td>0</td>\n      <td>1</td>\n      <td>0</td>\n      <td>0</td>\n      <td>0</td>\n      <td>0</td>\n      <td>0</td>\n      <td>0</td>\n    </tr>\n    <tr>\n      <th>4</th>\n      <td>331</td>\n      <td>13.46</td>\n      <td>7</td>\n      <td>2021-09-28 23:00:00</td>\n      <td>0</td>\n      <td>0</td>\n      <td>1</td>\n      <td>0</td>\n      <td>0</td>\n      <td>0</td>\n      <td>0</td>\n      <td>0</td>\n      <td>0</td>\n    </tr>\n    <tr>\n      <th>...</th>\n      <td>...</td>\n      <td>...</td>\n      <td>...</td>\n      <td>...</td>\n      <td>...</td>\n      <td>...</td>\n      <td>...</td>\n      <td>...</td>\n      <td>...</td>\n      <td>...</td>\n      <td>...</td>\n      <td>...</td>\n      <td>...</td>\n    </tr>\n    <tr>\n      <th>63979</th>\n      <td>331</td>\n      <td>6.80</td>\n      <td>2053</td>\n      <td>2024-03-05 12:00:00</td>\n      <td>0</td>\n      <td>0</td>\n      <td>0</td>\n      <td>0</td>\n      <td>0</td>\n      <td>0</td>\n      <td>1</td>\n      <td>0</td>\n      <td>0</td>\n    </tr>\n    <tr>\n      <th>63980</th>\n      <td>330</td>\n      <td>6.80</td>\n      <td>1394</td>\n      <td>2024-03-05 12:00:00</td>\n      <td>0</td>\n      <td>0</td>\n      <td>0</td>\n      <td>0</td>\n      <td>0</td>\n      <td>0</td>\n      <td>1</td>\n      <td>0</td>\n      <td>0</td>\n    </tr>\n    <tr>\n      <th>63981</th>\n      <td>329</td>\n      <td>6.90</td>\n      <td>644</td>\n      <td>2024-03-05 13:00:00</td>\n      <td>0</td>\n      <td>0</td>\n      <td>0</td>\n      <td>0</td>\n      <td>0</td>\n      <td>0</td>\n      <td>1</td>\n      <td>0</td>\n      <td>0</td>\n    </tr>\n    <tr>\n      <th>63982</th>\n      <td>331</td>\n      <td>6.90</td>\n      <td>477</td>\n      <td>2024-03-05 13:00:00</td>\n      <td>0</td>\n      <td>0</td>\n      <td>0</td>\n      <td>0</td>\n      <td>0</td>\n      <td>0</td>\n      <td>1</td>\n      <td>0</td>\n      <td>0</td>\n    </tr>\n    <tr>\n      <th>63983</th>\n      <td>330</td>\n      <td>6.90</td>\n      <td>433</td>\n      <td>2024-03-05 13:00:00</td>\n      <td>0</td>\n      <td>0</td>\n      <td>0</td>\n      <td>0</td>\n      <td>0</td>\n      <td>0</td>\n      <td>1</td>\n      <td>0</td>\n      <td>0</td>\n    </tr>\n  </tbody>\n</table>\n<p>63984 rows × 13 columns</p>\n</div>"
     },
     "execution_count": 3,
     "metadata": {},
     "output_type": "execute_result"
    }
   ],
   "source": [
    "path = 'data/hystreet_fussgaengerfrequenzen_seit2021.csv'\n",
    "df = load_and_preprocess(path)\n",
    "df"
   ]
  },
  {
   "cell_type": "code",
   "execution_count": 4,
   "metadata": {
    "ExecuteTime": {
     "end_time": "2024-03-22T09:51:26.335482100Z",
     "start_time": "2024-03-22T09:51:14.546999900Z"
    }
   },
   "outputs": [
    {
     "data": {
      "text/plain": "       temperature  pedestrians_count  weather_condition_clear-day  \\\n15707         9.26                 11                            0   \n15710         8.76                 21                            0   \n15713         7.99                149                            0   \n15716         7.82                307                            0   \n15719         8.31                689                            0   \n...            ...                ...                          ...   \n63971         6.00                995                            0   \n63974         6.00               1257                            0   \n63977         7.00               1561                            0   \n63980         6.80               1394                            0   \n63983         6.90                433                            0   \n\n       weather_condition_clear-night  weather_condition_cloudy  \\\n15707                              0                         0   \n15710                              0                         0   \n15713                              0                         0   \n15716                              0                         0   \n15719                              0                         0   \n...                              ...                       ...   \n63971                              0                         0   \n63974                              0                         0   \n63977                              0                         0   \n63980                              0                         0   \n63983                              0                         0   \n\n       weather_condition_fog  weather_condition_partly-cloudy-day  \\\n15707                      0                                    0   \n15710                      0                                    0   \n15713                      0                                    0   \n15716                      0                                    0   \n15719                      0                                    1   \n...                      ...                                  ...   \n63971                      0                                    0   \n63974                      0                                    0   \n63977                      0                                    0   \n63980                      0                                    0   \n63983                      0                                    0   \n\n       weather_condition_partly-cloudy-night  weather_condition_rain  \\\n15707                                      1                       0   \n15710                                      1                       0   \n15713                                      1                       0   \n15716                                      1                       0   \n15719                                      0                       0   \n...                                      ...                     ...   \n63971                                      0                       1   \n63974                                      0                       1   \n63977                                      0                       1   \n63980                                      0                       1   \n63983                                      0                       1   \n\n       weather_condition_snow  weather_condition_wind  holiday  time_cos  \\\n15707                       0                       0        0  0.965926   \n15710                       0                       0        0  0.866025   \n15713                       0                       0        0  0.707107   \n15716                       0                       0        0  0.500000   \n15719                       0                       0        0  0.258819   \n...                       ...                     ...      ...       ...   \n63971                       0                       0        0 -0.707107   \n63974                       0                       0        0 -0.866025   \n63977                       0                       0        0 -0.965926   \n63980                       0                       0        0 -1.000000   \n63983                       0                       0        0 -0.965926   \n\n           time_sin   day_cos   day_sin  dayofyear_cos  dayofyear_sin  \n15707  2.588190e-01 -0.900969  0.433884      -0.548843       0.835925  \n15710  5.000000e-01 -0.900969  0.433884      -0.548843       0.835925  \n15713  7.071068e-01 -0.900969  0.433884      -0.548843       0.835925  \n15716  8.660254e-01 -0.900969  0.433884      -0.548843       0.835925  \n15719  9.659258e-01 -0.900969  0.433884      -0.548843       0.835925  \n...             ...       ...       ...            ...            ...  \n63971  7.071068e-01  0.623490  0.781831       0.436651       0.899631  \n63974  5.000000e-01  0.623490  0.781831       0.436651       0.899631  \n63977  2.588190e-01  0.623490  0.781831       0.436651       0.899631  \n63980  1.224647e-16  0.623490  0.781831       0.436651       0.899631  \n63983 -2.588190e-01  0.623490  0.781831       0.436651       0.899631  \n\n[16031 rows x 18 columns]",
      "text/html": "<div>\n<style scoped>\n    .dataframe tbody tr th:only-of-type {\n        vertical-align: middle;\n    }\n\n    .dataframe tbody tr th {\n        vertical-align: top;\n    }\n\n    .dataframe thead th {\n        text-align: right;\n    }\n</style>\n<table border=\"1\" class=\"dataframe\">\n  <thead>\n    <tr style=\"text-align: right;\">\n      <th></th>\n      <th>temperature</th>\n      <th>pedestrians_count</th>\n      <th>weather_condition_clear-day</th>\n      <th>weather_condition_clear-night</th>\n      <th>weather_condition_cloudy</th>\n      <th>weather_condition_fog</th>\n      <th>weather_condition_partly-cloudy-day</th>\n      <th>weather_condition_partly-cloudy-night</th>\n      <th>weather_condition_rain</th>\n      <th>weather_condition_snow</th>\n      <th>weather_condition_wind</th>\n      <th>holiday</th>\n      <th>time_cos</th>\n      <th>time_sin</th>\n      <th>day_cos</th>\n      <th>day_sin</th>\n      <th>dayofyear_cos</th>\n      <th>dayofyear_sin</th>\n    </tr>\n  </thead>\n  <tbody>\n    <tr>\n      <th>15707</th>\n      <td>9.26</td>\n      <td>11</td>\n      <td>0</td>\n      <td>0</td>\n      <td>0</td>\n      <td>0</td>\n      <td>0</td>\n      <td>1</td>\n      <td>0</td>\n      <td>0</td>\n      <td>0</td>\n      <td>0</td>\n      <td>0.965926</td>\n      <td>2.588190e-01</td>\n      <td>-0.900969</td>\n      <td>0.433884</td>\n      <td>-0.548843</td>\n      <td>0.835925</td>\n    </tr>\n    <tr>\n      <th>15710</th>\n      <td>8.76</td>\n      <td>21</td>\n      <td>0</td>\n      <td>0</td>\n      <td>0</td>\n      <td>0</td>\n      <td>0</td>\n      <td>1</td>\n      <td>0</td>\n      <td>0</td>\n      <td>0</td>\n      <td>0</td>\n      <td>0.866025</td>\n      <td>5.000000e-01</td>\n      <td>-0.900969</td>\n      <td>0.433884</td>\n      <td>-0.548843</td>\n      <td>0.835925</td>\n    </tr>\n    <tr>\n      <th>15713</th>\n      <td>7.99</td>\n      <td>149</td>\n      <td>0</td>\n      <td>0</td>\n      <td>0</td>\n      <td>0</td>\n      <td>0</td>\n      <td>1</td>\n      <td>0</td>\n      <td>0</td>\n      <td>0</td>\n      <td>0</td>\n      <td>0.707107</td>\n      <td>7.071068e-01</td>\n      <td>-0.900969</td>\n      <td>0.433884</td>\n      <td>-0.548843</td>\n      <td>0.835925</td>\n    </tr>\n    <tr>\n      <th>15716</th>\n      <td>7.82</td>\n      <td>307</td>\n      <td>0</td>\n      <td>0</td>\n      <td>0</td>\n      <td>0</td>\n      <td>0</td>\n      <td>1</td>\n      <td>0</td>\n      <td>0</td>\n      <td>0</td>\n      <td>0</td>\n      <td>0.500000</td>\n      <td>8.660254e-01</td>\n      <td>-0.900969</td>\n      <td>0.433884</td>\n      <td>-0.548843</td>\n      <td>0.835925</td>\n    </tr>\n    <tr>\n      <th>15719</th>\n      <td>8.31</td>\n      <td>689</td>\n      <td>0</td>\n      <td>0</td>\n      <td>0</td>\n      <td>0</td>\n      <td>1</td>\n      <td>0</td>\n      <td>0</td>\n      <td>0</td>\n      <td>0</td>\n      <td>0</td>\n      <td>0.258819</td>\n      <td>9.659258e-01</td>\n      <td>-0.900969</td>\n      <td>0.433884</td>\n      <td>-0.548843</td>\n      <td>0.835925</td>\n    </tr>\n    <tr>\n      <th>...</th>\n      <td>...</td>\n      <td>...</td>\n      <td>...</td>\n      <td>...</td>\n      <td>...</td>\n      <td>...</td>\n      <td>...</td>\n      <td>...</td>\n      <td>...</td>\n      <td>...</td>\n      <td>...</td>\n      <td>...</td>\n      <td>...</td>\n      <td>...</td>\n      <td>...</td>\n      <td>...</td>\n      <td>...</td>\n      <td>...</td>\n    </tr>\n    <tr>\n      <th>63971</th>\n      <td>6.00</td>\n      <td>995</td>\n      <td>0</td>\n      <td>0</td>\n      <td>0</td>\n      <td>0</td>\n      <td>0</td>\n      <td>0</td>\n      <td>1</td>\n      <td>0</td>\n      <td>0</td>\n      <td>0</td>\n      <td>-0.707107</td>\n      <td>7.071068e-01</td>\n      <td>0.623490</td>\n      <td>0.781831</td>\n      <td>0.436651</td>\n      <td>0.899631</td>\n    </tr>\n    <tr>\n      <th>63974</th>\n      <td>6.00</td>\n      <td>1257</td>\n      <td>0</td>\n      <td>0</td>\n      <td>0</td>\n      <td>0</td>\n      <td>0</td>\n      <td>0</td>\n      <td>1</td>\n      <td>0</td>\n      <td>0</td>\n      <td>0</td>\n      <td>-0.866025</td>\n      <td>5.000000e-01</td>\n      <td>0.623490</td>\n      <td>0.781831</td>\n      <td>0.436651</td>\n      <td>0.899631</td>\n    </tr>\n    <tr>\n      <th>63977</th>\n      <td>7.00</td>\n      <td>1561</td>\n      <td>0</td>\n      <td>0</td>\n      <td>0</td>\n      <td>0</td>\n      <td>0</td>\n      <td>0</td>\n      <td>1</td>\n      <td>0</td>\n      <td>0</td>\n      <td>0</td>\n      <td>-0.965926</td>\n      <td>2.588190e-01</td>\n      <td>0.623490</td>\n      <td>0.781831</td>\n      <td>0.436651</td>\n      <td>0.899631</td>\n    </tr>\n    <tr>\n      <th>63980</th>\n      <td>6.80</td>\n      <td>1394</td>\n      <td>0</td>\n      <td>0</td>\n      <td>0</td>\n      <td>0</td>\n      <td>0</td>\n      <td>0</td>\n      <td>1</td>\n      <td>0</td>\n      <td>0</td>\n      <td>0</td>\n      <td>-1.000000</td>\n      <td>1.224647e-16</td>\n      <td>0.623490</td>\n      <td>0.781831</td>\n      <td>0.436651</td>\n      <td>0.899631</td>\n    </tr>\n    <tr>\n      <th>63983</th>\n      <td>6.90</td>\n      <td>433</td>\n      <td>0</td>\n      <td>0</td>\n      <td>0</td>\n      <td>0</td>\n      <td>0</td>\n      <td>0</td>\n      <td>1</td>\n      <td>0</td>\n      <td>0</td>\n      <td>0</td>\n      <td>-0.965926</td>\n      <td>-2.588190e-01</td>\n      <td>0.623490</td>\n      <td>0.781831</td>\n      <td>0.436651</td>\n      <td>0.899631</td>\n    </tr>\n  </tbody>\n</table>\n<p>16031 rows × 18 columns</p>\n</div>"
     },
     "execution_count": 4,
     "metadata": {},
     "output_type": "execute_result"
    }
   ],
   "source": [
    "df_seen = df.loc[df['location_id'] == 330]\n",
    "df_seen = df_seen.loc[df['pedestrians_count'] <= 5000]\n",
    "\n",
    "matplotlib.use(\"TkAgg\")\n",
    "plt.figure()\n",
    "plt.plot([datetime.strptime(d, \"%Y-%m-%d %H:%M:%S\") for d in df_seen['date']], df_seen['pedestrians_count'])\n",
    "plt.show()\n",
    "\n",
    "plt.figure()\n",
    "plt.hist(df_seen['pedestrians_count'], bins=50)\n",
    "plt.show()\n",
    "\n",
    "window_size = 24*365  # You can adjust this as needed\n",
    "m_avg = df_seen['pedestrians_count'].rolling(window=window_size, center=True).mean()\n",
    "\n",
    "# Plot original data and centered moving average\n",
    "plt.figure()\n",
    "plt.plot([datetime.strptime(d, \"%Y-%m-%d %H:%M:%S\") for d in df_seen['date']], df_seen['pedestrians_count'], label='Pedestrians Count')\n",
    "plt.plot([datetime.strptime(d, \"%Y-%m-%d %H:%M:%S\") for d in df_seen['date']], m_avg, label='Moving Average', linestyle='--')\n",
    "plt.xlabel('Date')\n",
    "plt.ylabel('Pedestrians Count')\n",
    "plt.title('Pedestrians Count with Centered Moving Average')\n",
    "plt.legend()\n",
    "plt.show()\n",
    "\n",
    "df_seen = df_seen.drop(columns='location_id')\n",
    "\n",
    "# Temporary drop date\n",
    "df_seen['holiday'] = df_seen.apply(lambda row: check_holiday(row['date']), axis = 1)\n",
    "\n",
    "df_seen['time_cos'] = df_seen.apply(lambda row: hour_features(row['date'])[0], axis = 1)\n",
    "df_seen['time_sin'] = df_seen.apply(lambda row: hour_features(row['date'])[1], axis = 1)\n",
    "\n",
    "df_seen['day_cos'] = df_seen.apply(lambda row: day_features(row['date'])[0], axis = 1)\n",
    "df_seen['day_sin'] = df_seen.apply(lambda row: day_features(row['date'])[1], axis = 1)\n",
    "\n",
    "df_seen['dayofyear_cos'] = df_seen.apply(lambda row: dayofyear_features(row['date'])[0], axis = 1)\n",
    "df_seen['dayofyear_sin'] = df_seen.apply(lambda row: dayofyear_features(row['date'])[1], axis = 1)\n",
    "\n",
    "df_unseen = df_seen[[datetime.strptime(d, '%Y-%m-%d %H:%M:%S') <= datetime(2022, 5, 5) for d in df_seen['date']]]\n",
    "df_seen = df_seen[[datetime.strptime(d, '%Y-%m-%d %H:%M:%S') > datetime(2022, 5, 5) for d in df_seen['date']]]\n",
    "df_mid_old = df_seen.copy()\n",
    "\n",
    "df_seen = df_seen.drop(columns='date')\n",
    "# df_mid['date'][0].split()\n",
    "# \n",
    "df_seen"
   ]
  },
  {
   "cell_type": "code",
   "execution_count": 7,
   "metadata": {
    "ExecuteTime": {
     "end_time": "2024-03-22T09:52:20.123736100Z",
     "start_time": "2024-03-22T09:52:20.116929300Z"
    }
   },
   "outputs": [],
   "source": [
    "train, test = train_test_split(df_seen, test_size=0.2)"
   ]
  },
  {
   "cell_type": "code",
   "execution_count": 14,
   "metadata": {
    "ExecuteTime": {
     "end_time": "2024-03-22T10:01:10.145828100Z",
     "start_time": "2024-03-22T09:58:15.592436300Z"
    }
   },
   "outputs": [
    {
     "name": "stderr",
     "output_type": "stream",
     "text": [
      "[Parallel(n_jobs=1)]: Using backend SequentialBackend with 1 concurrent workers.\n",
      "[Parallel(n_jobs=1)]: Done 2000 out of 2000 | elapsed:  2.8min finished\n"
     ]
    },
    {
     "data": {
      "text/plain": "RandomForestRegressor(n_estimators=2000, oob_score=True, verbose=True)",
      "text/html": "<style>#sk-container-id-2 {color: black;}#sk-container-id-2 pre{padding: 0;}#sk-container-id-2 div.sk-toggleable {background-color: white;}#sk-container-id-2 label.sk-toggleable__label {cursor: pointer;display: block;width: 100%;margin-bottom: 0;padding: 0.3em;box-sizing: border-box;text-align: center;}#sk-container-id-2 label.sk-toggleable__label-arrow:before {content: \"▸\";float: left;margin-right: 0.25em;color: #696969;}#sk-container-id-2 label.sk-toggleable__label-arrow:hover:before {color: black;}#sk-container-id-2 div.sk-estimator:hover label.sk-toggleable__label-arrow:before {color: black;}#sk-container-id-2 div.sk-toggleable__content {max-height: 0;max-width: 0;overflow: hidden;text-align: left;background-color: #f0f8ff;}#sk-container-id-2 div.sk-toggleable__content pre {margin: 0.2em;color: black;border-radius: 0.25em;background-color: #f0f8ff;}#sk-container-id-2 input.sk-toggleable__control:checked~div.sk-toggleable__content {max-height: 200px;max-width: 100%;overflow: auto;}#sk-container-id-2 input.sk-toggleable__control:checked~label.sk-toggleable__label-arrow:before {content: \"▾\";}#sk-container-id-2 div.sk-estimator input.sk-toggleable__control:checked~label.sk-toggleable__label {background-color: #d4ebff;}#sk-container-id-2 div.sk-label input.sk-toggleable__control:checked~label.sk-toggleable__label {background-color: #d4ebff;}#sk-container-id-2 input.sk-hidden--visually {border: 0;clip: rect(1px 1px 1px 1px);clip: rect(1px, 1px, 1px, 1px);height: 1px;margin: -1px;overflow: hidden;padding: 0;position: absolute;width: 1px;}#sk-container-id-2 div.sk-estimator {font-family: monospace;background-color: #f0f8ff;border: 1px dotted black;border-radius: 0.25em;box-sizing: border-box;margin-bottom: 0.5em;}#sk-container-id-2 div.sk-estimator:hover {background-color: #d4ebff;}#sk-container-id-2 div.sk-parallel-item::after {content: \"\";width: 100%;border-bottom: 1px solid gray;flex-grow: 1;}#sk-container-id-2 div.sk-label:hover label.sk-toggleable__label {background-color: #d4ebff;}#sk-container-id-2 div.sk-serial::before {content: \"\";position: absolute;border-left: 1px solid gray;box-sizing: border-box;top: 0;bottom: 0;left: 50%;z-index: 0;}#sk-container-id-2 div.sk-serial {display: flex;flex-direction: column;align-items: center;background-color: white;padding-right: 0.2em;padding-left: 0.2em;position: relative;}#sk-container-id-2 div.sk-item {position: relative;z-index: 1;}#sk-container-id-2 div.sk-parallel {display: flex;align-items: stretch;justify-content: center;background-color: white;position: relative;}#sk-container-id-2 div.sk-item::before, #sk-container-id-2 div.sk-parallel-item::before {content: \"\";position: absolute;border-left: 1px solid gray;box-sizing: border-box;top: 0;bottom: 0;left: 50%;z-index: -1;}#sk-container-id-2 div.sk-parallel-item {display: flex;flex-direction: column;z-index: 1;position: relative;background-color: white;}#sk-container-id-2 div.sk-parallel-item:first-child::after {align-self: flex-end;width: 50%;}#sk-container-id-2 div.sk-parallel-item:last-child::after {align-self: flex-start;width: 50%;}#sk-container-id-2 div.sk-parallel-item:only-child::after {width: 0;}#sk-container-id-2 div.sk-dashed-wrapped {border: 1px dashed gray;margin: 0 0.4em 0.5em 0.4em;box-sizing: border-box;padding-bottom: 0.4em;background-color: white;}#sk-container-id-2 div.sk-label label {font-family: monospace;font-weight: bold;display: inline-block;line-height: 1.2em;}#sk-container-id-2 div.sk-label-container {text-align: center;}#sk-container-id-2 div.sk-container {/* jupyter's `normalize.less` sets `[hidden] { display: none; }` but bootstrap.min.css set `[hidden] { display: none !important; }` so we also need the `!important` here to be able to override the default hidden behavior on the sphinx rendered scikit-learn.org. See: https://github.com/scikit-learn/scikit-learn/issues/21755 */display: inline-block !important;position: relative;}#sk-container-id-2 div.sk-text-repr-fallback {display: none;}</style><div id=\"sk-container-id-2\" class=\"sk-top-container\"><div class=\"sk-text-repr-fallback\"><pre>RandomForestRegressor(n_estimators=2000, oob_score=True, verbose=True)</pre><b>In a Jupyter environment, please rerun this cell to show the HTML representation or trust the notebook. <br />On GitHub, the HTML representation is unable to render, please try loading this page with nbviewer.org.</b></div><div class=\"sk-container\" hidden><div class=\"sk-item\"><div class=\"sk-estimator sk-toggleable\"><input class=\"sk-toggleable__control sk-hidden--visually\" id=\"sk-estimator-id-2\" type=\"checkbox\" checked><label for=\"sk-estimator-id-2\" class=\"sk-toggleable__label sk-toggleable__label-arrow\">RandomForestRegressor</label><div class=\"sk-toggleable__content\"><pre>RandomForestRegressor(n_estimators=2000, oob_score=True, verbose=True)</pre></div></div></div></div></div>"
     },
     "execution_count": 14,
     "metadata": {},
     "output_type": "execute_result"
    }
   ],
   "source": [
    "forest = RandomForestRegressor(verbose=True, oob_score=True, n_estimators=2000)\n",
    "forest.fit(train.drop(columns='pedestrians_count'), train['pedestrians_count'])"
   ]
  },
  {
   "cell_type": "code",
   "execution_count": 15,
   "metadata": {
    "ExecuteTime": {
     "end_time": "2024-03-22T10:01:18.484252100Z",
     "start_time": "2024-03-22T10:01:16.227918700Z"
    }
   },
   "outputs": [
    {
     "name": "stderr",
     "output_type": "stream",
     "text": [
      "[Parallel(n_jobs=1)]: Using backend SequentialBackend with 1 concurrent workers.\n",
      "[Parallel(n_jobs=1)]: Done 2000 out of 2000 | elapsed:    2.1s finished\n"
     ]
    },
    {
     "data": {
      "text/plain": "0.9128174823097381"
     },
     "execution_count": 15,
     "metadata": {},
     "output_type": "execute_result"
    }
   ],
   "source": [
    "forest.score(test.drop(columns='pedestrians_count'), test['pedestrians_count'])"
   ]
  },
  {
   "cell_type": "code",
   "outputs": [
    {
     "name": "stderr",
     "output_type": "stream",
     "text": [
      "[Parallel(n_jobs=1)]: Using backend SequentialBackend with 1 concurrent workers.\n",
      "[Parallel(n_jobs=1)]: Done 2000 out of 2000 | elapsed:    2.2s finished\n"
     ]
    },
    {
     "data": {
      "text/plain": "0.8066067638285555"
     },
     "execution_count": 16,
     "metadata": {},
     "output_type": "execute_result"
    }
   ],
   "source": [
    "forest.score(df_unseen.drop(columns=['pedestrians_count', 'date']), df_unseen['pedestrians_count'])"
   ],
   "metadata": {
    "collapsed": false,
    "ExecuteTime": {
     "end_time": "2024-03-22T10:01:20.913114500Z",
     "start_time": "2024-03-22T10:01:18.558242100Z"
    }
   },
   "execution_count": 16
  },
  {
   "cell_type": "code",
   "outputs": [],
   "source": [],
   "metadata": {
    "collapsed": false,
    "ExecuteTime": {
     "end_time": "2024-03-22T09:52:44.595301400Z",
     "start_time": "2024-03-22T09:52:44.589296Z"
    }
   },
   "execution_count": 10
  },
  {
   "cell_type": "code",
   "execution_count": 17,
   "metadata": {
    "ExecuteTime": {
     "end_time": "2024-03-22T10:01:26.562206100Z",
     "start_time": "2024-03-22T10:01:24.392091900Z"
    }
   },
   "outputs": [
    {
     "name": "stderr",
     "output_type": "stream",
     "text": [
      "[Parallel(n_jobs=1)]: Using backend SequentialBackend with 1 concurrent workers.\n",
      "[Parallel(n_jobs=1)]: Done 2000 out of 2000 | elapsed:    2.0s finished\n"
     ]
    }
   ],
   "source": [
    "reals = np.array(df_unseen['pedestrians_count'])\n",
    "preds = np.array(forest.predict(df_unseen.drop(columns=['pedestrians_count', 'date'])))\n",
    "dates = np.array([datetime.strptime(d, \"%Y-%m-%d %H:%M:%S\") for d in df_unseen['date']])"
   ]
  },
  {
   "cell_type": "code",
   "execution_count": 12,
   "metadata": {
    "ExecuteTime": {
     "end_time": "2024-03-22T09:52:54.761108700Z",
     "start_time": "2024-03-22T09:52:54.592283900Z"
    }
   },
   "outputs": [],
   "source": [
    "%matplotlib tk\n",
    "matplotlib.use(\"TkAgg\")\n",
    "plt.figure()\n",
    "plt.plot(dates, reals)\n",
    "plt.plot(dates, preds)\n",
    "plt.show()"
   ]
  },
  {
   "cell_type": "code",
   "execution_count": 13,
   "metadata": {
    "ExecuteTime": {
     "end_time": "2024-03-22T09:54:37.019689300Z",
     "start_time": "2024-03-22T09:54:37.009662900Z"
    }
   },
   "outputs": [
    {
     "data": {
      "text/plain": "array([ 399.36842105,  120.19444444,  654.46341463, ..., 1894.25      ,\n        979.97435897, 1532.94444444])"
     },
     "execution_count": 13,
     "metadata": {},
     "output_type": "execute_result"
    }
   ],
   "source": [
    "forest.oob_prediction_"
   ]
  }
 ],
 "metadata": {
  "kernelspec": {
   "display_name": "default_env",
   "language": "python",
   "name": "python3"
  },
  "language_info": {
   "codemirror_mode": {
    "name": "ipython",
    "version": 3
   },
   "file_extension": ".py",
   "mimetype": "text/x-python",
   "name": "python",
   "nbconvert_exporter": "python",
   "pygments_lexer": "ipython3",
   "version": "3.11.8"
  }
 },
 "nbformat": 4,
 "nbformat_minor": 2
}
