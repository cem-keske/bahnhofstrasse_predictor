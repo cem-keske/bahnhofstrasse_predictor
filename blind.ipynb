{
 "cells": [
  {
   "cell_type": "code",
   "execution_count": 54,
   "metadata": {
    "ExecuteTime": {
     "end_time": "2024-03-05T23:07:14.200926500Z",
     "start_time": "2024-03-05T23:07:14.188685800Z"
    }
   },
   "outputs": [],
   "source": [
    "import numpy as np\n",
    "import pandas as pd\n",
    "\n",
    "from datetime import datetime\n",
    "from sklearn.model_selection import train_test_split\n",
    "from sklearn.ensemble import RandomForestRegressor\n",
    "\n",
    "from is_holiday import check_holiday\n",
    "from utilites import hour_features, day_features, dayofyear_features\n",
    "\n",
    "from datetime import datetime\n",
    "import matplotlib.pyplot as plt\n",
    "import matplotlib"
   ]
  },
  {
   "cell_type": "code",
   "execution_count": 55,
   "metadata": {
    "ExecuteTime": {
     "end_time": "2024-03-05T23:07:14.558670500Z",
     "start_time": "2024-03-05T23:07:14.539141700Z"
    }
   },
   "outputs": [],
   "source": [
    "def encode(original_dataframe: pd.DataFrame, \n",
    "    feature_to_encode: str) -> pd.DataFrame:\n",
    "    \n",
    "    dummies = pd.get_dummies(original_dataframe[[feature_to_encode]], dtype=int)\n",
    "    res = pd.concat([original_dataframe, dummies], axis=1)\n",
    "    return res.drop(columns=feature_to_encode)\n",
    "\n",
    "def load_and_preprocess(path: str) -> pd.DataFrame:\n",
    "    df = pd.read_csv(path)\n",
    "    # Drop unnecessary columns\n",
    "    df = df[['timestamp', 'location_id', 'weather_condition', 'temperature', 'pedestrians_count']]\n",
    "    \n",
    "    # Rearrange date\n",
    "    df['date'] = df.apply(lambda row: str(datetime.strptime(row['timestamp'], '%Y-%m-%dT%H:%M:%SZ')), axis = 1)\n",
    "    df = df.drop(columns='timestamp')\n",
    "\n",
    "    # One-hot encoding for weather\n",
    "    df = encode(df, 'weather_condition')\n",
    "    return df\n"
   ]
  },
  {
   "cell_type": "code",
   "execution_count": 56,
   "metadata": {
    "ExecuteTime": {
     "end_time": "2024-03-05T23:07:16.399487Z",
     "start_time": "2024-03-05T23:07:15.143115600Z"
    }
   },
   "outputs": [
    {
     "data": {
      "text/plain": "       location_id  temperature  pedestrians_count                 date  \\\n0              329        13.51                151  2021-09-28 22:00:00   \n1              331        13.51                118  2021-09-28 22:00:00   \n2              330        13.51                203  2021-09-28 22:00:00   \n3              329        13.46                 19  2021-09-28 23:00:00   \n4              331        13.46                  7  2021-09-28 23:00:00   \n...            ...          ...                ...                  ...   \n63979          331         6.80               2053  2024-03-05 12:00:00   \n63980          330         6.80               1394  2024-03-05 12:00:00   \n63981          329         6.90                644  2024-03-05 13:00:00   \n63982          331         6.90                477  2024-03-05 13:00:00   \n63983          330         6.90                433  2024-03-05 13:00:00   \n\n       weather_condition_clear-day  weather_condition_clear-night  \\\n0                                0                              0   \n1                                0                              0   \n2                                0                              0   \n3                                0                              0   \n4                                0                              0   \n...                            ...                            ...   \n63979                            0                              0   \n63980                            0                              0   \n63981                            0                              0   \n63982                            0                              0   \n63983                            0                              0   \n\n       weather_condition_cloudy  weather_condition_fog  \\\n0                             1                      0   \n1                             1                      0   \n2                             1                      0   \n3                             1                      0   \n4                             1                      0   \n...                         ...                    ...   \n63979                         0                      0   \n63980                         0                      0   \n63981                         0                      0   \n63982                         0                      0   \n63983                         0                      0   \n\n       weather_condition_partly-cloudy-day  \\\n0                                        0   \n1                                        0   \n2                                        0   \n3                                        0   \n4                                        0   \n...                                    ...   \n63979                                    0   \n63980                                    0   \n63981                                    0   \n63982                                    0   \n63983                                    0   \n\n       weather_condition_partly-cloudy-night  weather_condition_rain  \\\n0                                          0                       0   \n1                                          0                       0   \n2                                          0                       0   \n3                                          0                       0   \n4                                          0                       0   \n...                                      ...                     ...   \n63979                                      0                       1   \n63980                                      0                       1   \n63981                                      0                       1   \n63982                                      0                       1   \n63983                                      0                       1   \n\n       weather_condition_snow  weather_condition_wind  \n0                           0                       0  \n1                           0                       0  \n2                           0                       0  \n3                           0                       0  \n4                           0                       0  \n...                       ...                     ...  \n63979                       0                       0  \n63980                       0                       0  \n63981                       0                       0  \n63982                       0                       0  \n63983                       0                       0  \n\n[63984 rows x 13 columns]",
      "text/html": "<div>\n<style scoped>\n    .dataframe tbody tr th:only-of-type {\n        vertical-align: middle;\n    }\n\n    .dataframe tbody tr th {\n        vertical-align: top;\n    }\n\n    .dataframe thead th {\n        text-align: right;\n    }\n</style>\n<table border=\"1\" class=\"dataframe\">\n  <thead>\n    <tr style=\"text-align: right;\">\n      <th></th>\n      <th>location_id</th>\n      <th>temperature</th>\n      <th>pedestrians_count</th>\n      <th>date</th>\n      <th>weather_condition_clear-day</th>\n      <th>weather_condition_clear-night</th>\n      <th>weather_condition_cloudy</th>\n      <th>weather_condition_fog</th>\n      <th>weather_condition_partly-cloudy-day</th>\n      <th>weather_condition_partly-cloudy-night</th>\n      <th>weather_condition_rain</th>\n      <th>weather_condition_snow</th>\n      <th>weather_condition_wind</th>\n    </tr>\n  </thead>\n  <tbody>\n    <tr>\n      <th>0</th>\n      <td>329</td>\n      <td>13.51</td>\n      <td>151</td>\n      <td>2021-09-28 22:00:00</td>\n      <td>0</td>\n      <td>0</td>\n      <td>1</td>\n      <td>0</td>\n      <td>0</td>\n      <td>0</td>\n      <td>0</td>\n      <td>0</td>\n      <td>0</td>\n    </tr>\n    <tr>\n      <th>1</th>\n      <td>331</td>\n      <td>13.51</td>\n      <td>118</td>\n      <td>2021-09-28 22:00:00</td>\n      <td>0</td>\n      <td>0</td>\n      <td>1</td>\n      <td>0</td>\n      <td>0</td>\n      <td>0</td>\n      <td>0</td>\n      <td>0</td>\n      <td>0</td>\n    </tr>\n    <tr>\n      <th>2</th>\n      <td>330</td>\n      <td>13.51</td>\n      <td>203</td>\n      <td>2021-09-28 22:00:00</td>\n      <td>0</td>\n      <td>0</td>\n      <td>1</td>\n      <td>0</td>\n      <td>0</td>\n      <td>0</td>\n      <td>0</td>\n      <td>0</td>\n      <td>0</td>\n    </tr>\n    <tr>\n      <th>3</th>\n      <td>329</td>\n      <td>13.46</td>\n      <td>19</td>\n      <td>2021-09-28 23:00:00</td>\n      <td>0</td>\n      <td>0</td>\n      <td>1</td>\n      <td>0</td>\n      <td>0</td>\n      <td>0</td>\n      <td>0</td>\n      <td>0</td>\n      <td>0</td>\n    </tr>\n    <tr>\n      <th>4</th>\n      <td>331</td>\n      <td>13.46</td>\n      <td>7</td>\n      <td>2021-09-28 23:00:00</td>\n      <td>0</td>\n      <td>0</td>\n      <td>1</td>\n      <td>0</td>\n      <td>0</td>\n      <td>0</td>\n      <td>0</td>\n      <td>0</td>\n      <td>0</td>\n    </tr>\n    <tr>\n      <th>...</th>\n      <td>...</td>\n      <td>...</td>\n      <td>...</td>\n      <td>...</td>\n      <td>...</td>\n      <td>...</td>\n      <td>...</td>\n      <td>...</td>\n      <td>...</td>\n      <td>...</td>\n      <td>...</td>\n      <td>...</td>\n      <td>...</td>\n    </tr>\n    <tr>\n      <th>63979</th>\n      <td>331</td>\n      <td>6.80</td>\n      <td>2053</td>\n      <td>2024-03-05 12:00:00</td>\n      <td>0</td>\n      <td>0</td>\n      <td>0</td>\n      <td>0</td>\n      <td>0</td>\n      <td>0</td>\n      <td>1</td>\n      <td>0</td>\n      <td>0</td>\n    </tr>\n    <tr>\n      <th>63980</th>\n      <td>330</td>\n      <td>6.80</td>\n      <td>1394</td>\n      <td>2024-03-05 12:00:00</td>\n      <td>0</td>\n      <td>0</td>\n      <td>0</td>\n      <td>0</td>\n      <td>0</td>\n      <td>0</td>\n      <td>1</td>\n      <td>0</td>\n      <td>0</td>\n    </tr>\n    <tr>\n      <th>63981</th>\n      <td>329</td>\n      <td>6.90</td>\n      <td>644</td>\n      <td>2024-03-05 13:00:00</td>\n      <td>0</td>\n      <td>0</td>\n      <td>0</td>\n      <td>0</td>\n      <td>0</td>\n      <td>0</td>\n      <td>1</td>\n      <td>0</td>\n      <td>0</td>\n    </tr>\n    <tr>\n      <th>63982</th>\n      <td>331</td>\n      <td>6.90</td>\n      <td>477</td>\n      <td>2024-03-05 13:00:00</td>\n      <td>0</td>\n      <td>0</td>\n      <td>0</td>\n      <td>0</td>\n      <td>0</td>\n      <td>0</td>\n      <td>1</td>\n      <td>0</td>\n      <td>0</td>\n    </tr>\n    <tr>\n      <th>63983</th>\n      <td>330</td>\n      <td>6.90</td>\n      <td>433</td>\n      <td>2024-03-05 13:00:00</td>\n      <td>0</td>\n      <td>0</td>\n      <td>0</td>\n      <td>0</td>\n      <td>0</td>\n      <td>0</td>\n      <td>1</td>\n      <td>0</td>\n      <td>0</td>\n    </tr>\n  </tbody>\n</table>\n<p>63984 rows × 13 columns</p>\n</div>"
     },
     "execution_count": 56,
     "metadata": {},
     "output_type": "execute_result"
    }
   ],
   "source": [
    "path = 'data/hystreet_fussgaengerfrequenzen_seit2021.csv'\n",
    "df = load_and_preprocess(path)\n",
    "df"
   ]
  },
  {
   "cell_type": "code",
   "execution_count": 57,
   "metadata": {
    "ExecuteTime": {
     "end_time": "2024-03-05T23:07:19.510418700Z",
     "start_time": "2024-03-05T23:07:16.406486700Z"
    }
   },
   "outputs": [
    {
     "data": {
      "text/plain": "       temperature  pedestrians_count  weather_condition_clear-day  \\\n15707         9.26                 11                            0   \n15710         8.76                 21                            0   \n15713         7.99                149                            0   \n15716         7.82                307                            0   \n15719         8.31                689                            0   \n...            ...                ...                          ...   \n63971         6.00                995                            0   \n63974         6.00               1257                            0   \n63977         7.00               1561                            0   \n63980         6.80               1394                            0   \n63983         6.90                433                            0   \n\n       weather_condition_clear-night  weather_condition_cloudy  \\\n15707                              0                         0   \n15710                              0                         0   \n15713                              0                         0   \n15716                              0                         0   \n15719                              0                         0   \n...                              ...                       ...   \n63971                              0                         0   \n63974                              0                         0   \n63977                              0                         0   \n63980                              0                         0   \n63983                              0                         0   \n\n       weather_condition_fog  weather_condition_partly-cloudy-day  \\\n15707                      0                                    0   \n15710                      0                                    0   \n15713                      0                                    0   \n15716                      0                                    0   \n15719                      0                                    1   \n...                      ...                                  ...   \n63971                      0                                    0   \n63974                      0                                    0   \n63977                      0                                    0   \n63980                      0                                    0   \n63983                      0                                    0   \n\n       weather_condition_partly-cloudy-night  weather_condition_rain  \\\n15707                                      1                       0   \n15710                                      1                       0   \n15713                                      1                       0   \n15716                                      1                       0   \n15719                                      0                       0   \n...                                      ...                     ...   \n63971                                      0                       1   \n63974                                      0                       1   \n63977                                      0                       1   \n63980                                      0                       1   \n63983                                      0                       1   \n\n       weather_condition_snow  weather_condition_wind  holiday  time_cos  \\\n15707                       0                       0        0  0.965926   \n15710                       0                       0        0  0.866025   \n15713                       0                       0        0  0.707107   \n15716                       0                       0        0  0.500000   \n15719                       0                       0        0  0.258819   \n...                       ...                     ...      ...       ...   \n63971                       0                       0        0 -0.707107   \n63974                       0                       0        0 -0.866025   \n63977                       0                       0        0 -0.965926   \n63980                       0                       0        0 -1.000000   \n63983                       0                       0        0 -0.965926   \n\n           time_sin   day_cos   day_sin  dayofyear_cos  dayofyear_sin  \n15707  2.588190e-01 -0.900969  0.433884      -0.548843       0.835925  \n15710  5.000000e-01 -0.900969  0.433884      -0.548843       0.835925  \n15713  7.071068e-01 -0.900969  0.433884      -0.548843       0.835925  \n15716  8.660254e-01 -0.900969  0.433884      -0.548843       0.835925  \n15719  9.659258e-01 -0.900969  0.433884      -0.548843       0.835925  \n...             ...       ...       ...            ...            ...  \n63971  7.071068e-01  0.623490  0.781831       0.436651       0.899631  \n63974  5.000000e-01  0.623490  0.781831       0.436651       0.899631  \n63977  2.588190e-01  0.623490  0.781831       0.436651       0.899631  \n63980  1.224647e-16  0.623490  0.781831       0.436651       0.899631  \n63983 -2.588190e-01  0.623490  0.781831       0.436651       0.899631  \n\n[16031 rows x 18 columns]",
      "text/html": "<div>\n<style scoped>\n    .dataframe tbody tr th:only-of-type {\n        vertical-align: middle;\n    }\n\n    .dataframe tbody tr th {\n        vertical-align: top;\n    }\n\n    .dataframe thead th {\n        text-align: right;\n    }\n</style>\n<table border=\"1\" class=\"dataframe\">\n  <thead>\n    <tr style=\"text-align: right;\">\n      <th></th>\n      <th>temperature</th>\n      <th>pedestrians_count</th>\n      <th>weather_condition_clear-day</th>\n      <th>weather_condition_clear-night</th>\n      <th>weather_condition_cloudy</th>\n      <th>weather_condition_fog</th>\n      <th>weather_condition_partly-cloudy-day</th>\n      <th>weather_condition_partly-cloudy-night</th>\n      <th>weather_condition_rain</th>\n      <th>weather_condition_snow</th>\n      <th>weather_condition_wind</th>\n      <th>holiday</th>\n      <th>time_cos</th>\n      <th>time_sin</th>\n      <th>day_cos</th>\n      <th>day_sin</th>\n      <th>dayofyear_cos</th>\n      <th>dayofyear_sin</th>\n    </tr>\n  </thead>\n  <tbody>\n    <tr>\n      <th>15707</th>\n      <td>9.26</td>\n      <td>11</td>\n      <td>0</td>\n      <td>0</td>\n      <td>0</td>\n      <td>0</td>\n      <td>0</td>\n      <td>1</td>\n      <td>0</td>\n      <td>0</td>\n      <td>0</td>\n      <td>0</td>\n      <td>0.965926</td>\n      <td>2.588190e-01</td>\n      <td>-0.900969</td>\n      <td>0.433884</td>\n      <td>-0.548843</td>\n      <td>0.835925</td>\n    </tr>\n    <tr>\n      <th>15710</th>\n      <td>8.76</td>\n      <td>21</td>\n      <td>0</td>\n      <td>0</td>\n      <td>0</td>\n      <td>0</td>\n      <td>0</td>\n      <td>1</td>\n      <td>0</td>\n      <td>0</td>\n      <td>0</td>\n      <td>0</td>\n      <td>0.866025</td>\n      <td>5.000000e-01</td>\n      <td>-0.900969</td>\n      <td>0.433884</td>\n      <td>-0.548843</td>\n      <td>0.835925</td>\n    </tr>\n    <tr>\n      <th>15713</th>\n      <td>7.99</td>\n      <td>149</td>\n      <td>0</td>\n      <td>0</td>\n      <td>0</td>\n      <td>0</td>\n      <td>0</td>\n      <td>1</td>\n      <td>0</td>\n      <td>0</td>\n      <td>0</td>\n      <td>0</td>\n      <td>0.707107</td>\n      <td>7.071068e-01</td>\n      <td>-0.900969</td>\n      <td>0.433884</td>\n      <td>-0.548843</td>\n      <td>0.835925</td>\n    </tr>\n    <tr>\n      <th>15716</th>\n      <td>7.82</td>\n      <td>307</td>\n      <td>0</td>\n      <td>0</td>\n      <td>0</td>\n      <td>0</td>\n      <td>0</td>\n      <td>1</td>\n      <td>0</td>\n      <td>0</td>\n      <td>0</td>\n      <td>0</td>\n      <td>0.500000</td>\n      <td>8.660254e-01</td>\n      <td>-0.900969</td>\n      <td>0.433884</td>\n      <td>-0.548843</td>\n      <td>0.835925</td>\n    </tr>\n    <tr>\n      <th>15719</th>\n      <td>8.31</td>\n      <td>689</td>\n      <td>0</td>\n      <td>0</td>\n      <td>0</td>\n      <td>0</td>\n      <td>1</td>\n      <td>0</td>\n      <td>0</td>\n      <td>0</td>\n      <td>0</td>\n      <td>0</td>\n      <td>0.258819</td>\n      <td>9.659258e-01</td>\n      <td>-0.900969</td>\n      <td>0.433884</td>\n      <td>-0.548843</td>\n      <td>0.835925</td>\n    </tr>\n    <tr>\n      <th>...</th>\n      <td>...</td>\n      <td>...</td>\n      <td>...</td>\n      <td>...</td>\n      <td>...</td>\n      <td>...</td>\n      <td>...</td>\n      <td>...</td>\n      <td>...</td>\n      <td>...</td>\n      <td>...</td>\n      <td>...</td>\n      <td>...</td>\n      <td>...</td>\n      <td>...</td>\n      <td>...</td>\n      <td>...</td>\n      <td>...</td>\n    </tr>\n    <tr>\n      <th>63971</th>\n      <td>6.00</td>\n      <td>995</td>\n      <td>0</td>\n      <td>0</td>\n      <td>0</td>\n      <td>0</td>\n      <td>0</td>\n      <td>0</td>\n      <td>1</td>\n      <td>0</td>\n      <td>0</td>\n      <td>0</td>\n      <td>-0.707107</td>\n      <td>7.071068e-01</td>\n      <td>0.623490</td>\n      <td>0.781831</td>\n      <td>0.436651</td>\n      <td>0.899631</td>\n    </tr>\n    <tr>\n      <th>63974</th>\n      <td>6.00</td>\n      <td>1257</td>\n      <td>0</td>\n      <td>0</td>\n      <td>0</td>\n      <td>0</td>\n      <td>0</td>\n      <td>0</td>\n      <td>1</td>\n      <td>0</td>\n      <td>0</td>\n      <td>0</td>\n      <td>-0.866025</td>\n      <td>5.000000e-01</td>\n      <td>0.623490</td>\n      <td>0.781831</td>\n      <td>0.436651</td>\n      <td>0.899631</td>\n    </tr>\n    <tr>\n      <th>63977</th>\n      <td>7.00</td>\n      <td>1561</td>\n      <td>0</td>\n      <td>0</td>\n      <td>0</td>\n      <td>0</td>\n      <td>0</td>\n      <td>0</td>\n      <td>1</td>\n      <td>0</td>\n      <td>0</td>\n      <td>0</td>\n      <td>-0.965926</td>\n      <td>2.588190e-01</td>\n      <td>0.623490</td>\n      <td>0.781831</td>\n      <td>0.436651</td>\n      <td>0.899631</td>\n    </tr>\n    <tr>\n      <th>63980</th>\n      <td>6.80</td>\n      <td>1394</td>\n      <td>0</td>\n      <td>0</td>\n      <td>0</td>\n      <td>0</td>\n      <td>0</td>\n      <td>0</td>\n      <td>1</td>\n      <td>0</td>\n      <td>0</td>\n      <td>0</td>\n      <td>-1.000000</td>\n      <td>1.224647e-16</td>\n      <td>0.623490</td>\n      <td>0.781831</td>\n      <td>0.436651</td>\n      <td>0.899631</td>\n    </tr>\n    <tr>\n      <th>63983</th>\n      <td>6.90</td>\n      <td>433</td>\n      <td>0</td>\n      <td>0</td>\n      <td>0</td>\n      <td>0</td>\n      <td>0</td>\n      <td>0</td>\n      <td>1</td>\n      <td>0</td>\n      <td>0</td>\n      <td>0</td>\n      <td>-0.965926</td>\n      <td>-2.588190e-01</td>\n      <td>0.623490</td>\n      <td>0.781831</td>\n      <td>0.436651</td>\n      <td>0.899631</td>\n    </tr>\n  </tbody>\n</table>\n<p>16031 rows × 18 columns</p>\n</div>"
     },
     "execution_count": 57,
     "metadata": {},
     "output_type": "execute_result"
    }
   ],
   "source": [
    "df_seen = df.loc[df['location_id'] == 330]\n",
    "df_seen = df_seen.loc[df['pedestrians_count'] <= 5000]\n",
    "\n",
    "matplotlib.use(\"TkAgg\")\n",
    "plt.figure()\n",
    "plt.plot([datetime.strptime(d, \"%Y-%m-%d %H:%M:%S\") for d in df_seen['date']], df_seen['pedestrians_count'])\n",
    "plt.show()\n",
    "\n",
    "plt.figure()\n",
    "plt.hist(df_seen['pedestrians_count'], bins=50)\n",
    "plt.show()\n",
    "\n",
    "window_size = 24*365  # You can adjust this as needed\n",
    "m_avg = df_seen['pedestrians_count'].rolling(window=window_size, center=True).mean()\n",
    "\n",
    "# Plot original data and centered moving average\n",
    "plt.figure()\n",
    "plt.plot([datetime.strptime(d, \"%Y-%m-%d %H:%M:%S\") for d in df_seen['date']], df_seen['pedestrians_count'], label='Pedestrians Count')\n",
    "plt.plot([datetime.strptime(d, \"%Y-%m-%d %H:%M:%S\") for d in df_seen['date']], m_avg, label='Moving Average', linestyle='--')\n",
    "plt.xlabel('Date')\n",
    "plt.ylabel('Pedestrians Count')\n",
    "plt.title('Pedestrians Count with Centered Moving Average')\n",
    "plt.legend()\n",
    "plt.show()\n",
    "\n",
    "df_seen = df_seen.drop(columns='location_id')\n",
    "\n",
    "# Temporary drop date\n",
    "df_seen['holiday'] = df_seen.apply(lambda row: check_holiday(row['date']), axis = 1)\n",
    "\n",
    "df_seen['time_cos'] = df_seen.apply(lambda row: hour_features(row['date'])[0], axis = 1)\n",
    "df_seen['time_sin'] = df_seen.apply(lambda row: hour_features(row['date'])[1], axis = 1)\n",
    "\n",
    "df_seen['day_cos'] = df_seen.apply(lambda row: day_features(row['date'])[0], axis = 1)\n",
    "df_seen['day_sin'] = df_seen.apply(lambda row: day_features(row['date'])[1], axis = 1)\n",
    "\n",
    "df_seen['dayofyear_cos'] = df_seen.apply(lambda row: dayofyear_features(row['date'])[0], axis = 1)\n",
    "df_seen['dayofyear_sin'] = df_seen.apply(lambda row: dayofyear_features(row['date'])[1], axis = 1)\n",
    "\n",
    "df_unseen = df_seen[[datetime.strptime(d, '%Y-%m-%d %H:%M:%S') <= datetime(2022, 5, 5) for d in df_seen['date']]]\n",
    "df_seen = df_seen[[datetime.strptime(d, '%Y-%m-%d %H:%M:%S') > datetime(2022, 5, 5) for d in df_seen['date']]]\n",
    "df_mid_old = df_seen.copy()\n",
    "\n",
    "df_seen = df_seen.drop(columns='date')\n",
    "# df_mid['date'][0].split()\n",
    "# \n",
    "df_seen"
   ]
  },
  {
   "cell_type": "code",
   "execution_count": 58,
   "metadata": {
    "ExecuteTime": {
     "end_time": "2024-03-05T23:07:29.409546200Z",
     "start_time": "2024-03-05T23:07:29.392589600Z"
    }
   },
   "outputs": [],
   "source": [
    "train, test = train_test_split(df_seen, test_size=0.01)"
   ]
  },
  {
   "cell_type": "code",
   "execution_count": 69,
   "metadata": {
    "ExecuteTime": {
     "end_time": "2024-03-05T23:10:00.525900600Z",
     "start_time": "2024-03-05T23:09:49.751847500Z"
    }
   },
   "outputs": [
    {
     "name": "stderr",
     "output_type": "stream",
     "text": [
      "[Parallel(n_jobs=1)]: Using backend SequentialBackend with 1 concurrent workers.\n",
      "[Parallel(n_jobs=1)]: Done 100 out of 100 | elapsed:   10.6s finished\n"
     ]
    },
    {
     "data": {
      "text/plain": "RandomForestRegressor(verbose=True)",
      "text/html": "<style>#sk-container-id-8 {color: black;}#sk-container-id-8 pre{padding: 0;}#sk-container-id-8 div.sk-toggleable {background-color: white;}#sk-container-id-8 label.sk-toggleable__label {cursor: pointer;display: block;width: 100%;margin-bottom: 0;padding: 0.3em;box-sizing: border-box;text-align: center;}#sk-container-id-8 label.sk-toggleable__label-arrow:before {content: \"▸\";float: left;margin-right: 0.25em;color: #696969;}#sk-container-id-8 label.sk-toggleable__label-arrow:hover:before {color: black;}#sk-container-id-8 div.sk-estimator:hover label.sk-toggleable__label-arrow:before {color: black;}#sk-container-id-8 div.sk-toggleable__content {max-height: 0;max-width: 0;overflow: hidden;text-align: left;background-color: #f0f8ff;}#sk-container-id-8 div.sk-toggleable__content pre {margin: 0.2em;color: black;border-radius: 0.25em;background-color: #f0f8ff;}#sk-container-id-8 input.sk-toggleable__control:checked~div.sk-toggleable__content {max-height: 200px;max-width: 100%;overflow: auto;}#sk-container-id-8 input.sk-toggleable__control:checked~label.sk-toggleable__label-arrow:before {content: \"▾\";}#sk-container-id-8 div.sk-estimator input.sk-toggleable__control:checked~label.sk-toggleable__label {background-color: #d4ebff;}#sk-container-id-8 div.sk-label input.sk-toggleable__control:checked~label.sk-toggleable__label {background-color: #d4ebff;}#sk-container-id-8 input.sk-hidden--visually {border: 0;clip: rect(1px 1px 1px 1px);clip: rect(1px, 1px, 1px, 1px);height: 1px;margin: -1px;overflow: hidden;padding: 0;position: absolute;width: 1px;}#sk-container-id-8 div.sk-estimator {font-family: monospace;background-color: #f0f8ff;border: 1px dotted black;border-radius: 0.25em;box-sizing: border-box;margin-bottom: 0.5em;}#sk-container-id-8 div.sk-estimator:hover {background-color: #d4ebff;}#sk-container-id-8 div.sk-parallel-item::after {content: \"\";width: 100%;border-bottom: 1px solid gray;flex-grow: 1;}#sk-container-id-8 div.sk-label:hover label.sk-toggleable__label {background-color: #d4ebff;}#sk-container-id-8 div.sk-serial::before {content: \"\";position: absolute;border-left: 1px solid gray;box-sizing: border-box;top: 0;bottom: 0;left: 50%;z-index: 0;}#sk-container-id-8 div.sk-serial {display: flex;flex-direction: column;align-items: center;background-color: white;padding-right: 0.2em;padding-left: 0.2em;position: relative;}#sk-container-id-8 div.sk-item {position: relative;z-index: 1;}#sk-container-id-8 div.sk-parallel {display: flex;align-items: stretch;justify-content: center;background-color: white;position: relative;}#sk-container-id-8 div.sk-item::before, #sk-container-id-8 div.sk-parallel-item::before {content: \"\";position: absolute;border-left: 1px solid gray;box-sizing: border-box;top: 0;bottom: 0;left: 50%;z-index: -1;}#sk-container-id-8 div.sk-parallel-item {display: flex;flex-direction: column;z-index: 1;position: relative;background-color: white;}#sk-container-id-8 div.sk-parallel-item:first-child::after {align-self: flex-end;width: 50%;}#sk-container-id-8 div.sk-parallel-item:last-child::after {align-self: flex-start;width: 50%;}#sk-container-id-8 div.sk-parallel-item:only-child::after {width: 0;}#sk-container-id-8 div.sk-dashed-wrapped {border: 1px dashed gray;margin: 0 0.4em 0.5em 0.4em;box-sizing: border-box;padding-bottom: 0.4em;background-color: white;}#sk-container-id-8 div.sk-label label {font-family: monospace;font-weight: bold;display: inline-block;line-height: 1.2em;}#sk-container-id-8 div.sk-label-container {text-align: center;}#sk-container-id-8 div.sk-container {/* jupyter's `normalize.less` sets `[hidden] { display: none; }` but bootstrap.min.css set `[hidden] { display: none !important; }` so we also need the `!important` here to be able to override the default hidden behavior on the sphinx rendered scikit-learn.org. See: https://github.com/scikit-learn/scikit-learn/issues/21755 */display: inline-block !important;position: relative;}#sk-container-id-8 div.sk-text-repr-fallback {display: none;}</style><div id=\"sk-container-id-8\" class=\"sk-top-container\"><div class=\"sk-text-repr-fallback\"><pre>RandomForestRegressor(verbose=True)</pre><b>In a Jupyter environment, please rerun this cell to show the HTML representation or trust the notebook. <br />On GitHub, the HTML representation is unable to render, please try loading this page with nbviewer.org.</b></div><div class=\"sk-container\" hidden><div class=\"sk-item\"><div class=\"sk-estimator sk-toggleable\"><input class=\"sk-toggleable__control sk-hidden--visually\" id=\"sk-estimator-id-8\" type=\"checkbox\" checked><label for=\"sk-estimator-id-8\" class=\"sk-toggleable__label sk-toggleable__label-arrow\">RandomForestRegressor</label><div class=\"sk-toggleable__content\"><pre>RandomForestRegressor(verbose=True)</pre></div></div></div></div></div>"
     },
     "execution_count": 69,
     "metadata": {},
     "output_type": "execute_result"
    }
   ],
   "source": [
    "forest = RandomForestRegressor(verbose=True)\n",
    "forest.fit(train.drop(columns='pedestrians_count'), train['pedestrians_count'])"
   ]
  },
  {
   "cell_type": "code",
   "execution_count": 71,
   "metadata": {
    "ExecuteTime": {
     "end_time": "2024-03-05T23:10:00.695995700Z",
     "start_time": "2024-03-05T23:10:00.657682300Z"
    }
   },
   "outputs": [
    {
     "name": "stderr",
     "output_type": "stream",
     "text": [
      "[Parallel(n_jobs=1)]: Using backend SequentialBackend with 1 concurrent workers.\n",
      "[Parallel(n_jobs=1)]: Done 100 out of 100 | elapsed:    0.0s finished\n"
     ]
    },
    {
     "data": {
      "text/plain": "0.9425485659116989"
     },
     "execution_count": 71,
     "metadata": {},
     "output_type": "execute_result"
    }
   ],
   "source": [
    "forest.score(test.drop(columns='pedestrians_count'), test['pedestrians_count'])"
   ]
  },
  {
   "cell_type": "code",
   "outputs": [
    {
     "name": "stderr",
     "output_type": "stream",
     "text": [
      "[Parallel(n_jobs=1)]: Using backend SequentialBackend with 1 concurrent workers.\n",
      "[Parallel(n_jobs=1)]: Done 100 out of 100 | elapsed:    0.0s finished\n"
     ]
    },
    {
     "data": {
      "text/plain": "0.8147329536653922"
     },
     "execution_count": 70,
     "metadata": {},
     "output_type": "execute_result"
    }
   ],
   "source": [
    "forest.score(df_unseen.drop(columns=['pedestrians_count', 'date']), df_unseen['pedestrians_count'])"
   ],
   "metadata": {
    "collapsed": false,
    "ExecuteTime": {
     "end_time": "2024-03-05T23:10:00.656677700Z",
     "start_time": "2024-03-05T23:10:00.510906100Z"
    }
   },
   "execution_count": 70
  },
  {
   "cell_type": "code",
   "outputs": [],
   "source": [],
   "metadata": {
    "collapsed": false,
    "ExecuteTime": {
     "end_time": "2024-03-05T23:09:36.558170Z",
     "start_time": "2024-03-05T23:09:36.534148700Z"
    }
   },
   "execution_count": 66
  },
  {
   "cell_type": "code",
   "execution_count": 72,
   "metadata": {
    "ExecuteTime": {
     "end_time": "2024-03-05T23:10:10.902167100Z",
     "start_time": "2024-03-05T23:10:10.719259500Z"
    }
   },
   "outputs": [
    {
     "name": "stderr",
     "output_type": "stream",
     "text": [
      "[Parallel(n_jobs=1)]: Using backend SequentialBackend with 1 concurrent workers.\n",
      "[Parallel(n_jobs=1)]: Done 100 out of 100 | elapsed:    0.0s finished\n"
     ]
    }
   ],
   "source": [
    "reals = np.array(df_unseen['pedestrians_count'])\n",
    "preds = np.array(forest.predict(df_unseen.drop(columns=['pedestrians_count', 'date'])))\n",
    "dates = np.array([datetime.strptime(d, \"%Y-%m-%d %H:%M:%S\") for d in df_unseen['date']])"
   ]
  },
  {
   "cell_type": "code",
   "execution_count": 73,
   "metadata": {
    "ExecuteTime": {
     "end_time": "2024-03-05T23:10:11.813723600Z",
     "start_time": "2024-03-05T23:10:11.671519700Z"
    }
   },
   "outputs": [],
   "source": [
    "%matplotlib tk\n",
    "matplotlib.use(\"TkAgg\")\n",
    "plt.figure()\n",
    "plt.plot(dates, reals)\n",
    "plt.plot(dates, preds)\n",
    "plt.show()"
   ]
  },
  {
   "cell_type": "code",
   "execution_count": 49,
   "metadata": {
    "ExecuteTime": {
     "end_time": "2024-03-05T21:38:57.724896400Z",
     "start_time": "2024-03-05T21:38:57.706986100Z"
    }
   },
   "outputs": [
    {
     "data": {
      "text/plain": "      temperature  pedestrians_count                 date  \\\n4971        -1.15                 77  2021-12-06 23:00:00   \n4974        -0.09                 11  2021-12-07 00:00:00   \n4977        -0.14                 11  2021-12-07 01:00:00   \n4980         0.13                 12  2021-12-07 02:00:00   \n4983         0.51                 12  2021-12-07 03:00:00   \n4986         0.80                127  2021-12-07 04:00:00   \n4989         1.12                313  2021-12-07 05:00:00   \n4992         1.31                786  2021-12-07 06:00:00   \n4995         1.16                931  2021-12-07 07:00:00   \n4998         1.33               1187  2021-12-07 08:00:00   \n5001         2.25               1587  2021-12-07 09:00:00   \n5004         3.14               2480  2021-12-07 10:00:00   \n5007         4.16               3071  2021-12-07 11:00:00   \n5010         4.95               3117  2021-12-07 12:00:00   \n5013         5.33               3135  2021-12-07 13:00:00   \n5016         4.97               2911  2021-12-07 14:00:00   \n5019         3.76               3124  2021-12-07 15:00:00   \n\n      weather_condition_clear-day  weather_condition_clear-night  \\\n4971                            0                              0   \n4974                            0                              0   \n4977                            0                              0   \n4980                            0                              0   \n4983                            0                              0   \n4986                            0                              0   \n4989                            0                              0   \n4992                            0                              0   \n4995                            0                              0   \n4998                            0                              0   \n5001                            0                              0   \n5004                            0                              0   \n5007                            0                              0   \n5010                            0                              0   \n5013                            0                              0   \n5016                            0                              0   \n5019                            0                              0   \n\n      weather_condition_cloudy  weather_condition_fog  \\\n4971                         1                      0   \n4974                         1                      0   \n4977                         1                      0   \n4980                         1                      0   \n4983                         1                      0   \n4986                         1                      0   \n4989                         0                      0   \n4992                         0                      0   \n4995                         0                      0   \n4998                         0                      0   \n5001                         0                      0   \n5004                         0                      0   \n5007                         0                      0   \n5010                         0                      0   \n5013                         0                      0   \n5016                         0                      0   \n5019                         0                      0   \n\n      weather_condition_partly-cloudy-day  \\\n4971                                    0   \n4974                                    0   \n4977                                    0   \n4980                                    0   \n4983                                    0   \n4986                                    0   \n4989                                    0   \n4992                                    0   \n4995                                    0   \n4998                                    1   \n5001                                    1   \n5004                                    1   \n5007                                    1   \n5010                                    1   \n5013                                    1   \n5016                                    1   \n5019                                    1   \n\n      weather_condition_partly-cloudy-night  weather_condition_rain  \\\n4971                                      0                       0   \n4974                                      0                       0   \n4977                                      0                       0   \n4980                                      0                       0   \n4983                                      0                       0   \n4986                                      0                       0   \n4989                                      1                       0   \n4992                                      1                       0   \n4995                                      1                       0   \n4998                                      0                       0   \n5001                                      0                       0   \n5004                                      0                       0   \n5007                                      0                       0   \n5010                                      0                       0   \n5013                                      0                       0   \n5016                                      0                       0   \n5019                                      0                       0   \n\n      weather_condition_snow  weather_condition_wind  holiday      time_cos  \\\n4971                       0                       0        0  9.659258e-01   \n4974                       0                       0        0  1.000000e+00   \n4977                       0                       0        0  9.659258e-01   \n4980                       0                       0        0  8.660254e-01   \n4983                       0                       0        0  7.071068e-01   \n4986                       0                       0        0  5.000000e-01   \n4989                       0                       0        0  2.588190e-01   \n4992                       0                       0        0  6.123234e-17   \n4995                       0                       0        0 -2.588190e-01   \n4998                       0                       0        0 -5.000000e-01   \n5001                       0                       0        0 -7.071068e-01   \n5004                       0                       0        0 -8.660254e-01   \n5007                       0                       0        0 -9.659258e-01   \n5010                       0                       0        0 -1.000000e+00   \n5013                       0                       0        0 -9.659258e-01   \n5016                       0                       0        0 -8.660254e-01   \n5019                       0                       0        0 -7.071068e-01   \n\n          time_sin  day_cos   day_sin  dayofyear_cos  dayofyear_sin  \n4971 -2.588190e-01  1.00000  0.000000       0.908818      -0.417194  \n4974  0.000000e+00  0.62349  0.781831       0.915864      -0.401488  \n4977  2.588190e-01  0.62349  0.781831       0.915864      -0.401488  \n4980  5.000000e-01  0.62349  0.781831       0.915864      -0.401488  \n4983  7.071068e-01  0.62349  0.781831       0.915864      -0.401488  \n4986  8.660254e-01  0.62349  0.781831       0.915864      -0.401488  \n4989  9.659258e-01  0.62349  0.781831       0.915864      -0.401488  \n4992  1.000000e+00  0.62349  0.781831       0.915864      -0.401488  \n4995  9.659258e-01  0.62349  0.781831       0.915864      -0.401488  \n4998  8.660254e-01  0.62349  0.781831       0.915864      -0.401488  \n5001  7.071068e-01  0.62349  0.781831       0.915864      -0.401488  \n5004  5.000000e-01  0.62349  0.781831       0.915864      -0.401488  \n5007  2.588190e-01  0.62349  0.781831       0.915864      -0.401488  \n5010  1.224647e-16  0.62349  0.781831       0.915864      -0.401488  \n5013 -2.588190e-01  0.62349  0.781831       0.915864      -0.401488  \n5016 -5.000000e-01  0.62349  0.781831       0.915864      -0.401488  \n5019 -7.071068e-01  0.62349  0.781831       0.915864      -0.401488  ",
      "text/html": "<div>\n<style scoped>\n    .dataframe tbody tr th:only-of-type {\n        vertical-align: middle;\n    }\n\n    .dataframe tbody tr th {\n        vertical-align: top;\n    }\n\n    .dataframe thead th {\n        text-align: right;\n    }\n</style>\n<table border=\"1\" class=\"dataframe\">\n  <thead>\n    <tr style=\"text-align: right;\">\n      <th></th>\n      <th>temperature</th>\n      <th>pedestrians_count</th>\n      <th>date</th>\n      <th>weather_condition_clear-day</th>\n      <th>weather_condition_clear-night</th>\n      <th>weather_condition_cloudy</th>\n      <th>weather_condition_fog</th>\n      <th>weather_condition_partly-cloudy-day</th>\n      <th>weather_condition_partly-cloudy-night</th>\n      <th>weather_condition_rain</th>\n      <th>weather_condition_snow</th>\n      <th>weather_condition_wind</th>\n      <th>holiday</th>\n      <th>time_cos</th>\n      <th>time_sin</th>\n      <th>day_cos</th>\n      <th>day_sin</th>\n      <th>dayofyear_cos</th>\n      <th>dayofyear_sin</th>\n    </tr>\n  </thead>\n  <tbody>\n    <tr>\n      <th>4971</th>\n      <td>-1.15</td>\n      <td>77</td>\n      <td>2021-12-06 23:00:00</td>\n      <td>0</td>\n      <td>0</td>\n      <td>1</td>\n      <td>0</td>\n      <td>0</td>\n      <td>0</td>\n      <td>0</td>\n      <td>0</td>\n      <td>0</td>\n      <td>0</td>\n      <td>9.659258e-01</td>\n      <td>-2.588190e-01</td>\n      <td>1.00000</td>\n      <td>0.000000</td>\n      <td>0.908818</td>\n      <td>-0.417194</td>\n    </tr>\n    <tr>\n      <th>4974</th>\n      <td>-0.09</td>\n      <td>11</td>\n      <td>2021-12-07 00:00:00</td>\n      <td>0</td>\n      <td>0</td>\n      <td>1</td>\n      <td>0</td>\n      <td>0</td>\n      <td>0</td>\n      <td>0</td>\n      <td>0</td>\n      <td>0</td>\n      <td>0</td>\n      <td>1.000000e+00</td>\n      <td>0.000000e+00</td>\n      <td>0.62349</td>\n      <td>0.781831</td>\n      <td>0.915864</td>\n      <td>-0.401488</td>\n    </tr>\n    <tr>\n      <th>4977</th>\n      <td>-0.14</td>\n      <td>11</td>\n      <td>2021-12-07 01:00:00</td>\n      <td>0</td>\n      <td>0</td>\n      <td>1</td>\n      <td>0</td>\n      <td>0</td>\n      <td>0</td>\n      <td>0</td>\n      <td>0</td>\n      <td>0</td>\n      <td>0</td>\n      <td>9.659258e-01</td>\n      <td>2.588190e-01</td>\n      <td>0.62349</td>\n      <td>0.781831</td>\n      <td>0.915864</td>\n      <td>-0.401488</td>\n    </tr>\n    <tr>\n      <th>4980</th>\n      <td>0.13</td>\n      <td>12</td>\n      <td>2021-12-07 02:00:00</td>\n      <td>0</td>\n      <td>0</td>\n      <td>1</td>\n      <td>0</td>\n      <td>0</td>\n      <td>0</td>\n      <td>0</td>\n      <td>0</td>\n      <td>0</td>\n      <td>0</td>\n      <td>8.660254e-01</td>\n      <td>5.000000e-01</td>\n      <td>0.62349</td>\n      <td>0.781831</td>\n      <td>0.915864</td>\n      <td>-0.401488</td>\n    </tr>\n    <tr>\n      <th>4983</th>\n      <td>0.51</td>\n      <td>12</td>\n      <td>2021-12-07 03:00:00</td>\n      <td>0</td>\n      <td>0</td>\n      <td>1</td>\n      <td>0</td>\n      <td>0</td>\n      <td>0</td>\n      <td>0</td>\n      <td>0</td>\n      <td>0</td>\n      <td>0</td>\n      <td>7.071068e-01</td>\n      <td>7.071068e-01</td>\n      <td>0.62349</td>\n      <td>0.781831</td>\n      <td>0.915864</td>\n      <td>-0.401488</td>\n    </tr>\n    <tr>\n      <th>4986</th>\n      <td>0.80</td>\n      <td>127</td>\n      <td>2021-12-07 04:00:00</td>\n      <td>0</td>\n      <td>0</td>\n      <td>1</td>\n      <td>0</td>\n      <td>0</td>\n      <td>0</td>\n      <td>0</td>\n      <td>0</td>\n      <td>0</td>\n      <td>0</td>\n      <td>5.000000e-01</td>\n      <td>8.660254e-01</td>\n      <td>0.62349</td>\n      <td>0.781831</td>\n      <td>0.915864</td>\n      <td>-0.401488</td>\n    </tr>\n    <tr>\n      <th>4989</th>\n      <td>1.12</td>\n      <td>313</td>\n      <td>2021-12-07 05:00:00</td>\n      <td>0</td>\n      <td>0</td>\n      <td>0</td>\n      <td>0</td>\n      <td>0</td>\n      <td>1</td>\n      <td>0</td>\n      <td>0</td>\n      <td>0</td>\n      <td>0</td>\n      <td>2.588190e-01</td>\n      <td>9.659258e-01</td>\n      <td>0.62349</td>\n      <td>0.781831</td>\n      <td>0.915864</td>\n      <td>-0.401488</td>\n    </tr>\n    <tr>\n      <th>4992</th>\n      <td>1.31</td>\n      <td>786</td>\n      <td>2021-12-07 06:00:00</td>\n      <td>0</td>\n      <td>0</td>\n      <td>0</td>\n      <td>0</td>\n      <td>0</td>\n      <td>1</td>\n      <td>0</td>\n      <td>0</td>\n      <td>0</td>\n      <td>0</td>\n      <td>6.123234e-17</td>\n      <td>1.000000e+00</td>\n      <td>0.62349</td>\n      <td>0.781831</td>\n      <td>0.915864</td>\n      <td>-0.401488</td>\n    </tr>\n    <tr>\n      <th>4995</th>\n      <td>1.16</td>\n      <td>931</td>\n      <td>2021-12-07 07:00:00</td>\n      <td>0</td>\n      <td>0</td>\n      <td>0</td>\n      <td>0</td>\n      <td>0</td>\n      <td>1</td>\n      <td>0</td>\n      <td>0</td>\n      <td>0</td>\n      <td>0</td>\n      <td>-2.588190e-01</td>\n      <td>9.659258e-01</td>\n      <td>0.62349</td>\n      <td>0.781831</td>\n      <td>0.915864</td>\n      <td>-0.401488</td>\n    </tr>\n    <tr>\n      <th>4998</th>\n      <td>1.33</td>\n      <td>1187</td>\n      <td>2021-12-07 08:00:00</td>\n      <td>0</td>\n      <td>0</td>\n      <td>0</td>\n      <td>0</td>\n      <td>1</td>\n      <td>0</td>\n      <td>0</td>\n      <td>0</td>\n      <td>0</td>\n      <td>0</td>\n      <td>-5.000000e-01</td>\n      <td>8.660254e-01</td>\n      <td>0.62349</td>\n      <td>0.781831</td>\n      <td>0.915864</td>\n      <td>-0.401488</td>\n    </tr>\n    <tr>\n      <th>5001</th>\n      <td>2.25</td>\n      <td>1587</td>\n      <td>2021-12-07 09:00:00</td>\n      <td>0</td>\n      <td>0</td>\n      <td>0</td>\n      <td>0</td>\n      <td>1</td>\n      <td>0</td>\n      <td>0</td>\n      <td>0</td>\n      <td>0</td>\n      <td>0</td>\n      <td>-7.071068e-01</td>\n      <td>7.071068e-01</td>\n      <td>0.62349</td>\n      <td>0.781831</td>\n      <td>0.915864</td>\n      <td>-0.401488</td>\n    </tr>\n    <tr>\n      <th>5004</th>\n      <td>3.14</td>\n      <td>2480</td>\n      <td>2021-12-07 10:00:00</td>\n      <td>0</td>\n      <td>0</td>\n      <td>0</td>\n      <td>0</td>\n      <td>1</td>\n      <td>0</td>\n      <td>0</td>\n      <td>0</td>\n      <td>0</td>\n      <td>0</td>\n      <td>-8.660254e-01</td>\n      <td>5.000000e-01</td>\n      <td>0.62349</td>\n      <td>0.781831</td>\n      <td>0.915864</td>\n      <td>-0.401488</td>\n    </tr>\n    <tr>\n      <th>5007</th>\n      <td>4.16</td>\n      <td>3071</td>\n      <td>2021-12-07 11:00:00</td>\n      <td>0</td>\n      <td>0</td>\n      <td>0</td>\n      <td>0</td>\n      <td>1</td>\n      <td>0</td>\n      <td>0</td>\n      <td>0</td>\n      <td>0</td>\n      <td>0</td>\n      <td>-9.659258e-01</td>\n      <td>2.588190e-01</td>\n      <td>0.62349</td>\n      <td>0.781831</td>\n      <td>0.915864</td>\n      <td>-0.401488</td>\n    </tr>\n    <tr>\n      <th>5010</th>\n      <td>4.95</td>\n      <td>3117</td>\n      <td>2021-12-07 12:00:00</td>\n      <td>0</td>\n      <td>0</td>\n      <td>0</td>\n      <td>0</td>\n      <td>1</td>\n      <td>0</td>\n      <td>0</td>\n      <td>0</td>\n      <td>0</td>\n      <td>0</td>\n      <td>-1.000000e+00</td>\n      <td>1.224647e-16</td>\n      <td>0.62349</td>\n      <td>0.781831</td>\n      <td>0.915864</td>\n      <td>-0.401488</td>\n    </tr>\n    <tr>\n      <th>5013</th>\n      <td>5.33</td>\n      <td>3135</td>\n      <td>2021-12-07 13:00:00</td>\n      <td>0</td>\n      <td>0</td>\n      <td>0</td>\n      <td>0</td>\n      <td>1</td>\n      <td>0</td>\n      <td>0</td>\n      <td>0</td>\n      <td>0</td>\n      <td>0</td>\n      <td>-9.659258e-01</td>\n      <td>-2.588190e-01</td>\n      <td>0.62349</td>\n      <td>0.781831</td>\n      <td>0.915864</td>\n      <td>-0.401488</td>\n    </tr>\n    <tr>\n      <th>5016</th>\n      <td>4.97</td>\n      <td>2911</td>\n      <td>2021-12-07 14:00:00</td>\n      <td>0</td>\n      <td>0</td>\n      <td>0</td>\n      <td>0</td>\n      <td>1</td>\n      <td>0</td>\n      <td>0</td>\n      <td>0</td>\n      <td>0</td>\n      <td>0</td>\n      <td>-8.660254e-01</td>\n      <td>-5.000000e-01</td>\n      <td>0.62349</td>\n      <td>0.781831</td>\n      <td>0.915864</td>\n      <td>-0.401488</td>\n    </tr>\n    <tr>\n      <th>5019</th>\n      <td>3.76</td>\n      <td>3124</td>\n      <td>2021-12-07 15:00:00</td>\n      <td>0</td>\n      <td>0</td>\n      <td>0</td>\n      <td>0</td>\n      <td>1</td>\n      <td>0</td>\n      <td>0</td>\n      <td>0</td>\n      <td>0</td>\n      <td>0</td>\n      <td>-7.071068e-01</td>\n      <td>-7.071068e-01</td>\n      <td>0.62349</td>\n      <td>0.781831</td>\n      <td>0.915864</td>\n      <td>-0.401488</td>\n    </tr>\n  </tbody>\n</table>\n</div>"
     },
     "execution_count": 49,
     "metadata": {},
     "output_type": "execute_result"
    }
   ],
   "source": [
    "df_mid_old.loc[4970:5020]"
   ]
  },
  {
   "cell_type": "code",
   "execution_count": null,
   "metadata": {},
   "outputs": [],
   "source": []
  }
 ],
 "metadata": {
  "kernelspec": {
   "display_name": "default_env",
   "language": "python",
   "name": "python3"
  },
  "language_info": {
   "codemirror_mode": {
    "name": "ipython",
    "version": 3
   },
   "file_extension": ".py",
   "mimetype": "text/x-python",
   "name": "python",
   "nbconvert_exporter": "python",
   "pygments_lexer": "ipython3",
   "version": "3.11.8"
  }
 },
 "nbformat": 4,
 "nbformat_minor": 2
}
