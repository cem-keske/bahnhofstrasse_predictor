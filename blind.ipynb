{
 "cells": [
  {
   "cell_type": "code",
   "execution_count": 38,
   "metadata": {
    "ExecuteTime": {
     "end_time": "2024-03-25T19:00:44.630926200Z",
     "start_time": "2024-03-25T19:00:44.619895900Z"
    }
   },
   "outputs": [],
   "source": [
    "import numpy as np\n",
    "import pandas as pd\n",
    "\n",
    "from datetime import datetime\n",
    "from sklearn.model_selection import train_test_split\n",
    "from sklearn.ensemble import RandomForestRegressor\n",
    "from sklearn.metrics import *\n",
    "\n",
    "from utils import load_and_preprocess\n",
    "\n",
    "from datetime import datetime\n",
    "import matplotlib.pyplot as plt\n",
    "import matplotlib"
   ]
  },
  {
   "cell_type": "code",
   "execution_count": 39,
   "metadata": {
    "ExecuteTime": {
     "end_time": "2024-03-25T19:00:51.808665800Z",
     "start_time": "2024-03-25T19:00:45.706025100Z"
    }
   },
   "outputs": [
    {
     "data": {
      "text/plain": "       temperature  pedestrians_count  is_holiday  is_special_day  \\\n0            13.51                151           0               0   \n3            13.46                 19           0               0   \n6            13.26                 10           0               0   \n9            13.51                  6           0               0   \n12           13.44                 22           0               0   \n...            ...                ...         ...             ...   \n63969         6.00               1507           0               0   \n63972         6.00               2280           0               0   \n63975         7.00               3216           0               0   \n63978         6.80               2858           0               0   \n63981         6.90                644           0               0   \n\n                      date  weather_condition_clear-day  \\\n0      2021-09-28 22:00:00                            0   \n3      2021-09-28 23:00:00                            0   \n6      2021-09-29 00:00:00                            0   \n9      2021-09-29 01:00:00                            0   \n12     2021-09-29 02:00:00                            0   \n...                    ...                          ...   \n63969  2024-03-05 09:00:00                            0   \n63972  2024-03-05 10:00:00                            0   \n63975  2024-03-05 11:00:00                            0   \n63978  2024-03-05 12:00:00                            0   \n63981  2024-03-05 13:00:00                            0   \n\n       weather_condition_clear-night  weather_condition_cloudy  \\\n0                                  0                         1   \n3                                  0                         1   \n6                                  0                         0   \n9                                  0                         0   \n12                                 0                         0   \n...                              ...                       ...   \n63969                              0                         0   \n63972                              0                         0   \n63975                              0                         0   \n63978                              0                         0   \n63981                              0                         0   \n\n       weather_condition_fog  weather_condition_partly-cloudy-day  \\\n0                          0                                    0   \n3                          0                                    0   \n6                          0                                    0   \n9                          0                                    0   \n12                         0                                    0   \n...                      ...                                  ...   \n63969                      0                                    0   \n63972                      0                                    0   \n63975                      0                                    0   \n63978                      0                                    0   \n63981                      0                                    0   \n\n       weather_condition_partly-cloudy-night  weather_condition_rain  \\\n0                                          0                       0   \n3                                          0                       0   \n6                                          0                       1   \n9                                          0                       1   \n12                                         0                       1   \n...                                      ...                     ...   \n63969                                      0                       1   \n63972                                      0                       1   \n63975                                      0                       1   \n63978                                      0                       1   \n63981                                      0                       1   \n\n       weather_condition_snow  weather_condition_wind  time_cos      time_sin  \\\n0                           0                       0  0.866025 -5.000000e-01   \n3                           0                       0  0.965926 -2.588190e-01   \n6                           0                       0  1.000000  0.000000e+00   \n9                           0                       0  0.965926  2.588190e-01   \n12                          0                       0  0.866025  5.000000e-01   \n...                       ...                     ...       ...           ...   \n63969                       0                       0 -0.707107  7.071068e-01   \n63972                       0                       0 -0.866025  5.000000e-01   \n63975                       0                       0 -0.965926  2.588190e-01   \n63978                       0                       0 -1.000000  1.224647e-16   \n63981                       0                       0 -0.965926 -2.588190e-01   \n\n        day_cos   day_sin  dayofyear_cos  dayofyear_sin  \n0      0.623490  0.781831      -0.047321      -0.998880  \n3      0.623490  0.781831      -0.047321      -0.998880  \n6     -0.222521  0.974928      -0.030120      -0.999546  \n9     -0.222521  0.974928      -0.030120      -0.999546  \n12    -0.222521  0.974928      -0.030120      -0.999546  \n...         ...       ...            ...            ...  \n63969  0.623490  0.781831       0.436651       0.899631  \n63972  0.623490  0.781831       0.436651       0.899631  \n63975  0.623490  0.781831       0.436651       0.899631  \n63978  0.623490  0.781831       0.436651       0.899631  \n63981  0.623490  0.781831       0.436651       0.899631  \n\n[21273 rows x 20 columns]",
      "text/html": "<div>\n<style scoped>\n    .dataframe tbody tr th:only-of-type {\n        vertical-align: middle;\n    }\n\n    .dataframe tbody tr th {\n        vertical-align: top;\n    }\n\n    .dataframe thead th {\n        text-align: right;\n    }\n</style>\n<table border=\"1\" class=\"dataframe\">\n  <thead>\n    <tr style=\"text-align: right;\">\n      <th></th>\n      <th>temperature</th>\n      <th>pedestrians_count</th>\n      <th>is_holiday</th>\n      <th>is_special_day</th>\n      <th>date</th>\n      <th>weather_condition_clear-day</th>\n      <th>weather_condition_clear-night</th>\n      <th>weather_condition_cloudy</th>\n      <th>weather_condition_fog</th>\n      <th>weather_condition_partly-cloudy-day</th>\n      <th>weather_condition_partly-cloudy-night</th>\n      <th>weather_condition_rain</th>\n      <th>weather_condition_snow</th>\n      <th>weather_condition_wind</th>\n      <th>time_cos</th>\n      <th>time_sin</th>\n      <th>day_cos</th>\n      <th>day_sin</th>\n      <th>dayofyear_cos</th>\n      <th>dayofyear_sin</th>\n    </tr>\n  </thead>\n  <tbody>\n    <tr>\n      <th>0</th>\n      <td>13.51</td>\n      <td>151</td>\n      <td>0</td>\n      <td>0</td>\n      <td>2021-09-28 22:00:00</td>\n      <td>0</td>\n      <td>0</td>\n      <td>1</td>\n      <td>0</td>\n      <td>0</td>\n      <td>0</td>\n      <td>0</td>\n      <td>0</td>\n      <td>0</td>\n      <td>0.866025</td>\n      <td>-5.000000e-01</td>\n      <td>0.623490</td>\n      <td>0.781831</td>\n      <td>-0.047321</td>\n      <td>-0.998880</td>\n    </tr>\n    <tr>\n      <th>3</th>\n      <td>13.46</td>\n      <td>19</td>\n      <td>0</td>\n      <td>0</td>\n      <td>2021-09-28 23:00:00</td>\n      <td>0</td>\n      <td>0</td>\n      <td>1</td>\n      <td>0</td>\n      <td>0</td>\n      <td>0</td>\n      <td>0</td>\n      <td>0</td>\n      <td>0</td>\n      <td>0.965926</td>\n      <td>-2.588190e-01</td>\n      <td>0.623490</td>\n      <td>0.781831</td>\n      <td>-0.047321</td>\n      <td>-0.998880</td>\n    </tr>\n    <tr>\n      <th>6</th>\n      <td>13.26</td>\n      <td>10</td>\n      <td>0</td>\n      <td>0</td>\n      <td>2021-09-29 00:00:00</td>\n      <td>0</td>\n      <td>0</td>\n      <td>0</td>\n      <td>0</td>\n      <td>0</td>\n      <td>0</td>\n      <td>1</td>\n      <td>0</td>\n      <td>0</td>\n      <td>1.000000</td>\n      <td>0.000000e+00</td>\n      <td>-0.222521</td>\n      <td>0.974928</td>\n      <td>-0.030120</td>\n      <td>-0.999546</td>\n    </tr>\n    <tr>\n      <th>9</th>\n      <td>13.51</td>\n      <td>6</td>\n      <td>0</td>\n      <td>0</td>\n      <td>2021-09-29 01:00:00</td>\n      <td>0</td>\n      <td>0</td>\n      <td>0</td>\n      <td>0</td>\n      <td>0</td>\n      <td>0</td>\n      <td>1</td>\n      <td>0</td>\n      <td>0</td>\n      <td>0.965926</td>\n      <td>2.588190e-01</td>\n      <td>-0.222521</td>\n      <td>0.974928</td>\n      <td>-0.030120</td>\n      <td>-0.999546</td>\n    </tr>\n    <tr>\n      <th>12</th>\n      <td>13.44</td>\n      <td>22</td>\n      <td>0</td>\n      <td>0</td>\n      <td>2021-09-29 02:00:00</td>\n      <td>0</td>\n      <td>0</td>\n      <td>0</td>\n      <td>0</td>\n      <td>0</td>\n      <td>0</td>\n      <td>1</td>\n      <td>0</td>\n      <td>0</td>\n      <td>0.866025</td>\n      <td>5.000000e-01</td>\n      <td>-0.222521</td>\n      <td>0.974928</td>\n      <td>-0.030120</td>\n      <td>-0.999546</td>\n    </tr>\n    <tr>\n      <th>...</th>\n      <td>...</td>\n      <td>...</td>\n      <td>...</td>\n      <td>...</td>\n      <td>...</td>\n      <td>...</td>\n      <td>...</td>\n      <td>...</td>\n      <td>...</td>\n      <td>...</td>\n      <td>...</td>\n      <td>...</td>\n      <td>...</td>\n      <td>...</td>\n      <td>...</td>\n      <td>...</td>\n      <td>...</td>\n      <td>...</td>\n      <td>...</td>\n      <td>...</td>\n    </tr>\n    <tr>\n      <th>63969</th>\n      <td>6.00</td>\n      <td>1507</td>\n      <td>0</td>\n      <td>0</td>\n      <td>2024-03-05 09:00:00</td>\n      <td>0</td>\n      <td>0</td>\n      <td>0</td>\n      <td>0</td>\n      <td>0</td>\n      <td>0</td>\n      <td>1</td>\n      <td>0</td>\n      <td>0</td>\n      <td>-0.707107</td>\n      <td>7.071068e-01</td>\n      <td>0.623490</td>\n      <td>0.781831</td>\n      <td>0.436651</td>\n      <td>0.899631</td>\n    </tr>\n    <tr>\n      <th>63972</th>\n      <td>6.00</td>\n      <td>2280</td>\n      <td>0</td>\n      <td>0</td>\n      <td>2024-03-05 10:00:00</td>\n      <td>0</td>\n      <td>0</td>\n      <td>0</td>\n      <td>0</td>\n      <td>0</td>\n      <td>0</td>\n      <td>1</td>\n      <td>0</td>\n      <td>0</td>\n      <td>-0.866025</td>\n      <td>5.000000e-01</td>\n      <td>0.623490</td>\n      <td>0.781831</td>\n      <td>0.436651</td>\n      <td>0.899631</td>\n    </tr>\n    <tr>\n      <th>63975</th>\n      <td>7.00</td>\n      <td>3216</td>\n      <td>0</td>\n      <td>0</td>\n      <td>2024-03-05 11:00:00</td>\n      <td>0</td>\n      <td>0</td>\n      <td>0</td>\n      <td>0</td>\n      <td>0</td>\n      <td>0</td>\n      <td>1</td>\n      <td>0</td>\n      <td>0</td>\n      <td>-0.965926</td>\n      <td>2.588190e-01</td>\n      <td>0.623490</td>\n      <td>0.781831</td>\n      <td>0.436651</td>\n      <td>0.899631</td>\n    </tr>\n    <tr>\n      <th>63978</th>\n      <td>6.80</td>\n      <td>2858</td>\n      <td>0</td>\n      <td>0</td>\n      <td>2024-03-05 12:00:00</td>\n      <td>0</td>\n      <td>0</td>\n      <td>0</td>\n      <td>0</td>\n      <td>0</td>\n      <td>0</td>\n      <td>1</td>\n      <td>0</td>\n      <td>0</td>\n      <td>-1.000000</td>\n      <td>1.224647e-16</td>\n      <td>0.623490</td>\n      <td>0.781831</td>\n      <td>0.436651</td>\n      <td>0.899631</td>\n    </tr>\n    <tr>\n      <th>63981</th>\n      <td>6.90</td>\n      <td>644</td>\n      <td>0</td>\n      <td>0</td>\n      <td>2024-03-05 13:00:00</td>\n      <td>0</td>\n      <td>0</td>\n      <td>0</td>\n      <td>0</td>\n      <td>0</td>\n      <td>0</td>\n      <td>1</td>\n      <td>0</td>\n      <td>0</td>\n      <td>-0.965926</td>\n      <td>-2.588190e-01</td>\n      <td>0.623490</td>\n      <td>0.781831</td>\n      <td>0.436651</td>\n      <td>0.899631</td>\n    </tr>\n  </tbody>\n</table>\n<p>21273 rows × 20 columns</p>\n</div>"
     },
     "execution_count": 39,
     "metadata": {},
     "output_type": "execute_result"
    }
   ],
   "source": [
    "%matplotlib tk\n",
    "location_id = 329 # 330, 331\n",
    "path = 'data/hystreet_fussgaengerfrequenzen_seit2021.csv'\n",
    "df = load_and_preprocess(path, location_id)\n",
    "df\n"
   ]
  },
  {
   "cell_type": "code",
   "outputs": [
    {
     "ename": "NameError",
     "evalue": "name 'plt' is not defined",
     "output_type": "error",
     "traceback": [
      "\u001B[1;31m---------------------------------------------------------------------------\u001B[0m",
      "\u001B[1;31mNameError\u001B[0m                                 Traceback (most recent call last)",
      "Cell \u001B[1;32mIn[1], line 1\u001B[0m\n\u001B[1;32m----> 1\u001B[0m plt\u001B[38;5;241m.\u001B[39mplot(pd\u001B[38;5;241m.\u001B[39mto_datetime(df\u001B[38;5;241m.\u001B[39mdate), df\u001B[38;5;241m.\u001B[39mpedestrians_count)\n",
      "\u001B[1;31mNameError\u001B[0m: name 'plt' is not defined"
     ]
    }
   ],
   "source": [
    "plt.plot(pd.to_datetime(df.date), df.pedestrians_count)"
   ],
   "metadata": {
    "collapsed": false,
    "ExecuteTime": {
     "end_time": "2024-03-25T18:32:01.615262400Z",
     "start_time": "2024-03-25T18:32:01.087811700Z"
    }
   },
   "execution_count": 1
  },
  {
   "cell_type": "code",
   "execution_count": 17,
   "metadata": {
    "ExecuteTime": {
     "end_time": "2024-03-25T18:30:42.531023100Z",
     "start_time": "2024-03-25T18:30:41.424166100Z"
    }
   },
   "outputs": [],
   "source": [
    "matplotlib.use(\"TkAgg\")\n",
    "plt.figure()\n",
    "plt.plot([datetime.strptime(d, \"%Y-%m-%d %H:%M:%S\") for d in df['date']], df['pedestrians_count'])\n",
    "plt.show()\n",
    "\n",
    "plt.figure()\n",
    "plt.hist(df['pedestrians_count'], bins=50)\n",
    "plt.show()\n",
    "\n",
    "window_size = 24*365  # You can adjust this as needed\n",
    "m_avg = df['pedestrians_count'].rolling(window=window_size, center=True).mean()\n",
    "\n",
    "# Plot original data and centered moving average\n",
    "plt.figure()\n",
    "plt.plot([datetime.strptime(d, \"%Y-%m-%d %H:%M:%S\") for d in df['date']], df['pedestrians_count'], label='Pedestrians Count')\n",
    "plt.plot([datetime.strptime(d, \"%Y-%m-%d %H:%M:%S\") for d in df['date']], m_avg, label='Moving Average', linestyle='--')\n",
    "plt.xlabel('Date')\n",
    "plt.ylabel('Pedestrians Count')\n",
    "plt.title('Pedestrians Count with Centered Moving Average')\n",
    "plt.legend()\n",
    "plt.show()"
   ]
  },
  {
   "cell_type": "code",
   "outputs": [],
   "source": [
    "#split train-test manually\n",
    "df_unseen = df[[datetime.strptime(d, '%Y-%m-%d %H:%M:%S') <= datetime(2022, 5, 5) for d in df['date']]]\n",
    "df_seen = df[[datetime.strptime(d, '%Y-%m-%d %H:%M:%S') > datetime(2022, 5, 5) for d in df['date']]]\n",
    "\n",
    "\n",
    "X_train = df_seen.drop(columns=[\"date\", 'pedestrians_count'])\n",
    "y_train = df_seen['pedestrians_count']\n",
    "\n",
    "X_test = df_unseen.drop(columns=[\"date\", 'pedestrians_count'])\n",
    "y_test = df_unseen['pedestrians_count']"
   ],
   "metadata": {
    "collapsed": false,
    "ExecuteTime": {
     "end_time": "2024-03-25T18:32:19.062812200Z",
     "start_time": "2024-03-25T18:32:18.700837700Z"
    }
   },
   "execution_count": 4
  },
  {
   "cell_type": "code",
   "execution_count": 31,
   "metadata": {
    "ExecuteTime": {
     "end_time": "2024-03-25T18:41:29.472095700Z",
     "start_time": "2024-03-25T18:41:23.122592700Z"
    }
   },
   "outputs": [
    {
     "name": "stderr",
     "output_type": "stream",
     "text": [
      "[Parallel(n_jobs=1)]: Using backend SequentialBackend with 1 concurrent workers.\n",
      "[Parallel(n_jobs=1)]: Done 100 out of 100 | elapsed:    6.2s finished\n"
     ]
    },
    {
     "data": {
      "text/plain": "RandomForestRegressor(max_features=10, verbose=True)",
      "text/html": "<style>#sk-container-id-6 {color: black;}#sk-container-id-6 pre{padding: 0;}#sk-container-id-6 div.sk-toggleable {background-color: white;}#sk-container-id-6 label.sk-toggleable__label {cursor: pointer;display: block;width: 100%;margin-bottom: 0;padding: 0.3em;box-sizing: border-box;text-align: center;}#sk-container-id-6 label.sk-toggleable__label-arrow:before {content: \"▸\";float: left;margin-right: 0.25em;color: #696969;}#sk-container-id-6 label.sk-toggleable__label-arrow:hover:before {color: black;}#sk-container-id-6 div.sk-estimator:hover label.sk-toggleable__label-arrow:before {color: black;}#sk-container-id-6 div.sk-toggleable__content {max-height: 0;max-width: 0;overflow: hidden;text-align: left;background-color: #f0f8ff;}#sk-container-id-6 div.sk-toggleable__content pre {margin: 0.2em;color: black;border-radius: 0.25em;background-color: #f0f8ff;}#sk-container-id-6 input.sk-toggleable__control:checked~div.sk-toggleable__content {max-height: 200px;max-width: 100%;overflow: auto;}#sk-container-id-6 input.sk-toggleable__control:checked~label.sk-toggleable__label-arrow:before {content: \"▾\";}#sk-container-id-6 div.sk-estimator input.sk-toggleable__control:checked~label.sk-toggleable__label {background-color: #d4ebff;}#sk-container-id-6 div.sk-label input.sk-toggleable__control:checked~label.sk-toggleable__label {background-color: #d4ebff;}#sk-container-id-6 input.sk-hidden--visually {border: 0;clip: rect(1px 1px 1px 1px);clip: rect(1px, 1px, 1px, 1px);height: 1px;margin: -1px;overflow: hidden;padding: 0;position: absolute;width: 1px;}#sk-container-id-6 div.sk-estimator {font-family: monospace;background-color: #f0f8ff;border: 1px dotted black;border-radius: 0.25em;box-sizing: border-box;margin-bottom: 0.5em;}#sk-container-id-6 div.sk-estimator:hover {background-color: #d4ebff;}#sk-container-id-6 div.sk-parallel-item::after {content: \"\";width: 100%;border-bottom: 1px solid gray;flex-grow: 1;}#sk-container-id-6 div.sk-label:hover label.sk-toggleable__label {background-color: #d4ebff;}#sk-container-id-6 div.sk-serial::before {content: \"\";position: absolute;border-left: 1px solid gray;box-sizing: border-box;top: 0;bottom: 0;left: 50%;z-index: 0;}#sk-container-id-6 div.sk-serial {display: flex;flex-direction: column;align-items: center;background-color: white;padding-right: 0.2em;padding-left: 0.2em;position: relative;}#sk-container-id-6 div.sk-item {position: relative;z-index: 1;}#sk-container-id-6 div.sk-parallel {display: flex;align-items: stretch;justify-content: center;background-color: white;position: relative;}#sk-container-id-6 div.sk-item::before, #sk-container-id-6 div.sk-parallel-item::before {content: \"\";position: absolute;border-left: 1px solid gray;box-sizing: border-box;top: 0;bottom: 0;left: 50%;z-index: -1;}#sk-container-id-6 div.sk-parallel-item {display: flex;flex-direction: column;z-index: 1;position: relative;background-color: white;}#sk-container-id-6 div.sk-parallel-item:first-child::after {align-self: flex-end;width: 50%;}#sk-container-id-6 div.sk-parallel-item:last-child::after {align-self: flex-start;width: 50%;}#sk-container-id-6 div.sk-parallel-item:only-child::after {width: 0;}#sk-container-id-6 div.sk-dashed-wrapped {border: 1px dashed gray;margin: 0 0.4em 0.5em 0.4em;box-sizing: border-box;padding-bottom: 0.4em;background-color: white;}#sk-container-id-6 div.sk-label label {font-family: monospace;font-weight: bold;display: inline-block;line-height: 1.2em;}#sk-container-id-6 div.sk-label-container {text-align: center;}#sk-container-id-6 div.sk-container {/* jupyter's `normalize.less` sets `[hidden] { display: none; }` but bootstrap.min.css set `[hidden] { display: none !important; }` so we also need the `!important` here to be able to override the default hidden behavior on the sphinx rendered scikit-learn.org. See: https://github.com/scikit-learn/scikit-learn/issues/21755 */display: inline-block !important;position: relative;}#sk-container-id-6 div.sk-text-repr-fallback {display: none;}</style><div id=\"sk-container-id-6\" class=\"sk-top-container\"><div class=\"sk-text-repr-fallback\"><pre>RandomForestRegressor(max_features=10, verbose=True)</pre><b>In a Jupyter environment, please rerun this cell to show the HTML representation or trust the notebook. <br />On GitHub, the HTML representation is unable to render, please try loading this page with nbviewer.org.</b></div><div class=\"sk-container\" hidden><div class=\"sk-item\"><div class=\"sk-estimator sk-toggleable\"><input class=\"sk-toggleable__control sk-hidden--visually\" id=\"sk-estimator-id-6\" type=\"checkbox\" checked><label for=\"sk-estimator-id-6\" class=\"sk-toggleable__label sk-toggleable__label-arrow\">RandomForestRegressor</label><div class=\"sk-toggleable__content\"><pre>RandomForestRegressor(max_features=10, verbose=True)</pre></div></div></div></div></div>"
     },
     "execution_count": 31,
     "metadata": {},
     "output_type": "execute_result"
    }
   ],
   "source": [
    "forest = RandomForestRegressor(verbose=True, n_estimators=100, max_features=10)\n",
    "forest.fit(X_train, y_train)"
   ]
  },
  {
   "cell_type": "code",
   "execution_count": 32,
   "metadata": {
    "ExecuteTime": {
     "end_time": "2024-03-25T18:41:31.880315200Z",
     "start_time": "2024-03-25T18:41:31.431916800Z"
    }
   },
   "outputs": [
    {
     "name": "stderr",
     "output_type": "stream",
     "text": [
      "[Parallel(n_jobs=1)]: Using backend SequentialBackend with 1 concurrent workers.\n"
     ]
    },
    {
     "name": "stdout",
     "output_type": "stream",
     "text": [
      "Score in the training set: 0.9874192740998712\n",
      "Score in the test set: 0.8524516150566845\n"
     ]
    },
    {
     "name": "stderr",
     "output_type": "stream",
     "text": [
      "[Parallel(n_jobs=1)]: Done 100 out of 100 | elapsed:    0.2s finished\n",
      "[Parallel(n_jobs=1)]: Using backend SequentialBackend with 1 concurrent workers.\n",
      "[Parallel(n_jobs=1)]: Done 100 out of 100 | elapsed:    0.0s finished\n"
     ]
    }
   ],
   "source": [
    "print(\"Score in the training set:\" , forest.score(X_train, y_train))\n",
    "print(\"Score in the test set:\" , forest.score(X_test, y_test))"
   ]
  },
  {
   "cell_type": "code",
   "outputs": [
    {
     "name": "stderr",
     "output_type": "stream",
     "text": [
      "[Parallel(n_jobs=1)]: Using backend SequentialBackend with 1 concurrent workers.\n",
      "[Parallel(n_jobs=1)]: Done 100 out of 100 | elapsed:    0.0s finished\n",
      "[Parallel(n_jobs=1)]: Using backend SequentialBackend with 1 concurrent workers.\n"
     ]
    },
    {
     "name": "stdout",
     "output_type": "stream",
     "text": [
      "542.0893225238132\n",
      "287.5428252148997\n"
     ]
    },
    {
     "name": "stderr",
     "output_type": "stream",
     "text": [
      "[Parallel(n_jobs=1)]: Done 100 out of 100 | elapsed:    0.0s finished\n"
     ]
    }
   ],
   "source": [
    "print(mean_squared_error(y_test, forest.predict(X_test), squared=False))\n",
    "print(mean_absolute_error(y_test, forest.predict(X_test)))"
   ],
   "metadata": {
    "collapsed": false,
    "ExecuteTime": {
     "end_time": "2024-03-25T18:42:11.151286300Z",
     "start_time": "2024-03-25T18:42:10.908633900Z"
    }
   },
   "execution_count": 36
  },
  {
   "cell_type": "code",
   "outputs": [
    {
     "name": "stderr",
     "output_type": "stream",
     "text": [
      "[Parallel(n_jobs=1)]: Using backend SequentialBackend with 1 concurrent workers.\n",
      "[Parallel(n_jobs=1)]: Done 100 out of 100 | elapsed:    0.2s finished\n",
      "[Parallel(n_jobs=1)]: Using backend SequentialBackend with 1 concurrent workers.\n"
     ]
    },
    {
     "name": "stdout",
     "output_type": "stream",
     "text": [
      "175.65253828529447\n",
      "71.38109677017084\n"
     ]
    },
    {
     "name": "stderr",
     "output_type": "stream",
     "text": [
      "[Parallel(n_jobs=1)]: Done 100 out of 100 | elapsed:    0.2s finished\n"
     ]
    }
   ],
   "source": [
    "print(mean_squared_error(y_train, forest.predict(X_train), squared=False))\n",
    "print(mean_absolute_error(y_train, forest.predict(X_train)))"
   ],
   "metadata": {
    "collapsed": false,
    "ExecuteTime": {
     "end_time": "2024-03-25T18:42:13.126997200Z",
     "start_time": "2024-03-25T18:42:12.447608900Z"
    }
   },
   "execution_count": 37
  },
  {
   "cell_type": "code",
   "execution_count": 17,
   "metadata": {
    "ExecuteTime": {
     "end_time": "2024-03-22T10:01:26.562206100Z",
     "start_time": "2024-03-22T10:01:24.392091900Z"
    }
   },
   "outputs": [
    {
     "name": "stderr",
     "output_type": "stream",
     "text": [
      "[Parallel(n_jobs=1)]: Using backend SequentialBackend with 1 concurrent workers.\n",
      "[Parallel(n_jobs=1)]: Done 2000 out of 2000 | elapsed:    2.0s finished\n"
     ]
    }
   ],
   "source": [
    "reals = np.array(df_unseen['pedestrians_count'])\n",
    "preds = np.array(forest.predict(df_unseen.drop(columns=['pedestrians_count', 'date'])))\n",
    "dates = np.array([datetime.strptime(d, \"%Y-%m-%d %H:%M:%S\") for d in df_unseen['date']])"
   ]
  },
  {
   "cell_type": "code",
   "execution_count": 12,
   "metadata": {
    "ExecuteTime": {
     "end_time": "2024-03-22T09:52:54.761108700Z",
     "start_time": "2024-03-22T09:52:54.592283900Z"
    }
   },
   "outputs": [],
   "source": [
    "%matplotlib tk\n",
    "matplotlib.use(\"TkAgg\")\n",
    "plt.figure()\n",
    "plt.plot(dates, reals)\n",
    "plt.plot(dates, preds)\n",
    "plt.show()"
   ]
  },
  {
   "cell_type": "code",
   "execution_count": 13,
   "metadata": {
    "ExecuteTime": {
     "end_time": "2024-03-22T09:54:37.019689300Z",
     "start_time": "2024-03-22T09:54:37.009662900Z"
    }
   },
   "outputs": [
    {
     "data": {
      "text/plain": "array([ 399.36842105,  120.19444444,  654.46341463, ..., 1894.25      ,\n        979.97435897, 1532.94444444])"
     },
     "execution_count": 13,
     "metadata": {},
     "output_type": "execute_result"
    }
   ],
   "source": [
    "forest.oob_prediction_"
   ]
  }
 ],
 "metadata": {
  "kernelspec": {
   "display_name": "default_env",
   "language": "python",
   "name": "python3"
  },
  "language_info": {
   "codemirror_mode": {
    "name": "ipython",
    "version": 3
   },
   "file_extension": ".py",
   "mimetype": "text/x-python",
   "name": "python",
   "nbconvert_exporter": "python",
   "pygments_lexer": "ipython3",
   "version": "3.11.8"
  }
 },
 "nbformat": 4,
 "nbformat_minor": 2
}
