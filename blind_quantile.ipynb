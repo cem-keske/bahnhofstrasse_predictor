{
 "cells": [
  {
   "cell_type": "code",
   "execution_count": 7,
   "metadata": {
    "ExecuteTime": {
     "end_time": "2024-03-22T13:47:45.792737Z",
     "start_time": "2024-03-22T13:47:45.789478Z"
    }
   },
   "outputs": [],
   "source": [
    "import numpy as np\n",
    "import pandas as pd\n",
    "\n",
    "from datetime import datetime\n",
    "from sklearn.model_selection import train_test_split\n",
    "from sklearn.ensemble import RandomForestRegressor\n",
    "# from quantile_forest import RandomForestQuantileRegressor\n",
    "\n",
    "from is_holiday import check_holiday\n",
    "from utilites import hour_features, day_features, dayofyear_features\n",
    "\n",
    "from datetime import datetime\n",
    "import matplotlib.pyplot as plt\n",
    "import matplotlib"
   ]
  },
  {
   "cell_type": "code",
   "execution_count": null,
   "metadata": {
    "ExecuteTime": {
     "end_time": "2024-03-22T13:47:46.706357Z",
     "start_time": "2024-03-22T13:47:46.704516Z"
    }
   },
   "outputs": [],
   "source": []
  },
  {
   "cell_type": "code",
   "execution_count": 1,
   "metadata": {
    "ExecuteTime": {
     "end_time": "2024-03-22T13:47:47.403556Z",
     "start_time": "2024-03-22T13:47:47.253311Z"
    }
   },
   "outputs": [
    {
     "ename": "NameError",
     "evalue": "name 'load_and_preprocess' is not defined",
     "output_type": "error",
     "traceback": [
      "\u001B[0;31m---------------------------------------------------------------------------\u001B[0m",
      "\u001B[0;31mNameError\u001B[0m                                 Traceback (most recent call last)",
      "Cell \u001B[0;32mIn[1], line 2\u001B[0m\n\u001B[1;32m      1\u001B[0m path \u001B[38;5;241m=\u001B[39m \u001B[38;5;124m'\u001B[39m\u001B[38;5;124mdata/hystreet_fussgaengerfrequenzen_seit2021.csv\u001B[39m\u001B[38;5;124m'\u001B[39m\n\u001B[0;32m----> 2\u001B[0m df \u001B[38;5;241m=\u001B[39m \u001B[43mload_and_preprocess\u001B[49m(path)\n\u001B[1;32m      3\u001B[0m df \u001B[38;5;241m=\u001B[39m df\u001B[38;5;241m.\u001B[39mloc[df[\u001B[38;5;124m'\u001B[39m\u001B[38;5;124mlocation_id\u001B[39m\u001B[38;5;124m'\u001B[39m] \u001B[38;5;241m==\u001B[39m \u001B[38;5;241m330\u001B[39m]\n\u001B[1;32m      5\u001B[0m df\n",
      "\u001B[0;31mNameError\u001B[0m: name 'load_and_preprocess' is not defined"
     ]
    }
   ],
   "source": [
    "path = 'data/hystreet_fussgaengerfrequenzen_seit2021.csv'\n",
    "df = load_and_preprocess(path)\n",
    "df = df.loc[df['location_id'] == 330]\n",
    "\n",
    "df"
   ]
  },
  {
   "cell_type": "code",
   "outputs": [
    {
     "ename": "NameError",
     "evalue": "name 'plt' is not defined",
     "output_type": "error",
     "traceback": [
      "\u001B[0;31m---------------------------------------------------------------------------\u001B[0m",
      "\u001B[0;31mNameError\u001B[0m                                 Traceback (most recent call last)",
      "Cell \u001B[0;32mIn[2], line 2\u001B[0m\n\u001B[1;32m      1\u001B[0m get_ipython()\u001B[38;5;241m.\u001B[39mrun_line_magic(\u001B[38;5;124m'\u001B[39m\u001B[38;5;124mmatplotlib\u001B[39m\u001B[38;5;124m'\u001B[39m, \u001B[38;5;124m'\u001B[39m\u001B[38;5;124mtk\u001B[39m\u001B[38;5;124m'\u001B[39m)\n\u001B[0;32m----> 2\u001B[0m \u001B[43mplt\u001B[49m\u001B[38;5;241m.\u001B[39mplot(pd\u001B[38;5;241m.\u001B[39mto_datetime(df[\u001B[38;5;124m'\u001B[39m\u001B[38;5;124mdate\u001B[39m\u001B[38;5;124m'\u001B[39m]), df[\u001B[38;5;124m'\u001B[39m\u001B[38;5;124mpedestrians_count\u001B[39m\u001B[38;5;124m'\u001B[39m])\n\u001B[1;32m      3\u001B[0m plt\u001B[38;5;241m.\u001B[39mshow()\n",
      "\u001B[0;31mNameError\u001B[0m: name 'plt' is not defined"
     ]
    }
   ],
   "source": [
    "%matplotlib tk\n",
    "plt.plot(pd.to_datetime(df['date']), df['pedestrians_count'])\n",
    "plt.show()"
   ],
   "metadata": {
    "collapsed": false,
    "ExecuteTime": {
     "end_time": "2024-03-22T13:47:48.616288Z",
     "start_time": "2024-03-22T13:47:48.095426Z"
    }
   },
   "execution_count": 2
  },
  {
   "cell_type": "code",
   "execution_count": 6,
   "metadata": {
    "ExecuteTime": {
     "end_time": "2024-03-22T13:17:39.118762Z",
     "start_time": "2024-03-22T13:17:39.019136Z"
    }
   },
   "outputs": [
    {
     "ename": "NameError",
     "evalue": "name 'df_seen' is not defined",
     "output_type": "error",
     "traceback": [
      "\u001B[0;31m---------------------------------------------------------------------------\u001B[0m",
      "\u001B[0;31mNameError\u001B[0m                                 Traceback (most recent call last)",
      "Cell \u001B[0;32mIn[6], line 3\u001B[0m\n\u001B[1;32m      1\u001B[0m matplotlib\u001B[38;5;241m.\u001B[39muse(\u001B[38;5;124m\"\u001B[39m\u001B[38;5;124mTkAgg\u001B[39m\u001B[38;5;124m\"\u001B[39m)\n\u001B[1;32m      2\u001B[0m plt\u001B[38;5;241m.\u001B[39mfigure()\n\u001B[0;32m----> 3\u001B[0m plt\u001B[38;5;241m.\u001B[39mplot([datetime\u001B[38;5;241m.\u001B[39mstrptime(d, \u001B[38;5;124m\"\u001B[39m\u001B[38;5;124m%\u001B[39m\u001B[38;5;124mY-\u001B[39m\u001B[38;5;124m%\u001B[39m\u001B[38;5;124mm-\u001B[39m\u001B[38;5;132;01m%d\u001B[39;00m\u001B[38;5;124m \u001B[39m\u001B[38;5;124m%\u001B[39m\u001B[38;5;124mH:\u001B[39m\u001B[38;5;124m%\u001B[39m\u001B[38;5;124mM:\u001B[39m\u001B[38;5;124m%\u001B[39m\u001B[38;5;124mS\u001B[39m\u001B[38;5;124m\"\u001B[39m) \u001B[38;5;28;01mfor\u001B[39;00m d \u001B[38;5;129;01min\u001B[39;00m \u001B[43mdf_seen\u001B[49m[\u001B[38;5;124m'\u001B[39m\u001B[38;5;124mdate\u001B[39m\u001B[38;5;124m'\u001B[39m]], df_seen[\u001B[38;5;124m'\u001B[39m\u001B[38;5;124mpedestrians_count\u001B[39m\u001B[38;5;124m'\u001B[39m])\n\u001B[1;32m      4\u001B[0m plt\u001B[38;5;241m.\u001B[39mshow()\n\u001B[1;32m      6\u001B[0m plt\u001B[38;5;241m.\u001B[39mfigure()\n",
      "\u001B[0;31mNameError\u001B[0m: name 'df_seen' is not defined"
     ]
    }
   ],
   "source": [
    "\n",
    "matplotlib.use(\"TkAgg\")\n",
    "plt.figure()\n",
    "plt.plot([datetime.strptime(d, \"%Y-%m-%d %H:%M:%S\") for d in df_seen['date']], df_seen['pedestrians_count'])\n",
    "plt.show()\n",
    "\n",
    "plt.figure()\n",
    "plt.hist(df_seen['pedestrians_count'], bins=50)\n",
    "plt.show()\n",
    "\n",
    "window_size = 24*365  # You can adjust this as needed\n",
    "m_avg = df_seen['pedestrians_count'].rolling(window=window_size, center=True).mean()\n",
    "\n",
    "# Plot original data and centered moving average\n",
    "plt.figure()\n",
    "plt.plot([datetime.strptime(d, \"%Y-%m-%d %H:%M:%S\") for d in df_seen['date']], df_seen['pedestrians_count'], label='Pedestrians Count')\n",
    "plt.plot([datetime.strptime(d, \"%Y-%m-%d %H:%M:%S\") for d in df_seen['date']], m_avg, label='Moving Average', linestyle='--')\n",
    "plt.xlabel('Date')\n",
    "plt.ylabel('Pedestrians Count')\n",
    "plt.title('Pedestrians Count with Centered Moving Average')\n",
    "plt.legend()\n",
    "plt.show()\n",
    "\n",
    "df_seen = df_seen.drop(columns='location_id')\n",
    "\n",
    "# Temporary drop date\n",
    "df_seen['holiday'] = df_seen.apply(lambda row: check_holiday(row['date']), axis = 1)\n",
    "\n",
    "df_seen['time_cos'] = df_seen.apply(lambda row: hour_features(row['date'])[0], axis = 1)\n",
    "df_seen['time_sin'] = df_seen.apply(lambda row: hour_features(row['date'])[1], axis = 1)\n",
    "\n",
    "df_seen['day_cos'] = df_seen.apply(lambda row: day_features(row['date'])[0], axis = 1)\n",
    "df_seen['day_sin'] = df_seen.apply(lambda row: day_features(row['date'])[1], axis = 1)\n",
    "\n",
    "df_seen['dayofyear_cos'] = df_seen.apply(lambda row: dayofyear_features(row['date'])[0], axis = 1)\n",
    "df_seen['dayofyear_sin'] = df_seen.apply(lambda row: dayofyear_features(row['date'])[1], axis = 1)\n",
    "\n",
    "df_unseen = df_seen[[datetime.strptime(d, '%Y-%m-%d %H:%M:%S') <= datetime(2022, 5, 5) for d in df_seen['date']]]\n",
    "df_seen = df_seen[[datetime.strptime(d, '%Y-%m-%d %H:%M:%S') > datetime(2022, 5, 5) for d in df_seen['date']]]\n",
    "df_mid_old = df_seen.copy()\n",
    "\n",
    "df_seen = df_seen.drop(columns='date')\n",
    "# df_mid['date'][0].split()\n",
    "# \n",
    "df_seen"
   ]
  },
  {
   "cell_type": "code",
   "execution_count": 24,
   "metadata": {
    "ExecuteTime": {
     "end_time": "2024-03-22T10:12:07.758739900Z",
     "start_time": "2024-03-22T10:12:07.745002900Z"
    }
   },
   "outputs": [],
   "source": [
    "train, test = train_test_split(df_seen, test_size=0.2)"
   ]
  },
  {
   "cell_type": "code",
   "execution_count": 23,
   "metadata": {
    "ExecuteTime": {
     "end_time": "2024-03-22T10:12:07.752741400Z",
     "start_time": "2024-03-22T10:11:27.434141300Z"
    }
   },
   "outputs": [
    {
     "name": "stderr",
     "output_type": "stream",
     "text": [
      "[Parallel(n_jobs=1)]: Using backend SequentialBackend with 1 concurrent workers.\n",
      "[Parallel(n_jobs=1)]: Done 300 out of 300 | elapsed:   25.3s finished\n",
      "[Parallel(n_jobs=1)]: Using backend SequentialBackend with 1 concurrent workers.\n",
      "[Parallel(n_jobs=1)]: Done 300 out of 300 | elapsed:    0.7s finished\n"
     ]
    },
    {
     "data": {
      "text/plain": "RandomForestQuantileRegressor(n_estimators=300, oob_score=True, random_state=42,\n                              verbose=True)",
      "text/html": "<style>#sk-container-id-3 {color: black;}#sk-container-id-3 pre{padding: 0;}#sk-container-id-3 div.sk-toggleable {background-color: white;}#sk-container-id-3 label.sk-toggleable__label {cursor: pointer;display: block;width: 100%;margin-bottom: 0;padding: 0.3em;box-sizing: border-box;text-align: center;}#sk-container-id-3 label.sk-toggleable__label-arrow:before {content: \"▸\";float: left;margin-right: 0.25em;color: #696969;}#sk-container-id-3 label.sk-toggleable__label-arrow:hover:before {color: black;}#sk-container-id-3 div.sk-estimator:hover label.sk-toggleable__label-arrow:before {color: black;}#sk-container-id-3 div.sk-toggleable__content {max-height: 0;max-width: 0;overflow: hidden;text-align: left;background-color: #f0f8ff;}#sk-container-id-3 div.sk-toggleable__content pre {margin: 0.2em;color: black;border-radius: 0.25em;background-color: #f0f8ff;}#sk-container-id-3 input.sk-toggleable__control:checked~div.sk-toggleable__content {max-height: 200px;max-width: 100%;overflow: auto;}#sk-container-id-3 input.sk-toggleable__control:checked~label.sk-toggleable__label-arrow:before {content: \"▾\";}#sk-container-id-3 div.sk-estimator input.sk-toggleable__control:checked~label.sk-toggleable__label {background-color: #d4ebff;}#sk-container-id-3 div.sk-label input.sk-toggleable__control:checked~label.sk-toggleable__label {background-color: #d4ebff;}#sk-container-id-3 input.sk-hidden--visually {border: 0;clip: rect(1px 1px 1px 1px);clip: rect(1px, 1px, 1px, 1px);height: 1px;margin: -1px;overflow: hidden;padding: 0;position: absolute;width: 1px;}#sk-container-id-3 div.sk-estimator {font-family: monospace;background-color: #f0f8ff;border: 1px dotted black;border-radius: 0.25em;box-sizing: border-box;margin-bottom: 0.5em;}#sk-container-id-3 div.sk-estimator:hover {background-color: #d4ebff;}#sk-container-id-3 div.sk-parallel-item::after {content: \"\";width: 100%;border-bottom: 1px solid gray;flex-grow: 1;}#sk-container-id-3 div.sk-label:hover label.sk-toggleable__label {background-color: #d4ebff;}#sk-container-id-3 div.sk-serial::before {content: \"\";position: absolute;border-left: 1px solid gray;box-sizing: border-box;top: 0;bottom: 0;left: 50%;z-index: 0;}#sk-container-id-3 div.sk-serial {display: flex;flex-direction: column;align-items: center;background-color: white;padding-right: 0.2em;padding-left: 0.2em;position: relative;}#sk-container-id-3 div.sk-item {position: relative;z-index: 1;}#sk-container-id-3 div.sk-parallel {display: flex;align-items: stretch;justify-content: center;background-color: white;position: relative;}#sk-container-id-3 div.sk-item::before, #sk-container-id-3 div.sk-parallel-item::before {content: \"\";position: absolute;border-left: 1px solid gray;box-sizing: border-box;top: 0;bottom: 0;left: 50%;z-index: -1;}#sk-container-id-3 div.sk-parallel-item {display: flex;flex-direction: column;z-index: 1;position: relative;background-color: white;}#sk-container-id-3 div.sk-parallel-item:first-child::after {align-self: flex-end;width: 50%;}#sk-container-id-3 div.sk-parallel-item:last-child::after {align-self: flex-start;width: 50%;}#sk-container-id-3 div.sk-parallel-item:only-child::after {width: 0;}#sk-container-id-3 div.sk-dashed-wrapped {border: 1px dashed gray;margin: 0 0.4em 0.5em 0.4em;box-sizing: border-box;padding-bottom: 0.4em;background-color: white;}#sk-container-id-3 div.sk-label label {font-family: monospace;font-weight: bold;display: inline-block;line-height: 1.2em;}#sk-container-id-3 div.sk-label-container {text-align: center;}#sk-container-id-3 div.sk-container {/* jupyter's `normalize.less` sets `[hidden] { display: none; }` but bootstrap.min.css set `[hidden] { display: none !important; }` so we also need the `!important` here to be able to override the default hidden behavior on the sphinx rendered scikit-learn.org. See: https://github.com/scikit-learn/scikit-learn/issues/21755 */display: inline-block !important;position: relative;}#sk-container-id-3 div.sk-text-repr-fallback {display: none;}</style><div id=\"sk-container-id-3\" class=\"sk-top-container\"><div class=\"sk-text-repr-fallback\"><pre>RandomForestQuantileRegressor(n_estimators=300, oob_score=True, random_state=42,\n                              verbose=True)</pre><b>In a Jupyter environment, please rerun this cell to show the HTML representation or trust the notebook. <br />On GitHub, the HTML representation is unable to render, please try loading this page with nbviewer.org.</b></div><div class=\"sk-container\" hidden><div class=\"sk-item\"><div class=\"sk-estimator sk-toggleable\"><input class=\"sk-toggleable__control sk-hidden--visually\" id=\"sk-estimator-id-3\" type=\"checkbox\" checked><label for=\"sk-estimator-id-3\" class=\"sk-toggleable__label sk-toggleable__label-arrow\">RandomForestQuantileRegressor</label><div class=\"sk-toggleable__content\"><pre>RandomForestQuantileRegressor(n_estimators=300, oob_score=True, random_state=42,\n                              verbose=True)</pre></div></div></div></div></div>"
     },
     "execution_count": 23,
     "metadata": {},
     "output_type": "execute_result"
    }
   ],
   "source": [
    "forest = RandomForestQuantileRegressor(verbose=True, oob_score=True, n_estimators=300, random_state=42)\n",
    "forest.fit(train.drop(columns='pedestrians_count'), train['pedestrians_count'])"
   ]
  },
  {
   "cell_type": "code",
   "execution_count": 27,
   "metadata": {
    "ExecuteTime": {
     "end_time": "2024-03-22T10:12:50.859478600Z",
     "start_time": "2024-03-22T10:12:50.516512300Z"
    }
   },
   "outputs": [
    {
     "name": "stderr",
     "output_type": "stream",
     "text": [
      "C:\\Users\\cemke\\anaconda3\\Lib\\site-packages\\sklearn\\base.py:457: UserWarning: X has feature names, but RandomForestQuantileRegressor was fitted without feature names\n",
      "  warnings.warn(\n",
      "[Parallel(n_jobs=1)]: Using backend SequentialBackend with 1 concurrent workers.\n",
      "[Parallel(n_jobs=1)]: Done 300 out of 300 | elapsed:    0.2s finished\n"
     ]
    },
    {
     "data": {
      "text/plain": "0.7059317320345434"
     },
     "execution_count": 27,
     "metadata": {},
     "output_type": "execute_result"
    }
   ],
   "source": [
    "forest.score(test.drop(columns='pedestrians_count'), test['pedestrians_count'])"
   ]
  },
  {
   "cell_type": "code",
   "outputs": [
    {
     "name": "stderr",
     "output_type": "stream",
     "text": [
      "C:\\Users\\cemke\\anaconda3\\Lib\\site-packages\\sklearn\\base.py:457: UserWarning: X has feature names, but RandomForestQuantileRegressor was fitted without feature names\n",
      "  warnings.warn(\n",
      "[Parallel(n_jobs=1)]: Using backend SequentialBackend with 1 concurrent workers.\n",
      "[Parallel(n_jobs=1)]: Done 300 out of 300 | elapsed:    0.2s finished\n"
     ]
    },
    {
     "data": {
      "text/plain": "0.7212427733243196"
     },
     "execution_count": 28,
     "metadata": {},
     "output_type": "execute_result"
    }
   ],
   "source": [
    "forest.score(df_unseen.drop(columns=['pedestrians_count', 'date']), df_unseen['pedestrians_count'])"
   ],
   "metadata": {
    "collapsed": false,
    "ExecuteTime": {
     "end_time": "2024-03-22T10:12:52.006409Z",
     "start_time": "2024-03-22T10:12:51.637319400Z"
    }
   },
   "execution_count": 28
  },
  {
   "cell_type": "code",
   "outputs": [],
   "source": [],
   "metadata": {
    "collapsed": false,
    "ExecuteTime": {
     "end_time": "2024-03-22T09:52:44.595301400Z",
     "start_time": "2024-03-22T09:52:44.589296Z"
    }
   },
   "execution_count": 10
  },
  {
   "cell_type": "code",
   "outputs": [],
   "source": [],
   "metadata": {
    "collapsed": false
   }
  },
  {
   "cell_type": "code",
   "execution_count": 29,
   "metadata": {
    "ExecuteTime": {
     "end_time": "2024-03-22T10:12:58.026814700Z",
     "start_time": "2024-03-22T10:12:56.881040900Z"
    }
   },
   "outputs": [
    {
     "name": "stderr",
     "output_type": "stream",
     "text": [
      "C:\\Users\\cemke\\anaconda3\\Lib\\site-packages\\sklearn\\base.py:457: UserWarning: X has feature names, but RandomForestQuantileRegressor was fitted without feature names\n",
      "  warnings.warn(\n",
      "[Parallel(n_jobs=1)]: Using backend SequentialBackend with 1 concurrent workers.\n",
      "[Parallel(n_jobs=1)]: Done 300 out of 300 | elapsed:    0.2s finished\n",
      "C:\\Users\\cemke\\anaconda3\\Lib\\site-packages\\sklearn\\base.py:457: UserWarning: X has feature names, but RandomForestQuantileRegressor was fitted without feature names\n",
      "  warnings.warn(\n",
      "[Parallel(n_jobs=1)]: Using backend SequentialBackend with 1 concurrent workers.\n",
      "[Parallel(n_jobs=1)]: Done 300 out of 300 | elapsed:    0.2s finished\n",
      "C:\\Users\\cemke\\anaconda3\\Lib\\site-packages\\sklearn\\base.py:457: UserWarning: X has feature names, but RandomForestQuantileRegressor was fitted without feature names\n",
      "  warnings.warn(\n",
      "[Parallel(n_jobs=1)]: Using backend SequentialBackend with 1 concurrent workers.\n",
      "[Parallel(n_jobs=1)]: Done 300 out of 300 | elapsed:    0.2s finished\n"
     ]
    }
   ],
   "source": [
    "reals = np.array(df_unseen['pedestrians_count'])\n",
    "preds = np.array(forest.predict(df_unseen.drop(columns=['pedestrians_count', 'date']),quantiles=[0.5]))\n",
    "preds_up = np.array(forest.predict(df_unseen.drop(columns=['pedestrians_count', 'date']),quantiles=[0.95]))\n",
    "preds_down = np.array(forest.predict(df_unseen.drop(columns=['pedestrians_count', 'date']),quantiles=[0.05]))\n",
    "dates = np.array([datetime.strptime(d, \"%Y-%m-%d %H:%M:%S\") for d in df_unseen['date']])"
   ]
  },
  {
   "cell_type": "code",
   "execution_count": 30,
   "metadata": {
    "ExecuteTime": {
     "end_time": "2024-03-22T10:13:02.076892600Z",
     "start_time": "2024-03-22T10:13:01.895187600Z"
    }
   },
   "outputs": [],
   "source": [
    "%matplotlib tk\n",
    "matplotlib.use(\"TkAgg\")\n",
    "plt.figure()\n",
    "plt.plot(dates, reals, \"r\")\n",
    "#plt.plot(dates, preds, \"k\")\n",
    "plt.plot(dates, preds_up, \"k--\")\n",
    "plt.plot(dates, preds_down, \"k--\")\n",
    "plt.show()"
   ]
  },
  {
   "cell_type": "code",
   "execution_count": 13,
   "metadata": {
    "ExecuteTime": {
     "end_time": "2024-03-22T09:54:37.019689300Z",
     "start_time": "2024-03-22T09:54:37.009662900Z"
    }
   },
   "outputs": [
    {
     "data": {
      "text/plain": "array([ 399.36842105,  120.19444444,  654.46341463, ..., 1894.25      ,\n        979.97435897, 1532.94444444])"
     },
     "execution_count": 13,
     "metadata": {},
     "output_type": "execute_result"
    }
   ],
   "source": [
    "forest.oob_prediction_"
   ]
  }
 ],
 "metadata": {
  "kernelspec": {
   "display_name": "default_env",
   "language": "python",
   "name": "python3"
  },
  "language_info": {
   "codemirror_mode": {
    "name": "ipython",
    "version": 3
   },
   "file_extension": ".py",
   "mimetype": "text/x-python",
   "name": "python",
   "nbconvert_exporter": "python",
   "pygments_lexer": "ipython3",
   "version": "3.11.8"
  }
 },
 "nbformat": 4,
 "nbformat_minor": 2
}
